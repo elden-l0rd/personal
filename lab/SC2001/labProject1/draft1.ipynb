{
  "cells": [
    {
      "cell_type": "markdown",
      "metadata": {
        "id": "waf8Pr6pMQdD"
      },
      "source": [
        "# SC2001/CE2101/CZ2101 ALGORITHM DESIGN AND ANALYSIS\n",
        "\n",
        "## Project 1: Integration of Mergesort & Insertion Sort\n",
        "\n",
        "In Mergesort, when the sizes of subarrays are small, the overhead of many recursive calls makes the algorithm inefficient. Therefore, in real use, we often combine Mergesort with Insertion Sort to come up with a hybrid sorting algorithm for better efficiency. The idea is to set a small integer $S$ as a threshold for the size of subarrays. Once the size of a subarray in a recursive call of Mergesort is less than or equal to $S$, the algorithm will switch to Insertion Sort, which is efficient for small-sized input.\n",
        "\n",
        "(a) **Algorithm implementation**: Implement the above hybrid algorithm."
      ]
    },
    {
      "cell_type": "code",
      "execution_count": null,
      "metadata": {
        "id": "o2uz3UV11Tfp"
      },
      "outputs": [],
      "source": [
        "def insertionSort(n, m):\n",
        "  for i in range(n+1, m):\n",
        "    for j in range(i, n, -1):\n",
        "      if L[j] < L[j-1]: L[j], L[j-1] = L[j-1], L[j]\n",
        "      else: break"
      ]
    },
    {
      "cell_type": "code",
      "execution_count": null,
      "metadata": {
        "id": "4KrcqKa-VA70"
      },
      "outputs": [],
      "source": [
        "def merge(n, m):\n",
        "  if m-n <= 0: return L\n",
        "  mid = n + (m-n)//2\n",
        "  a, b = n, mid+1\n",
        "  # up to this is true\n",
        "  while a <= mid and b <= m:\n",
        "    if L[a] < L[b]:\n",
        "      a += 1\n",
        "    elif L[a] > L[b]: # TO DO: write one-liner code\n",
        "      temp = L[b]\n",
        "      for i in range(b, a, -1):\n",
        "        L[i] = L[i-1]\n",
        "      L[a] = temp\n",
        "      a += 1\n",
        "      b += 1\n",
        "      mid += 1\n",
        "    else: # L[a] == L[b]\n",
        "      if a == mid and b == m: break\n",
        "      a += 1\n",
        "      temp = L[b]\n",
        "      for i in range(b, a, -1): \n",
        "        L[i] = L[i-1]\n",
        "      L[a] = temp\n",
        "      a += 1\n",
        "      b += 1\n",
        "      mid += 1\n",
        "\n",
        "def mergeSort(n, m):\n",
        "  mid = n + (m-n)//2\n",
        "  if m-n <= 0: return\n",
        "  else: # m-n >= 1\n",
        "    mergeSort(n, mid)\n",
        "    mergeSort(mid+1, m)\n",
        "  merge(n, m)"
      ]
    },
    {
      "cell_type": "code",
      "execution_count": null,
      "metadata": {
        "id": "S8AHomriMFs9"
      },
      "outputs": [],
      "source": [
        "def switchSort(n, m): # TO DO: find the threshold S\n",
        "  S=100 #fix S=100 first\n",
        "  if m-n > S: mergeSort(n, m)\n",
        "  else: insertionSort(n, m)"
      ]
    },
    {
      "cell_type": "code",
      "execution_count": null,
      "metadata": {
        "id": "n_udW3Kf5jHY"
      },
      "outputs": [],
      "source": [
        "import time\n",
        "import random\n",
        "\n",
        "L = random.sample(range(-10**10, 10**10), 10**4)\n",
        "\n",
        "st = time.process_time()\n",
        "switchSort(0, 10**4-1)\n",
        "et = time.process_time()\n",
        "\n",
        "#print(L, et-st)"
      ]
    },
    {
      "cell_type": "markdown",
      "metadata": {
        "id": "PqcUozGqMPzz"
      },
      "source": [
        "(b) **Generate input data**: Generate arrays of increasing sizes, in a range from 1,000 to 10 million. For each of the sizes, generate a random dataset of integers in the range of $[1, …, x]$, where $x$ is the largest number you allow for your\n",
        "datasets."
      ]
    },
    {
      "cell_type": "code",
      "execution_count": null,
      "metadata": {
        "id": "PCmLjN1bMQv8"
      },
      "outputs": [],
      "source": [
        "import random\n",
        "\n",
        "def generate(N):\n",
        "  L_arr = random.sample(range(1,10**10), N)\n",
        "  return L_arr"
      ]
    },
    {
      "cell_type": "markdown",
      "metadata": {
        "id": "GKyqyfrlXSHe"
      },
      "source": []
    },
    {
      "cell_type": "markdown",
      "metadata": {
        "id": "miArP8CAfXDw"
      },
      "source": [
        "(c) Analyze time complexity: Run your program of the hybrid algorithm on the datasets generated in Step (b). Record the number of key comparisons performed in each case.\n",
        "\n",
        "i. With the value of $S$ fixed, plot the number of key comparisons over different sizes of the input list $n$. Compare your empirical results with your theoretical analysis of the time complexity.\n",
        "\n",
        "ii. With the input size $n$ fixed, plot the number of key comparisons over different values of $S$. Compare your empirical results with your theoretical analysis of the time complexity.\n",
        "\n",
        "iii. Using different sizes of input datasets, study how to determine an optimal value of $S$ for the best performance of this hybrid algorithm.\n"
      ]
    },
    {
      "cell_type": "markdown",
      "metadata": {
        "id": "CHBkWU2OR-os"
      },
      "source": [
        "We redefine the function `merge` and `mergeSort` to add counter `key_comparison`."
      ]
    },
    {
      "cell_type": "code",
      "execution_count": null,
      "metadata": {
        "id": "V1irv1QwRA4y"
      },
      "outputs": [],
      "source": [
        "S=0\n",
        "def merge(n, m):\n",
        "  key_comparison = 0\n",
        "  if m-n <= 0: return 0\n",
        "  mid = n + (m-n)//2\n",
        "  a, b = n, mid+1\n",
        "  while a <= mid and b <= m:\n",
        "    if L[a] < L[b]:\n",
        "      a += 1\n",
        "    elif L[a] > L[b]: # TO DO: write one-liner code\n",
        "      temp = L[b]\n",
        "      for i in range(b, a, -1):\n",
        "        L[i] = L[i-1]\n",
        "      L[a] = temp\n",
        "      a += 1\n",
        "      b += 1\n",
        "      mid += 1\n",
        "    else: # L[a] == L[b]\n",
        "      if a == mid and b == m: break\n",
        "      a += 1\n",
        "      temp = L[b]\n",
        "      for i in range(b, a, -1): \n",
        "        L[i] = L[i-1]\n",
        "      L[a] = temp\n",
        "      a += 1\n",
        "      b += 1\n",
        "      mid += 1\n",
        "    key_comparison += 1\n",
        "  return key_comparison\n",
        "\n",
        "def mergeSort(n, m, S):\n",
        "  mid = n + (m-n)//2\n",
        "  if m-n <= 0:\n",
        "    return 0\n",
        "  elif (mid-n<S):\n",
        "    key_comp1 = insertionSort(n,mid)\n",
        "    key_comp2 = insertionSort(mid+1,m)\n",
        "    return key_comp1+key_comp2\n",
        "  else: # m-n >= 1\n",
        "    key_comparison_l = mergeSort(n, mid, S)\n",
        "    key_comparison_r = mergeSort(mid+1, m, S)\n",
        "  key_comparison_merge = merge(n, m)\n",
        "  return key_comparison_l + key_comparison_r + key_comparison_merge\n",
        "\n",
        "def insertionSort(n, m):\n",
        "  key_comparison_is=0\n",
        "  for i in range(n+1, m):\n",
        "    for j in range(i, n, -1):\n",
        "      if L[j] < L[j-1]:\n",
        "        L[j], L[j-1] = L[j-1], L[j]\n",
        "        key_comparison_is+=1\n",
        "      else: break\n",
        "  return key_comparison_is\n",
        "\n",
        "def switchSort(n, m, S):\n",
        "  keycomp_total=0\n",
        "  if m-n > S: keycomp_total += mergeSort(n, m, S) #wrong! compare subarray size instead\n",
        "  else: keycomp_total += insertionSort(n, m)\n",
        "  return keycomp_total"
      ]
    },
    {
      "cell_type": "code",
      "execution_count": null,
      "metadata": {},
      "outputs": [],
      "source": [
        "from multiprocessing import Pool\n",
        "import time\n",
        "import math\n",
        "\n",
        "N = 50\n",
        "\n",
        "def cube(x):\n",
        "    return math.sqrt(x)\n",
        "\n",
        "if __name__ == \"__main__\":\n",
        "    # first way, using multiprocessing\n",
        "    start_time = time.perf_counter()\n",
        "    with Pool() as pool:\n",
        "      result = pool.map(cube, range(10,N))\n",
        "    finish_time = time.perf_counter()\n",
        "    print(\"Program finished in {} seconds - using multiprocessing\".format(finish_time-start_time))\n",
        "    print(\"---\")\n",
        "    # second way, serial computation\n",
        "    start_time = time.perf_counter()\n",
        "    result = []\n",
        "    for x in range(10,N):\n",
        "      result.append(cube(x))\n",
        "    finish_time = time.perf_counter()\n",
        "    print(\"Program finished in {} seconds\".format(finish_time-start_time))"
      ]
    },
    {
      "cell_type": "code",
      "execution_count": null,
      "metadata": {},
      "outputs": [],
      "source": [
        "# Python program to execute\n",
        "# main directly\n",
        "print (\"Always executed\")\n",
        " \n",
        "if __name__ == \"__main__\":\n",
        "    print (\"Executed when invoked directly\")\n",
        "else:\n",
        "    print (\"Executed when imported\")"
      ]
    },
    {
      "cell_type": "code",
      "execution_count": null,
      "metadata": {},
      "outputs": [],
      "source": [
        "#combine S and n into a single matrix M[i][j]\n",
        "from distutils.util import execute\n",
        "import matplotlib.pyplot as plt\n",
        "import numpy as np\n",
        "import math\n",
        "%matplotlib inline\n",
        "from matplotlib import colors\n",
        "import seaborn as sns\n",
        "\n",
        "def excecute():\n",
        "    M = np.zeros((75,500)) # 2D array stores KEYCOMP_TOTAL\n",
        "\n",
        "    for i in range(1,75):     # Col: Array size, n;  Row: Threshold, S #\n",
        "        for j in range(1,500):\n",
        "            keycomp_total=0\n",
        "            N=i\n",
        "            L=generate(N)\n",
        "            S=j\n",
        "            if (j<=i):   #if n<=S, use n\n",
        "                M[i][j]=switchSort(0,N-1,S)\n",
        "                continue\n",
        "            keycomp_total=switchSort(0,N-1,N)\n",
        "            M[i][j] = keycomp_total\n",
        "\n",
        "    divnorm = colors.TwoSlopeNorm(vcenter=0.)\n",
        "    ax = sns.heatmap(M, linewidths=0, cmap='seismic', norm=divnorm)\n",
        "    plt.xlabel(\"Array size, n\")\n",
        "    plt.ylabel(\"Threshold, S\")\n",
        "    plt.show()"
      ]
    },
    {
      "cell_type": "code",
      "execution_count": null,
      "metadata": {
        "id": "a1cjnaqYEbNf"
      },
      "outputs": [],
      "source": [
        "#======================\n",
        "# (i) fix integer S=100\n",
        "#======================\n",
        "import matplotlib.pyplot as plt\n",
        "import numpy as np\n",
        "\n",
        "kc=[]\n",
        "N_arr=[]\n",
        "\n",
        "#def main():\n",
        "iterations=1000\n",
        "while (iterations>0): #iterate & collect data for key comparisons when varying n\n",
        "  keycomp_total=0\n",
        "  N = random.randint(10,10**2)\n",
        "  L = generate(N)\n",
        "  keycomp_total = switchSort(0,N-1,100)\n",
        "  kc.append(keycomp_total)\n",
        "  N_arr.append(N)\n",
        "  iterations-=1\n",
        "\n",
        "#if __name__==\"__main__\":\n",
        "#  main()\n",
        "\n",
        "\"\"\"\n",
        "fig, (ax1) = plt.subplots(1, 1, constrained_layout=False, figsize=(15,10))\n",
        "ax1.plot(N_arr[:],kc[:])\n",
        "ax1.set_title(\"(c)(i)\")\n",
        "ax1.set_ylabel('no. of key comparisons')\n",
        "ax1.set_xlabel('Array size, n')\n",
        "plt.show()\n",
        "\"\"\"\n",
        "fig = plt.figure(constrained_layout=True)\n",
        "ax1 = fig.subplots(1,1, squeeze=False)\n",
        "ax1.hist(kc[:])\n",
        "\n",
        "\n"
      ]
    },
    {
      "cell_type": "markdown",
      "metadata": {
        "id": "ios4toBrU2kT"
      },
      "source": [
        "(d) Compare with original Mergesort: Implement the original version of Mergesort (as learnt in lecture). Compare its performance against the above hybrid algorithm in terms of the number of key comparisons and CPU times on the dataset with 10 million integers. You can use the optimal value of $S$ obtained in (c) for this task."
      ]
    },
    {
      "cell_type": "markdown",
      "metadata": {
        "id": "vbnxyTQuEisQ"
      },
      "source": [
        "Now we have the optimal value of $S$ based on our work in (c). We want to redefine the function 'switchSort'."
      ]
    },
    {
      "cell_type": "code",
      "execution_count": null,
      "metadata": {
        "id": "1thCHdhOE6aA"
      },
      "outputs": [],
      "source": [
        "S = 0 # TO DO: find the threshold value S\n",
        "\n",
        "def switchSort(n, m): # TO DO: find the threshold S\n",
        "  if m-n > S: mergeSort(n, m)\n",
        "  else: insertionSort(n, m)"
      ]
    },
    {
      "cell_type": "code",
      "execution_count": null,
      "metadata": {
        "id": "jSfGVVcKc4m_"
      },
      "outputs": [],
      "source": [
        "import random\n",
        "import time\n",
        "\n",
        "L = random.sample(range(-10**10, 10**10), 10**7)\n",
        "\n",
        "st = time.process_time()\n",
        "mergeSort(0, 10**7-1)\n",
        "et = time.process_time()\n",
        "\n",
        "print(et-st)"
      ]
    },
    {
      "cell_type": "code",
      "execution_count": null,
      "metadata": {
        "id": "1uKu4N27RPYr"
      },
      "outputs": [],
      "source": [
        "L = [2, 3, 4, 1, 6, 7, 5, 8]\n",
        "\n",
        "print(mergeSort(0, 7, 0), L)"
      ]
    },
    {
      "cell_type": "code",
      "execution_count": null,
      "metadata": {
        "id": "oMUPJD1jShl7"
      },
      "outputs": [],
      "source": [
        "import os\n",
        "os.cpu_count()\n"
      ]
    }
  ],
  "metadata": {
    "colab": {
      "collapsed_sections": [],
      "provenance": []
    },
    "kernelspec": {
      "display_name": "Python 3.10.6 64-bit",
      "language": "python",
      "name": "python3"
    },
    "language_info": {
      "codemirror_mode": {
        "name": "ipython",
        "version": 3
      },
      "file_extension": ".py",
      "mimetype": "text/x-python",
      "name": "python",
      "nbconvert_exporter": "python",
      "pygments_lexer": "ipython3",
      "version": "3.10.6"
    },
    "vscode": {
      "interpreter": {
        "hash": "aee8b7b246df8f9039afb4144a1f6fd8d2ca17a180786b69acc140d282b71a49"
      }
    }
  },
  "nbformat": 4,
  "nbformat_minor": 0
}
