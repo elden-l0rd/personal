{
  "cells": [
    {
      "cell_type": "markdown",
      "metadata": {
        "id": "waf8Pr6pMQdD"
      },
      "source": [
        "# SC2001/CE2101/CZ2101 ALGORITHM DESIGN AND ANALYSIS\n",
        "\n",
        "## Project 1: Integration of Mergesort & Insertion Sort\n",
        "\n",
        "In Mergesort, when the sizes of subarrays are small, the overhead of many recursive calls makes the algorithm inefficient. Therefore, in real use, we often combine Mergesort with Insertion Sort to come up with a hybrid sorting algorithm for better efficiency. The idea is to set a small integer $S$ as a threshold for the size of subarrays. Once the size of a subarray in a recursive call of Mergesort is less than or equal to $S$, the algorithm will switch to Insertion Sort, which is efficient for small-sized input.\n",
        "\n",
        "(a) **Algorithm implementation**: Implement the above hybrid algorithm."
      ]
    },
    {
      "cell_type": "code",
      "execution_count": 143,
      "metadata": {
        "id": "o2uz3UV11Tfp"
      },
      "outputs": [],
      "source": [
        "def insertionSort(n, m):\n",
        "  for i in range(n+1, m):\n",
        "    for j in range(i, n, -1):\n",
        "      if L[j] < L[j-1]: L[j], L[j-1] = L[j-1], L[j]\n",
        "      else: break"
      ]
    },
    {
      "cell_type": "code",
      "execution_count": 144,
      "metadata": {
        "id": "4KrcqKa-VA70"
      },
      "outputs": [],
      "source": [
        "def merge(n, m):\n",
        "  if m-n <= 0: return L\n",
        "  mid = n + (m-n)//2\n",
        "  a, b = n, mid+1\n",
        "  # up to this is true\n",
        "  while a <= mid and b <= m:\n",
        "    if L[a] < L[b]:\n",
        "      a += 1\n",
        "    elif L[a] > L[b]: # TO DO: write one-liner code\n",
        "      temp = L[b]\n",
        "      for i in range(b, a, -1):\n",
        "        L[i] = L[i-1]\n",
        "      L[a] = temp\n",
        "      a += 1\n",
        "      b += 1\n",
        "      mid += 1\n",
        "    else: # L[a] == L[b]\n",
        "      if a == mid and b == m: break\n",
        "      a += 1\n",
        "      temp = L[b]\n",
        "      for i in range(b, a, -1): \n",
        "        L[i] = L[i-1]\n",
        "      L[a] = temp\n",
        "      a += 1\n",
        "      b += 1\n",
        "      mid += 1\n",
        "\n",
        "def mergeSort(n, m):\n",
        "  mid = n + (m-n)//2\n",
        "  if m-n <= 0: return\n",
        "  else: # m-n >= 1\n",
        "    mergeSort(n, mid)\n",
        "    mergeSort(mid+1, m)\n",
        "  merge(n, m)"
      ]
    },
    {
      "cell_type": "code",
      "execution_count": 145,
      "metadata": {
        "id": "S8AHomriMFs9"
      },
      "outputs": [],
      "source": [
        "def switchSort(n, m): # TO DO: find the threshold S\n",
        "  S=100 #fix S=100 first\n",
        "  if m-n > S: mergeSort(n, m)\n",
        "  else: insertionSort(n, m)"
      ]
    },
    {
      "cell_type": "markdown",
      "metadata": {
        "id": "PqcUozGqMPzz"
      },
      "source": [
        "(b) **Generate input data**: Generate arrays of increasing sizes, in a range from 1,000 to 10 million. For each of the sizes, generate a random dataset of integers in the range of $[1, …, x]$, where $x$ is the largest number you allow for your\n",
        "datasets."
      ]
    },
    {
      "cell_type": "code",
      "execution_count": 146,
      "metadata": {
        "id": "PCmLjN1bMQv8"
      },
      "outputs": [],
      "source": [
        "import random\n",
        "\n",
        "def generate(N): #create arrays of varying sizes and random int values\n",
        "  L_arr = random.sample(range(1,10**10), N)\n",
        "  return L_arr"
      ]
    },
    {
      "cell_type": "markdown",
      "metadata": {
        "id": "GKyqyfrlXSHe"
      },
      "source": []
    },
    {
      "cell_type": "markdown",
      "metadata": {
        "id": "miArP8CAfXDw"
      },
      "source": [
        "(c) Analyze time complexity: Run your program of the hybrid algorithm on the datasets generated in Step (b). Record the number of key comparisons performed in each case.\n",
        "\n",
        "i. With the value of $S$ fixed, plot the number of key comparisons over different sizes of the input list $n$. Compare your empirical results with your theoretical analysis of the time complexity.\n",
        "\n",
        "ii. With the input size $n$ fixed, plot the number of key comparisons over different values of $S$. Compare your empirical results with your theoretical analysis of the time complexity.\n",
        "\n",
        "iii. Using different sizes of input datasets, study how to determine an optimal value of $S$ for the best performance of this hybrid algorithm.\n"
      ]
    },
    {
      "cell_type": "markdown",
      "metadata": {
        "id": "CHBkWU2OR-os"
      },
      "source": [
        "We redefine the function `merge` and `mergeSort` to add counter `key_comparison`."
      ]
    },
    {
      "cell_type": "code",
      "execution_count": 147,
      "metadata": {
        "id": "V1irv1QwRA4y"
      },
      "outputs": [],
      "source": [
        "def merge(n, m):\n",
        "  key_comparison = 0\n",
        "  if m-n <= 0: return 0\n",
        "  mid = n + (m-n)//2\n",
        "  a, b = n, mid+1\n",
        "  while a <= mid and b <= m:\n",
        "    if L[a] < L[b]:\n",
        "      a += 1\n",
        "    elif L[a] > L[b]: # TO DO: write one-liner code\n",
        "      temp = L[b]\n",
        "      for i in range(b, a, -1):\n",
        "        L[i] = L[i-1]\n",
        "      L[a] = temp\n",
        "      a += 1\n",
        "      b += 1\n",
        "      mid += 1\n",
        "    else: # L[a] == L[b]\n",
        "      if a == mid and b == m: break\n",
        "      a += 1\n",
        "      temp = L[b]\n",
        "      for i in range(b, a, -1): \n",
        "        L[i] = L[i-1]\n",
        "      L[a] = temp\n",
        "      a += 1\n",
        "      b += 1\n",
        "      mid += 1\n",
        "    key_comparison += 1\n",
        "  return key_comparison\n",
        "\n",
        "def mergeSort(n, m):\n",
        "  mid = n + (m-n)//2\n",
        "  if m-n <= 0: return 0\n",
        "  else: # m-n >= 1\n",
        "    key_comparison_l = mergeSort(n, mid)\n",
        "    key_comparison_r = mergeSort(mid+1, m)\n",
        "  key_comparison_merge = merge(n, m)\n",
        "  keyC = key_comparison_l + key_comparison_r + key_comparison_merge\n",
        "  return keyC\n",
        "\n",
        "def insertionSort(n, m):\n",
        "  key_comparison_is=0\n",
        "  for i in range(n+1, m):\n",
        "    for j in range(i, n, -1):\n",
        "      if L[j] < L[j-1]:\n",
        "        L[j], L[j-1] = L[j-1], L[j]\n",
        "        key_comparison_is+=1\n",
        "      else: break\n",
        "  return key_comparison_is\n",
        "\n",
        "def switchSort(n, m, S):\n",
        "  keycomp_total=0\n",
        "  if m-n > S: keycomp_total += mergeSort(n, m)\n",
        "  else: keycomp_total += insertionSort(n, m)\n",
        "  return keycomp_total"
      ]
    },
    {
      "cell_type": "code",
      "execution_count": null,
      "metadata": {
        "colab": {
          "base_uri": "https://localhost:8080/"
        },
        "id": "X-sW1V7xlKeJ",
        "outputId": "593e36dd-4808-490c-c9d1-4f8d284c0eb0"
      },
      "outputs": [],
      "source": [
        "#======#\n",
        "# test #\n",
        "#======#\n",
        "import matplotlib.pyplot as plt\n",
        "%matplotlib inline\n",
        "\n",
        "kc=[]\n",
        "N_arr=[]\n",
        "S_arr=[]\n",
        "\n",
        "i=j=2\n",
        "for i in range(2,10**2): #n\n",
        "  for j in range(2,10**2): #S\n",
        "    keycomp_total=0\n",
        "    N=i\n",
        "    L=generate(N)\n",
        "    S=j\n",
        "    keycomp_total=switchSort(0,N-1,S)\n",
        "    kc.append(keycomp_total)\n",
        "    S_arr.append(S)\n",
        "    N_arr.append(N)\n",
        "print(len(kc))\n",
        "print(len(N_arr))\n",
        "#print(S_arr)\n",
        "plt.scatter(N_arr[:], kc[:], c=\"blue\")\n",
        "#plt.scatter(S_arr[:], kc[:], c=\"red\")\n",
        "plt.show()"
      ]
    },
    {
      "cell_type": "code",
      "execution_count": 152,
      "metadata": {},
      "outputs": [],
      "source": [
        "dlblue = '#0096ff'; dlorange = '#FF9300'; dldarkred='#C00000'; dlmagenta='#FF40FF'; dlpurple='#7030A0';\n",
        "dlcolors = [dlblue, dlorange, dldarkred, dlmagenta, dlpurple]\n",
        "dlc = dict(dlblue = '#0096ff', dlorange = '#FF9300', dldarkred='#C00000', dlmagenta='#FF40FF', dlpurple='#7030A0')\n",
        "\n",
        "def compute_cost(X, y, w, b):\n",
        "    \"\"\"\n",
        "    compute cost\n",
        "    Args:\n",
        "      X (ndarray (m,n)): Data, m examples with n features\n",
        "      y (ndarray (m,)) : target values\n",
        "      w (ndarray (n,)) : model parameters  \n",
        "      b (scalar)       : model parameter\n",
        "    Returns\n",
        "      cost (scalar)    : cost\n",
        "    \"\"\"\n",
        "    m = X.shape[0]\n",
        "    cost = 0.0\n",
        "    for i in range(m):\n",
        "        f_wb_i = np.dot(X[i],w) + b           #(n,)(n,)=scalar\n",
        "        cost = cost + (f_wb_i - y[i])**2\n",
        "    cost = cost/(2*m)\n",
        "    return cost \n",
        "\n",
        "def inbounds(a,b,xlim,ylim):\n",
        "    xlow,xhigh = xlim\n",
        "    ylow,yhigh = ylim\n",
        "    ax, ay = a\n",
        "    bx, by = b\n",
        "    if (ax > xlow and ax < xhigh) and (bx > xlow and bx < xhigh) \\\n",
        "        and (ay > ylow and ay < yhigh) and (by > ylow and by < yhigh):\n",
        "        return True\n",
        "    return False\n",
        "\n",
        "def plt_contour_wgrad(x, y, hist, ax, w_range=[-100, 500, 5], b_range=[-500, 500, 5],\n",
        "                contours = [0.1,50,1000,5000,10000,25000,50000],\n",
        "                      resolution=5, w_final=200, b_final=100,step=10 ):\n",
        "    b0,w0 = np.meshgrid(np.arange(*b_range),np.arange(*w_range))\n",
        "    z=np.zeros_like(b0)\n",
        "    for i in range(w0.shape[0]):\n",
        "        for j in range(w0.shape[1]):\n",
        "            z[i][j] = compute_cost(x, y, w0[i][j], b0[i][j] )\n",
        "\n",
        "    CS = ax.contour(w0, b0, z, contours, linewidths=2,\n",
        "                   colors=[dlblue, dlorange, dldarkred, dlmagenta, dlpurple])\n",
        "    ax.clabel(CS, inline=1, fmt='%1.0f', fontsize=10)\n",
        "    ax.set_xlabel(\"w\");  ax.set_ylabel(\"b\")\n",
        "    ax.set_title('Contour plot of cost J(w,b), vs b,w with path of gradient descent')\n",
        "    w = w_final; b=b_final\n",
        "    ax.hlines(b, ax.get_xlim()[0],w, lw=2, color=dlpurple, ls='dotted')\n",
        "    ax.vlines(w, ax.get_ylim()[0],b, lw=2, color=dlpurple, ls='dotted')\n",
        "\n",
        "    base = hist[0]\n",
        "    for point in hist[0::step]:\n",
        "        edist = np.sqrt((base[0] - point[0])**2 + (base[1] - point[1])**2)\n",
        "        if(edist > resolution or point==hist[-1]):\n",
        "            if inbounds(point,base, ax.get_xlim(),ax.get_ylim()):\n",
        "                plt.annotate('', xy=point, xytext=base,xycoords='data',\n",
        "                         arrowprops={'arrowstyle': '->', 'color': 'r', 'lw': 3},\n",
        "                         va='center', ha='center')\n",
        "            base=point\n",
        "    return"
      ]
    },
    {
      "cell_type": "code",
      "execution_count": 160,
      "metadata": {},
      "outputs": [
        {
          "data": {
            "image/png": "[encoded data removed]",
            "text/plain": [
              "<Figure size 640x480 with 2 Axes>"
            ]
          },
          "metadata": {},
          "output_type": "display_data"
        }
      ],
      "source": [
        "#combine S and n into a single matrix M[i][j]\n",
        "import matplotlib.pyplot as plt\n",
        "import numpy as np\n",
        "import math\n",
        "%matplotlib inline\n",
        "\n",
        "kc=[]\n",
        "N_arr=[]\n",
        "S_arr=[]\n",
        "for i in range(0,500):\n",
        "    N_arr.append(i+1)\n",
        "    S_arr.append(i+1)\n",
        "M = np.zeros((500,500)) # 2D array stores KEYCOMP_TOTAL\n",
        "\n",
        "for i in range(1,500):     # Row: Array size, n;  Col: Threshold, S #\n",
        "    for j in range(1,500):\n",
        "        keycomp_total=0\n",
        "        N=i\n",
        "        L=generate(N)\n",
        "        S=j\n",
        "        if (j>=i):\n",
        "            M[i][j]=switchSort(0,N-1,N)\n",
        "        keycomp_total=switchSort(0,N-1,S)\n",
        "        M[i][j] = keycomp_total\n",
        "        kc.append(keycomp_total)\n",
        "\n",
        "#print(M)\n",
        "\n",
        "\n",
        "from matplotlib import colors\n",
        "import seaborn as sns\n",
        "\n",
        "divnorm = colors.TwoSlopeNorm(vcenter=0.)\n",
        "ax = sns.heatmap(M, linewidths=0, cmap='seismic', norm=divnorm)\n",
        "plt.xlabel(\"Array size, n\")\n",
        "plt.ylabel(\"Threshold, S\")\n",
        "plt.show()"
      ]
    },
    {
      "cell_type": "code",
      "execution_count": null,
      "metadata": {
        "colab": {
          "base_uri": "https://localhost:8080/",
          "height": 337
        },
        "id": "a1cjnaqYEbNf",
        "outputId": "4cb9e10a-51dc-458d-91aa-785958857d23"
      },
      "outputs": [],
      "source": [
        "#==========================#\n",
        "# (C)(i) Vary array size n #\n",
        "#==========================#\n",
        "import matplotlib.pyplot as plt\n",
        "%matplotlib inline\n",
        "\n",
        "kc=[]\n",
        "N_arr=[]\n",
        "\n",
        "iterations=1000\n",
        "while (iterations>0): ##iterate & collect data for key comparisons when varying n\n",
        "  keycomp_total=0\n",
        "  N = random.randint(30,10**2)\n",
        "  L = generate(N)\n",
        "  keycomp_total = switchSort(0,N-1,100)\n",
        "  kc.append(keycomp_total)\n",
        "  N_arr.append(N)\n",
        "  iterations-=1\n",
        "\n",
        "#TODO i need to fix the plot diagram :D #\n",
        "\"\"\"fig, (ax1) = plt.subplots(1, 1, constrained_layout=True, figsize=(14,10))\n",
        "ax1.plot(N_arr[:],kc[:])\n",
        "ax1.set_title(\"(i) Varying size of arrays\")\n",
        "ax1.set_ylabel('no. of key comparisons')\n",
        "ax1.set_xlabel('Array size, n')\n",
        "plt.show()\"\"\"\n",
        "\n",
        "plt.scatter(N_arr[:], kc[:], c=\"blue\")\n",
        "plt.show()\n",
        "#print(kc)\n",
        "#print()\n",
        "#print(N_arr)\n",
        "\n",
        "\n",
        "from matplotlib import colors\n",
        "import seaborn as sns\n",
        "\n",
        "divnorm = colors.TwoSlopeNorm(vcenter=0.)\n",
        "ax = sns.heatmap([N_arr, S_arr, M], linewidths=0, cmap='seismic', norm=divnorm)\n",
        "plt.xlabel(\"Array size, n\")\n",
        "plt.ylabel(\"Threshold, S\")\n",
        "plt.show()"
      ]
    },
    {
      "cell_type": "code",
      "execution_count": null,
      "metadata": {
        "id": "JzZwzEC7m4dm"
      },
      "outputs": [],
      "source": [
        "#=====================#\n",
        "# (ii) vary integer S #\n",
        "#=====================# \n",
        "\n",
        "kc2=[]\n",
        "S_arr=[]\n",
        "\n",
        "iterations=1000\n",
        "while (iterations>0):\n",
        "  keycomp_total=0\n",
        "  N=10**3 #fixed\n",
        "  L=generate(N)\n",
        "  S=random.randint(5,500)\n",
        "  keycomp_total=switchSort(0,N-1,S)\n",
        "  kc2.append(keycomp_total)\n",
        "  S_arr.append(S)\n",
        "  iterations-=1\n",
        "\n",
        "plt.scatter(S_arr[:], kc2[:], c=\"blue\")\n",
        "\n",
        "\"\"\"\n",
        "fig, (ax1,ax2,ax3) = plt.subplots(1, 1, constrained_layout=True, figsize=(14,10))\n",
        "ax2.plot(S_arr[:],kc[:])\n",
        "ax2.set_title(\"(ii) Varying value of S, n\")\n",
        "ax2.set_ylabel('no. of key comparisons')\n",
        "ax2.set_xlabel('integer S')\"\"\"\n",
        "plt.show()"
      ]
    },
    {
      "cell_type": "code",
      "execution_count": null,
      "metadata": {},
      "outputs": [],
      "source": [
        "from pylab import*\n",
        "from mpl_toolkits.mplot3d import Axes3D\n",
        "\n",
        "fig = figure()\n",
        "ax = Axes3D(fig)\n",
        "ax.plot_surface(X,Y,M, rstride=1, cstride=1, cmap='hot')\n",
        "show()"
      ]
    },
    {
      "cell_type": "markdown",
      "metadata": {
        "id": "ios4toBrU2kT"
      },
      "source": [
        "(d) Compare with original Mergesort: Implement the original version of Mergesort (as learnt in lecture). Compare its performance against the above hybrid algorithm in terms of the number of key comparisons and CPU times on the dataset with 10 million integers. You can use the optimal value of $S$ obtained in (c) for this task."
      ]
    },
    {
      "cell_type": "markdown",
      "metadata": {
        "id": "vbnxyTQuEisQ"
      },
      "source": [
        "Now we have the optimal value of $S$ based on our work in (c). We want to redefine the function 'switchSort'."
      ]
    },
    {
      "cell_type": "code",
      "execution_count": null,
      "metadata": {
        "id": "1thCHdhOE6aA"
      },
      "outputs": [],
      "source": [
        "S = 0 # TO DO: find the threshold value S\n",
        "\n",
        "def switchSort(n, m): # TO DO: find the threshold S\n",
        "  if m-n > S: mergeSort(n, m)\n",
        "  else: insertionSort(n, m)"
      ]
    },
    {
      "cell_type": "code",
      "execution_count": null,
      "metadata": {
        "id": "jSfGVVcKc4m_"
      },
      "outputs": [],
      "source": [
        "import random\n",
        "import time\n",
        "\n",
        "L = random.sample(range(-10**10, 10**10), 10**7)\n",
        "\n",
        "st = time.process_time()\n",
        "mergeSort(0, 10**7-1)\n",
        "et = time.process_time()\n",
        "\n",
        "print(et-st)"
      ]
    },
    {
      "cell_type": "code",
      "execution_count": null,
      "metadata": {
        "colab": {
          "base_uri": "https://localhost:8080/"
        },
        "id": "1uKu4N27RPYr",
        "outputId": "14777ed9-b77a-4b4f-e32a-79f8b4ca1154"
      },
      "outputs": [],
      "source": [
        "L = [2, 3, 4, 1, 6, 7, 5, 8]\n",
        "\n",
        "print(mergeSort(0, 7), L)"
      ]
    }
  ],
  "metadata": {
    "colab": {
      "collapsed_sections": [],
      "provenance": []
    },
    "kernelspec": {
      "display_name": "Python 3.10.6 64-bit",
      "language": "python",
      "name": "python3"
    },
    "language_info": {
      "codemirror_mode": {
        "name": "ipython",
        "version": 3
      },
      "file_extension": ".py",
      "mimetype": "text/x-python",
      "name": "python",
      "nbconvert_exporter": "python",
      "pygments_lexer": "ipython3",
      "version": "3.10.6"
    },
    "vscode": {
      "interpreter": {
        "hash": "aee8b7b246df8f9039afb4144a1f6fd8d2ca17a180786b69acc140d282b71a49"
      }
    }
  },
  "nbformat": 4,
  "nbformat_minor": 0
}
