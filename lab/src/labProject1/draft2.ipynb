{
  "cells": [
    {
      "cell_type": "markdown",
      "metadata": {
        "id": "waf8Pr6pMQdD"
      },
      "source": [
        "# SC2001/CE2101/CZ2101 ALGORITHM DESIGN AND ANALYSIS\n",
        "\n",
        "## Project 1: Integration of Mergesort & Insertion Sort\n",
        "\n",
        "In Mergesort, when the sizes of subarrays are small, the overhead of many recursive calls makes the algorithm inefficient. Therefore, in real use, we often combine Mergesort with Insertion Sort to come up with a hybrid sorting algorithm for better efficiency. The idea is to set a small integer $S$ as a threshold for the size of subarrays. Once the size of a subarray in a recursive call of Mergesort is less than or equal to $S$, the algorithm will switch to Insertion Sort, which is efficient for small-sized input.\n",
        "\n",
        "(a) **Algorithm implementation**: Implement the above hybrid algorithm."
      ]
    },
    {
      "cell_type": "code",
      "execution_count": null,
      "metadata": {
        "id": "o2uz3UV11Tfp"
      },
      "outputs": [],
      "source": [
        "def insertionSort(n, m):\n",
        "  for i in range(n+1, m):\n",
        "    for j in range(i, n, -1):\n",
        "      if L[j] < L[j-1]: L[j], L[j-1] = L[j-1], L[j]\n",
        "      else: break"
      ]
    },
    {
      "cell_type": "code",
      "execution_count": null,
      "metadata": {
        "id": "4KrcqKa-VA70"
      },
      "outputs": [],
      "source": [
        "def merge(n, m):\n",
        "  if m-n <= 0: return L\n",
        "  mid = n + (m-n)//2\n",
        "  a, b = n, mid+1\n",
        "  # up to this is true\n",
        "  while a <= mid and b <= m:\n",
        "    if L[a] < L[b]:\n",
        "      a += 1\n",
        "    elif L[a] > L[b]: # TO DO: write one-liner code\n",
        "      temp = L[b]\n",
        "      for i in range(b, a, -1):\n",
        "        L[i] = L[i-1]\n",
        "      L[a] = temp\n",
        "      a += 1\n",
        "      b += 1\n",
        "      mid += 1\n",
        "    else: # L[a] == L[b]\n",
        "      if a == mid and b == m: break\n",
        "      a += 1\n",
        "      temp = L[b]\n",
        "      for i in range(b, a, -1): \n",
        "        L[i] = L[i-1]\n",
        "      L[a] = temp\n",
        "      a += 1\n",
        "      b += 1\n",
        "      mid += 1\n",
        "\n",
        "def mergeSort(n, m):\n",
        "  mid = n + (m-n)//2\n",
        "  if m-n <= 0: return\n",
        "  else: # m-n >= 1\n",
        "    mergeSort(n, mid)\n",
        "    mergeSort(mid+1, m)\n",
        "  merge(n, m)"
      ]
    },
    {
      "cell_type": "code",
      "execution_count": null,
      "metadata": {
        "id": "S8AHomriMFs9"
      },
      "outputs": [],
      "source": [
        "def switchSort(n, m): # TO DO: find the threshold S\n",
        "  S=100 #fix S=100 first\n",
        "  if m-n > S: mergeSort(n, m)\n",
        "  else: insertionSort(n, m)"
      ]
    },
    {
      "cell_type": "markdown",
      "metadata": {
        "id": "PqcUozGqMPzz"
      },
      "source": [
        "(b) **Generate input data**: Generate arrays of increasing sizes, in a range from 1,000 to 10 million. For each of the sizes, generate a random dataset of integers in the range of $[1, …, x]$, where $x$ is the largest number you allow for your\n",
        "datasets."
      ]
    },
    {
      "cell_type": "code",
      "execution_count": 259,
      "metadata": {
        "id": "PCmLjN1bMQv8"
      },
      "outputs": [],
      "source": [
        "import random\n",
        "\n",
        "def generate(N): #create arrays of varying sizes and random int values\n",
        "  L_arr = random.sample(range(1,10**10), N)\n",
        "  return L_arr"
      ]
    },
    {
      "cell_type": "markdown",
      "metadata": {
        "id": "GKyqyfrlXSHe"
      },
      "source": []
    },
    {
      "cell_type": "markdown",
      "metadata": {
        "id": "miArP8CAfXDw"
      },
      "source": [
        "(c) Analyze time complexity: Run your program of the hybrid algorithm on the datasets generated in Step (b). Record the number of key comparisons performed in each case.\n",
        "\n",
        "i. With the value of $S$ fixed, plot the number of key comparisons over different sizes of the input list $n$. Compare your empirical results with your theoretical analysis of the time complexity.\n",
        "\n",
        "ii. With the input size $n$ fixed, plot the number of key comparisons over different values of $S$. Compare your empirical results with your theoretical analysis of the time complexity.\n",
        "\n",
        "iii. Using different sizes of input datasets, study how to determine an optimal value of $S$ for the best performance of this hybrid algorithm.\n"
      ]
    },
    {
      "cell_type": "markdown",
      "metadata": {
        "id": "CHBkWU2OR-os"
      },
      "source": [
        "We redefine the function `merge` and `mergeSort` to add counter `key_comparison`."
      ]
    },
    {
      "cell_type": "code",
      "execution_count": 260,
      "metadata": {
        "id": "V1irv1QwRA4y"
      },
      "outputs": [],
      "source": [
        "def merge(n, m):\n",
        "  key_comparison = 0\n",
        "  if m-n <= 0: return 0\n",
        "  mid = n + (m-n)//2\n",
        "  a, b = n, mid+1\n",
        "  while a <= mid and b <= m:\n",
        "    if L[a] < L[b]:\n",
        "      a += 1\n",
        "    elif L[a] > L[b]: # TO DO: write one-liner code\n",
        "      temp = L[b]\n",
        "      for i in range(b, a, -1):\n",
        "        L[i] = L[i-1]\n",
        "      L[a] = temp\n",
        "      a += 1\n",
        "      b += 1\n",
        "      mid += 1\n",
        "    else: # L[a] == L[b]\n",
        "      if a == mid and b == m: break\n",
        "      a += 1\n",
        "      temp = L[b]\n",
        "      for i in range(b, a, -1): \n",
        "        L[i] = L[i-1]\n",
        "      L[a] = temp\n",
        "      a += 1\n",
        "      b += 1\n",
        "      mid += 1\n",
        "    key_comparison += 1\n",
        "  return key_comparison\n",
        "\n",
        "def mergeSort(n, m, S):\n",
        "  mid = n + (m-n)//2\n",
        "  if m-n <= 0:\n",
        "    return 0\n",
        "  elif (m-n<S):\n",
        "    key_comparison_l = insertionSort(n,m)\n",
        "    key_comparison_r = 0\n",
        "  else: # m-n >= 1\n",
        "    key_comparison_l = mergeSort(n, mid, S)\n",
        "    key_comparison_r = mergeSort(mid+1, m, S)\n",
        "  key_comparison_merge = merge(n, m)\n",
        "  return key_comparison_l + key_comparison_r + key_comparison_merge\n",
        "\n",
        "def insertionSort(n, m):\n",
        "  key_comparison_is=0\n",
        "  for i in range(n+1, m):\n",
        "    for j in range(i, n, -1):\n",
        "      if L[j] < L[j-1]:\n",
        "        L[j], L[j-1] = L[j-1], L[j]\n",
        "        key_comparison_is+=1\n",
        "      else: break\n",
        "  return key_comparison_is\n",
        "\n",
        "def switchSort(n, m, S):\n",
        "  keycomp_total=0\n",
        "  if m-n > S: keycomp_total += mergeSort(n, m, S) #wrong! compare subarray size instead\n",
        "  else: keycomp_total += insertionSort(n, m)\n",
        "  return keycomp_total"
      ]
    },
    {
      "cell_type": "code",
      "execution_count": 281,
      "metadata": {},
      "outputs": [
        {
          "name": "stdout",
          "output_type": "stream",
          "text": [
            "19 [1, 2, 2, 3, 4, 6, 6, 7, 8, 11, 12]\n"
          ]
        }
      ],
      "source": [
        "#test# ##to delete##\n",
        "def merge1(n, m):\n",
        "  key_comparison1=0\n",
        "  if m-n <= 0: return L\n",
        "  mid = n + (m-n)//2\n",
        "  a, b = n, mid+1\n",
        "  # up to this is true\n",
        "  while a <= mid and b <= m:\n",
        "    if L[a] < L[b]:\n",
        "      a += 1\n",
        "      key_comparison1+=1\n",
        "    elif L[a] > L[b]: # TO DO: write one-liner code\n",
        "      temp = L[b]\n",
        "      for i in range(b, a, -1):\n",
        "        L[i] = L[i-1]\n",
        "      L[a] = temp\n",
        "      a += 1\n",
        "      b += 1\n",
        "      mid += 1\n",
        "    else: # L[a] == L[b]\n",
        "      if a == mid and b == m: break\n",
        "      key_comparison1+=1\n",
        "      a += 1\n",
        "      temp = L[b]\n",
        "      for i in range(b, a, -1): \n",
        "        L[i] = L[i-1]\n",
        "      L[a] = temp\n",
        "      a += 1\n",
        "      b += 1\n",
        "      mid += 1\n",
        "\n",
        "  return key_comparison1\n",
        "\n",
        "def mergeSort1(n, m):\n",
        "  mid = n + (m-n)//2\n",
        "  if m-n <= 0:\n",
        "    return 0\n",
        "  else:\n",
        "    key_comparison1_l = mergeSort1(n, mid)\n",
        "    key_comparison1_r = mergeSort1(mid+1, m)\n",
        "  key_comparison1_merge = merge1(n, m)\n",
        "  return key_comparison1_l + key_comparison1_r + key_comparison1_merge\n",
        "\n",
        "L = [2, 3, 4, 1, 7, 6, 6, 8, 12, 11, 2]\n",
        "\n",
        "print(mergeSort1(0, 10), L)\n"
      ]
    },
    {
      "cell_type": "code",
      "execution_count": null,
      "metadata": {},
      "outputs": [],
      "source": [
        "L = [2, 3, 4, 1, 6, 7, 5, 8, 12, 11, 2]\n",
        "\n",
        "print(mergeSort(0, 10, 3), L)"
      ]
    },
    {
      "cell_type": "code",
      "execution_count": 288,
      "metadata": {},
      "outputs": [],
      "source": [
        "#switchSort()\n",
        "###########################################################################################\n",
        "#combine S and n into a single matrix M[i][j]\n",
        "from matplotlib import colors\n",
        "import seaborn as sns\n",
        "import matplotlib.pyplot as plt\n",
        "import numpy as np\n",
        "import math\n",
        "%matplotlib inline\n",
        "\n",
        "M = np.zeros((60,10**4)) # 2D array stores KEYCOMP_TOTAL\n",
        "\n",
        "for i in range(1,60):     # Col: Array size, n;  Row: Threshold, S #\n",
        "    for j in range(1,10**4):\n",
        "        N=i\n",
        "        S=j\n",
        "        L=generate(S)\n",
        "        if (j<=i):   #if n<=S, use n\n",
        "            M[i][j]=switchSort(0,S-2,S)\n",
        "        else:\n",
        "            M[i][j] = switchSort(0,S-2,N)  #keycomp_total\n",
        "\n",
        "divnorm = colors.TwoSlopeNorm(vcenter=0.)\n",
        "ax = sns.heatmap(M, linewidths=0, cmap='seismic', norm=divnorm)\n",
        "plt.xlabel(\"Array size, n\")\n",
        "plt.ylabel(\"Threshold, S\")\n",
        "plt.show()"
      ]
    },
    {
      "cell_type": "code",
      "execution_count": 278,
      "metadata": {},
      "outputs": [
        {
          "ename": "IndexError",
          "evalue": "list index out of range",
          "output_type": "error",
          "traceback": [
            "\u001b[0;31m---------------------------------------------------------------------------\u001b[0m",
            "\u001b[0;31mIndexError\u001b[0m                                Traceback (most recent call last)",
            "\u001b[1;32m/Users/chufeng/Documents/personal/lab/src/labProject1/draft2.ipynb Cell 13\u001b[0m in \u001b[0;36m<cell line: 55>\u001b[0;34m()\u001b[0m\n\u001b[1;32m     <a href='vscode-notebook-cell:/Users/chufeng/Documents/personal/lab/src/labProject1/draft2.ipynb#X35sZmlsZQ%3D%3D?line=55'>56</a>\u001b[0m   \u001b[39mfor\u001b[39;00m j \u001b[39min\u001b[39;00m \u001b[39mrange\u001b[39m(\u001b[39m1\u001b[39m,\u001b[39m10\u001b[39m\u001b[39m*\u001b[39m\u001b[39m*\u001b[39m\u001b[39m3\u001b[39m):\n\u001b[1;32m     <a href='vscode-notebook-cell:/Users/chufeng/Documents/personal/lab/src/labProject1/draft2.ipynb#X35sZmlsZQ%3D%3D?line=56'>57</a>\u001b[0m       L\u001b[39m=\u001b[39mgenerate(i)\n\u001b[0;32m---> <a href='vscode-notebook-cell:/Users/chufeng/Documents/personal/lab/src/labProject1/draft2.ipynb#X35sZmlsZQ%3D%3D?line=57'>58</a>\u001b[0m       M2[i][j] \u001b[39m=\u001b[39m mergeSort1(\u001b[39m0\u001b[39;49m,j\u001b[39m-\u001b[39;49m\u001b[39m1\u001b[39;49m)  \u001b[39m#keycomp_total\u001b[39;00m\n\u001b[1;32m     <a href='vscode-notebook-cell:/Users/chufeng/Documents/personal/lab/src/labProject1/draft2.ipynb#X35sZmlsZQ%3D%3D?line=59'>60</a>\u001b[0m divnorm \u001b[39m=\u001b[39m colors\u001b[39m.\u001b[39mTwoSlopeNorm(vcenter\u001b[39m=\u001b[39m\u001b[39m0.\u001b[39m,vmax\u001b[39m=\u001b[39m\u001b[39m2000\u001b[39m)\n\u001b[1;32m     <a href='vscode-notebook-cell:/Users/chufeng/Documents/personal/lab/src/labProject1/draft2.ipynb#X35sZmlsZQ%3D%3D?line=60'>61</a>\u001b[0m ax \u001b[39m=\u001b[39m sns\u001b[39m.\u001b[39mheatmap(M2, linewidths\u001b[39m=\u001b[39m\u001b[39m0\u001b[39m, cmap\u001b[39m=\u001b[39m\u001b[39m'\u001b[39m\u001b[39mseismic\u001b[39m\u001b[39m'\u001b[39m, norm\u001b[39m=\u001b[39mdivnorm)\n",
            "\u001b[1;32m/Users/chufeng/Documents/personal/lab/src/labProject1/draft2.ipynb Cell 13\u001b[0m in \u001b[0;36mmergeSort1\u001b[0;34m(n, m)\u001b[0m\n\u001b[1;32m     <a href='vscode-notebook-cell:/Users/chufeng/Documents/personal/lab/src/labProject1/draft2.ipynb#X35sZmlsZQ%3D%3D?line=46'>47</a>\u001b[0m   key_comparison1_l \u001b[39m=\u001b[39m mergeSort1(n, mid)\n\u001b[1;32m     <a href='vscode-notebook-cell:/Users/chufeng/Documents/personal/lab/src/labProject1/draft2.ipynb#X35sZmlsZQ%3D%3D?line=47'>48</a>\u001b[0m   key_comparison1_r \u001b[39m=\u001b[39m mergeSort1(mid\u001b[39m+\u001b[39m\u001b[39m1\u001b[39m, m)\n\u001b[0;32m---> <a href='vscode-notebook-cell:/Users/chufeng/Documents/personal/lab/src/labProject1/draft2.ipynb#X35sZmlsZQ%3D%3D?line=48'>49</a>\u001b[0m key_comparison1_merge \u001b[39m=\u001b[39m merge1(n, m)\n\u001b[1;32m     <a href='vscode-notebook-cell:/Users/chufeng/Documents/personal/lab/src/labProject1/draft2.ipynb#X35sZmlsZQ%3D%3D?line=49'>50</a>\u001b[0m \u001b[39mreturn\u001b[39;00m key_comparison1_l \u001b[39m+\u001b[39m key_comparison1_r \u001b[39m+\u001b[39m key_comparison1_merge\n",
            "\u001b[1;32m/Users/chufeng/Documents/personal/lab/src/labProject1/draft2.ipynb Cell 13\u001b[0m in \u001b[0;36mmerge1\u001b[0;34m(n, m)\u001b[0m\n\u001b[1;32m     <a href='vscode-notebook-cell:/Users/chufeng/Documents/personal/lab/src/labProject1/draft2.ipynb#X35sZmlsZQ%3D%3D?line=14'>15</a>\u001b[0m \u001b[39m# up to this is true\u001b[39;00m\n\u001b[1;32m     <a href='vscode-notebook-cell:/Users/chufeng/Documents/personal/lab/src/labProject1/draft2.ipynb#X35sZmlsZQ%3D%3D?line=15'>16</a>\u001b[0m \u001b[39mwhile\u001b[39;00m a \u001b[39m<\u001b[39m\u001b[39m=\u001b[39m mid \u001b[39mand\u001b[39;00m b \u001b[39m<\u001b[39m\u001b[39m=\u001b[39m m:\n\u001b[0;32m---> <a href='vscode-notebook-cell:/Users/chufeng/Documents/personal/lab/src/labProject1/draft2.ipynb#X35sZmlsZQ%3D%3D?line=16'>17</a>\u001b[0m   \u001b[39mif\u001b[39;00m L[a] \u001b[39m<\u001b[39m L[b]:\n\u001b[1;32m     <a href='vscode-notebook-cell:/Users/chufeng/Documents/personal/lab/src/labProject1/draft2.ipynb#X35sZmlsZQ%3D%3D?line=17'>18</a>\u001b[0m     a \u001b[39m+\u001b[39m\u001b[39m=\u001b[39m \u001b[39m1\u001b[39m\n\u001b[1;32m     <a href='vscode-notebook-cell:/Users/chufeng/Documents/personal/lab/src/labProject1/draft2.ipynb#X35sZmlsZQ%3D%3D?line=18'>19</a>\u001b[0m     key_comparison1\u001b[39m+\u001b[39m\u001b[39m=\u001b[39m\u001b[39m1\u001b[39m\n",
            "\u001b[0;31mIndexError\u001b[0m: list index out of range"
          ]
        }
      ],
      "source": [
        "# Original mergeSort()\n",
        "\n",
        "from matplotlib import colors\n",
        "import seaborn as sns\n",
        "import matplotlib.pyplot as plt\n",
        "import numpy as np\n",
        "import math\n",
        "%matplotlib inline\n",
        "\n",
        "def merge1(n, m):\n",
        "  key_comparison1=0\n",
        "  if m-n <= 0: return L\n",
        "  mid = n + (m-n)//2\n",
        "  a, b = n, mid+1\n",
        "  # up to this is true\n",
        "  while a <= mid and b <= m:\n",
        "    if L[a] < L[b]:\n",
        "      a += 1\n",
        "      key_comparison1+=1\n",
        "    elif L[a] > L[b]: # TO DO: write one-liner code\n",
        "      temp = L[b]\n",
        "      for i in range(b, a, -1):\n",
        "        L[i] = L[i-1]\n",
        "      L[a] = temp\n",
        "      a += 1\n",
        "      b += 1\n",
        "      mid += 1\n",
        "    else: # L[a] == L[b]\n",
        "      if a == mid and b == m: break\n",
        "      key_comparison1+=1\n",
        "      a += 1\n",
        "      temp = L[b]\n",
        "      for i in range(b, a, -1): \n",
        "        L[i] = L[i-1]\n",
        "      L[a] = temp\n",
        "      a += 1\n",
        "      b += 1\n",
        "      mid += 1\n",
        "\n",
        "  return key_comparison1\n",
        "\n",
        "def mergeSort1(n, m):\n",
        "  mid = n + (m-n)//2\n",
        "  if m-n <= 0:\n",
        "    return 0\n",
        "  else:\n",
        "    key_comparison1_l = mergeSort1(n, mid)\n",
        "    key_comparison1_r = mergeSort1(mid+1, m)\n",
        "  key_comparison1_merge = merge1(n, m)\n",
        "  return key_comparison1_l + key_comparison1_r + key_comparison1_merge\n",
        "\n",
        "\n",
        "M2 = np.zeros((50,10**3)) # 2D array stores KEYCOMP_TOTAL\n",
        "\n",
        "for i in range(1,50):     # Col: Array size, n;  Row: Threshold, S #\n",
        "  for j in range(1,10**3):\n",
        "      L=generate(j)\n",
        "      M2[i][j] = mergeSort1(0,j-1)  #keycomp_total\n",
        "\n",
        "divnorm = colors.TwoSlopeNorm(vcenter=0.,vmax=2000)\n",
        "ax = sns.heatmap(M2, linewidths=0, cmap='seismic', norm=divnorm)\n",
        "plt.xlabel(\"Array size, n\")\n",
        "plt.ylabel(\"Threshold, S\")\n",
        "plt.show()"
      ]
    },
    {
      "cell_type": "code",
      "execution_count": null,
      "metadata": {
        "colab": {
          "base_uri": "https://localhost:8080/",
          "height": 337
        },
        "id": "a1cjnaqYEbNf",
        "outputId": "4cb9e10a-51dc-458d-91aa-785958857d23"
      },
      "outputs": [],
      "source": [
        "#==========================#\n",
        "# (C)(i) Vary array size n #\n",
        "#==========================#\n",
        "import matplotlib.pyplot as plt\n",
        "%matplotlib inline\n",
        "\n",
        "kc=[]\n",
        "N_arr=[]\n",
        "\n",
        "iterations=1000\n",
        "while (iterations>0): ##iterate & collect data for key comparisons when varying n\n",
        "  keycomp_total=0\n",
        "  N = random.randint(30,10**2)\n",
        "  L = generate(N)\n",
        "  keycomp_total = switchSort(0,N-1,100)\n",
        "  kc.append(keycomp_total)\n",
        "  N_arr.append(N)\n",
        "  iterations-=1\n",
        "\n",
        "#TODO i need to fix the plot diagram :D #\n",
        "\"\"\"fig, (ax1) = plt.subplots(1, 1, constrained_layout=True, figsize=(14,10))\n",
        "ax1.plot(N_arr[:],kc[:])\n",
        "ax1.set_title(\"(i) Varying size of arrays\")\n",
        "ax1.set_ylabel('no. of key comparisons')\n",
        "ax1.set_xlabel('Array size, n')\n",
        "plt.show()\"\"\"\n",
        "\n",
        "plt.scatter(N_arr[:], kc[:], c=\"blue\")\n",
        "plt.show()\n",
        "#print(kc)\n",
        "#print()\n",
        "#print(N_arr)\n",
        "\n",
        "\n",
        "from matplotlib import colors\n",
        "import seaborn as sns\n",
        "\n",
        "divnorm = colors.TwoSlopeNorm(vcenter=0.)\n",
        "ax = sns.heatmap([N_arr, S_arr, M], linewidths=0, cmap='seismic', norm=divnorm)\n",
        "plt.xlabel(\"Array size, n\")\n",
        "plt.ylabel(\"Threshold, S\")\n",
        "plt.show()"
      ]
    },
    {
      "cell_type": "code",
      "execution_count": null,
      "metadata": {
        "id": "JzZwzEC7m4dm"
      },
      "outputs": [],
      "source": [
        "#=====================#\n",
        "# (ii) vary integer S #\n",
        "#=====================# \n",
        "\n",
        "kc2=[]\n",
        "S_arr=[]\n",
        "\n",
        "iterations=1000\n",
        "while (iterations>0):\n",
        "  keycomp_total=0\n",
        "  N=10**3 #fixed\n",
        "  L=generate(N)\n",
        "  S=random.randint(5,500)\n",
        "  keycomp_total=switchSort(0,N-1,S)\n",
        "  kc2.append(keycomp_total)\n",
        "  S_arr.append(S)\n",
        "  iterations-=1\n",
        "\n",
        "plt.scatter(S_arr[:], kc2[:], c=\"blue\")\n",
        "\n",
        "\"\"\"\n",
        "fig, (ax1,ax2,ax3) = plt.subplots(1, 1, constrained_layout=True, figsize=(14,10))\n",
        "ax2.plot(S_arr[:],kc[:])\n",
        "ax2.set_title(\"(ii) Varying value of S, n\")\n",
        "ax2.set_ylabel('no. of key comparisons')\n",
        "ax2.set_xlabel('integer S')\"\"\"\n",
        "plt.show()"
      ]
    },
    {
      "cell_type": "markdown",
      "metadata": {
        "id": "ios4toBrU2kT"
      },
      "source": [
        "(d) Compare with original Mergesort: Implement the original version of Mergesort (as learnt in lecture). Compare its performance against the above hybrid algorithm in terms of the number of key comparisons and CPU times on the dataset with 10 million integers. You can use the optimal value of $S$ obtained in (c) for this task."
      ]
    },
    {
      "cell_type": "markdown",
      "metadata": {
        "id": "vbnxyTQuEisQ"
      },
      "source": [
        "Now we have the optimal value of $S$ based on our work in (c). We want to redefine the function 'switchSort'."
      ]
    },
    {
      "cell_type": "code",
      "execution_count": null,
      "metadata": {
        "id": "1thCHdhOE6aA",
        "vscode": {
          "languageId": "markdown"
        }
      },
      "outputs": [],
      "source": [
        "S = 0 # TO DO: find the threshold value S\n",
        "\n",
        "def switchSort(n, m): # TO DO: find the threshold S\n",
        "  if m-n > S: mergeSort(n, m)\n",
        "  else: insertionSort(n, m)"
      ]
    },
    {
      "cell_type": "code",
      "execution_count": null,
      "metadata": {
        "id": "jSfGVVcKc4m_"
      },
      "outputs": [],
      "source": [
        "import random\n",
        "import time\n",
        "\n",
        "L = random.sample(range(-10**10, 10**10), 10**7)\n",
        "\n",
        "st = time.process_time()\n",
        "mergeSort(0, 10**7-1)\n",
        "et = time.process_time()\n",
        "\n",
        "print(et-st)"
      ]
    },
    {
      "cell_type": "code",
      "execution_count": null,
      "metadata": {
        "id": "oMUPJD1jShl7"
      },
      "outputs": [],
      "source": []
    }
  ],
  "metadata": {
    "colab": {
      "collapsed_sections": [],
      "provenance": []
    },
    "kernelspec": {
      "display_name": "Python 3.10.6 64-bit",
      "language": "python",
      "name": "python3"
    },
    "language_info": {
      "codemirror_mode": {
        "name": "ipython",
        "version": 3
      },
      "file_extension": ".py",
      "mimetype": "text/x-python",
      "name": "python",
      "nbconvert_exporter": "python",
      "pygments_lexer": "ipython3",
      "version": "3.10.6"
    },
    "vscode": {
      "interpreter": {
        "hash": "aee8b7b246df8f9039afb4144a1f6fd8d2ca17a180786b69acc140d282b71a49"
      }
    }
  },
  "nbformat": 4,
  "nbformat_minor": 0
}
