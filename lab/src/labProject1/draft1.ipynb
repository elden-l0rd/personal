{
  "cells": [
    {
      "cell_type": "markdown",
      "metadata": {
        "id": "waf8Pr6pMQdD"
      },
      "source": [
        "# SC2001/CE2101/CZ2101 ALGORITHM DESIGN AND ANALYSIS\n",
        "\n",
        "## Project 1: Integration of Mergesort & Insertion Sort\n",
        "\n",
        "In Mergesort, when the sizes of subarrays are small, the overhead of many recursive calls makes the algorithm inefficient. Therefore, in real use, we often combine Mergesort with Insertion Sort to come up with a hybrid sorting algorithm for better efficiency. The idea is to set a small integer $S$ as a threshold for the size of subarrays. Once the size of a subarray in a recursive call of Mergesort is less than or equal to $S$, the algorithm will switch to Insertion Sort, which is efficient for small-sized input.\n",
        "\n",
        "(a) **Algorithm implementation**: Implement the above hybrid algorithm."
      ]
    },
    {
      "cell_type": "code",
      "execution_count": 19,
      "metadata": {
        "id": "o2uz3UV11Tfp"
      },
      "outputs": [],
      "source": [
        "def insertionSort(n, m):\n",
        "  for i in range(n+1, m):\n",
        "    for j in range(i, n, -1):\n",
        "      if L[j] < L[j-1]: L[j], L[j-1] = L[j-1], L[j]\n",
        "      else: break"
      ]
    },
    {
      "cell_type": "code",
      "execution_count": 20,
      "metadata": {
        "id": "4KrcqKa-VA70"
      },
      "outputs": [],
      "source": [
        "def merge(n, m):\n",
        "  if m-n <= 0: return L\n",
        "  mid = n + (m-n)//2\n",
        "  a, b = n, mid+1\n",
        "  # up to this is true\n",
        "  while a <= mid and b <= m:\n",
        "    if L[a] < L[b]:\n",
        "      a += 1\n",
        "    elif L[a] > L[b]: # TO DO: write one-liner code\n",
        "      temp = L[b]\n",
        "      for i in range(b, a, -1):\n",
        "        L[i] = L[i-1]\n",
        "      L[a] = temp\n",
        "      a += 1\n",
        "      b += 1\n",
        "      mid += 1\n",
        "    else: # L[a] == L[b]\n",
        "      if a == mid and b == m: break\n",
        "      a += 1\n",
        "      temp = L[b]\n",
        "      for i in range(b, a, -1): \n",
        "        L[i] = L[i-1]\n",
        "      L[a] = temp\n",
        "      a += 1\n",
        "      b += 1\n",
        "      mid += 1\n",
        "\n",
        "def mergeSort(n, m):\n",
        "  mid = n + (m-n)//2\n",
        "  if m-n <= 0: return\n",
        "  else: # m-n >= 1\n",
        "    mergeSort(n, mid)\n",
        "    mergeSort(mid+1, m)\n",
        "  merge(n, m)"
      ]
    },
    {
      "cell_type": "code",
      "execution_count": 21,
      "metadata": {
        "id": "S8AHomriMFs9"
      },
      "outputs": [],
      "source": [
        "def switchSort(n, m): # TO DO: find the threshold S\n",
        "  S=100 #fix S=100 first\n",
        "  if m-n > S: mergeSort(n, m)\n",
        "  else: insertionSort(n, m)"
      ]
    },
    {
      "cell_type": "code",
      "execution_count": 22,
      "metadata": {
        "id": "n_udW3Kf5jHY"
      },
      "outputs": [],
      "source": [
        "import time\n",
        "import random\n",
        "\n",
        "L = random.sample(range(-10**10, 10**10), 10**4)\n",
        "\n",
        "st = time.process_time()\n",
        "switchSort(0, 10**4-1)\n",
        "et = time.process_time()\n",
        "\n",
        "#print(L, et-st)"
      ]
    },
    {
      "cell_type": "markdown",
      "metadata": {
        "id": "PqcUozGqMPzz"
      },
      "source": [
        "(b) **Generate input data**: Generate arrays of increasing sizes, in a range from 1,000 to 10 million. For each of the sizes, generate a random dataset of integers in the range of $[1, …, x]$, where $x$ is the largest number you allow for your\n",
        "datasets."
      ]
    },
    {
      "cell_type": "code",
      "execution_count": 23,
      "metadata": {
        "id": "PCmLjN1bMQv8"
      },
      "outputs": [],
      "source": [
        "import random\n",
        "\n",
        "def generate(N):\n",
        "  L_arr = random.sample(range(1,10**10), N)\n",
        "  return L_arr"
      ]
    },
    {
      "cell_type": "markdown",
      "metadata": {
        "id": "GKyqyfrlXSHe"
      },
      "source": []
    },
    {
      "cell_type": "markdown",
      "metadata": {
        "id": "miArP8CAfXDw"
      },
      "source": [
        "(c) Analyze time complexity: Run your program of the hybrid algorithm on the datasets generated in Step (b). Record the number of key comparisons performed in each case.\n",
        "\n",
        "i. With the value of $S$ fixed, plot the number of key comparisons over different sizes of the input list $n$. Compare your empirical results with your theoretical analysis of the time complexity.\n",
        "\n",
        "ii. With the input size $n$ fixed, plot the number of key comparisons over different values of $S$. Compare your empirical results with your theoretical analysis of the time complexity.\n",
        "\n",
        "iii. Using different sizes of input datasets, study how to determine an optimal value of $S$ for the best performance of this hybrid algorithm.\n"
      ]
    },
    {
      "cell_type": "markdown",
      "metadata": {
        "id": "CHBkWU2OR-os"
      },
      "source": [
        "We redefine the function `merge` and `mergeSort` to add counter `key_comparison`."
      ]
    },
    {
      "cell_type": "code",
      "execution_count": 24,
      "metadata": {
        "id": "V1irv1QwRA4y"
      },
      "outputs": [],
      "source": [
        "def merge(n, m):\n",
        "  key_comparison = 0\n",
        "  if m-n <= 0: return 0\n",
        "  mid = n + (m-n)//2\n",
        "  a, b = n, mid+1\n",
        "  while a <= mid and b <= m:\n",
        "    if L[a] < L[b]:\n",
        "      a += 1\n",
        "    elif L[a] > L[b]: # TO DO: write one-liner code\n",
        "      temp = L[b]\n",
        "      for i in range(b, a, -1):\n",
        "        L[i] = L[i-1]\n",
        "      L[a] = temp\n",
        "      a += 1\n",
        "      b += 1\n",
        "      mid += 1\n",
        "    else: # L[a] == L[b]\n",
        "      if a == mid and b == m: break\n",
        "      a += 1\n",
        "      temp = L[b]\n",
        "      for i in range(b, a, -1): \n",
        "        L[i] = L[i-1]\n",
        "      L[a] = temp\n",
        "      a += 1\n",
        "      b += 1\n",
        "      mid += 1\n",
        "    key_comparison += 1\n",
        "  return key_comparison\n",
        "\n",
        "def mergeSort(n, m):\n",
        "  mid = n + (m-n)//2\n",
        "  if m-n <= 0: return 0\n",
        "  else: # m-n >= 1\n",
        "    key_comparison_l = mergeSort(n, mid)\n",
        "    key_comparison_r = mergeSort(mid+1, m)\n",
        "  key_comparison_merge = merge(n, m)\n",
        "  keyC = key_comparison_l + key_comparison_r + key_comparison_merge\n",
        "  return keyC\n",
        "\n",
        "def insertionSort(n, m):\n",
        "  key_comparison_is=0\n",
        "  for i in range(n+1, m):\n",
        "    for j in range(i, n, -1):\n",
        "      if L[j] < L[j-1]:\n",
        "        L[j], L[j-1] = L[j-1], L[j]\n",
        "        key_comparison_is+=1\n",
        "      else: break\n",
        "  return key_comparison_is\n",
        "\n",
        "def switchSort(n, m, S):\n",
        "  keycomp_total=0\n",
        "  if m-n > S: keycomp_total += mergeSort(n, m)\n",
        "  else: keycomp_total += insertionSort(n, m)\n",
        "  return keycomp_total"
      ]
    },
    {
      "cell_type": "code",
      "execution_count": 31,
      "metadata": {
        "id": "a1cjnaqYEbNf"
      },
      "outputs": [
        {
          "ename": "AttributeError",
          "evalue": "'numpy.ndarray' object has no attribute 'hist'",
          "output_type": "error",
          "traceback": [
            "\u001b[0;31m---------------------------------------------------------------------------\u001b[0m",
            "\u001b[0;31mAttributeError\u001b[0m                            Traceback (most recent call last)",
            "\u001b[1;32m/Users/chufeng/Documents/personal/lab/src/labProject1/CX2101_Project_1.ipynb Cell 12\u001b[0m in \u001b[0;36m<cell line: 34>\u001b[0;34m()\u001b[0m\n\u001b[1;32m     <a href='vscode-notebook-cell:/Users/chufeng/Documents/personal/lab/src/labProject1/CX2101_Project_1.ipynb#X14sZmlsZQ%3D%3D?line=31'>32</a>\u001b[0m fig \u001b[39m=\u001b[39m plt\u001b[39m.\u001b[39mfigure(constrained_layout\u001b[39m=\u001b[39m\u001b[39mTrue\u001b[39;00m)\n\u001b[1;32m     <a href='vscode-notebook-cell:/Users/chufeng/Documents/personal/lab/src/labProject1/CX2101_Project_1.ipynb#X14sZmlsZQ%3D%3D?line=32'>33</a>\u001b[0m ax1 \u001b[39m=\u001b[39m fig\u001b[39m.\u001b[39msubplots(\u001b[39m1\u001b[39m,\u001b[39m1\u001b[39m, squeeze\u001b[39m=\u001b[39m\u001b[39mFalse\u001b[39;00m)\n\u001b[0;32m---> <a href='vscode-notebook-cell:/Users/chufeng/Documents/personal/lab/src/labProject1/CX2101_Project_1.ipynb#X14sZmlsZQ%3D%3D?line=33'>34</a>\u001b[0m ax1\u001b[39m.\u001b[39;49mhist(kc[:])\n",
            "\u001b[0;31mAttributeError\u001b[0m: 'numpy.ndarray' object has no attribute 'hist'"
          ]
        },
        {
          "data": {
            "image/png": "[encoded data removed]",
            "text/plain": [
              "<Figure size 640x480 with 1 Axes>"
            ]
          },
          "metadata": {},
          "output_type": "display_data"
        }
      ],
      "source": [
        "#======================\n",
        "# (i) fix integer S=100\n",
        "#======================\n",
        "import matplotlib.pyplot as plt\n",
        "import numpy as np\n",
        "\n",
        "kc=[]\n",
        "N_arr=[]\n",
        "\n",
        "#def main():\n",
        "iterations=1000\n",
        "while (iterations>0): #iterate & collect data for key comparisons when varying n\n",
        "  keycomp_total=0\n",
        "  N = random.randint(10,10**2)\n",
        "  L = generate(N)\n",
        "  keycomp_total = switchSort(0,N-1,100)\n",
        "  kc.append(keycomp_total)\n",
        "  N_arr.append(N)\n",
        "  iterations-=1\n",
        "\n",
        "#if __name__==\"__main__\":\n",
        "#  main()\n",
        "\n",
        "\"\"\"\n",
        "fig, (ax1) = plt.subplots(1, 1, constrained_layout=False, figsize=(15,10))\n",
        "ax1.plot(N_arr[:],kc[:])\n",
        "ax1.set_title(\"(c)(i)\")\n",
        "ax1.set_ylabel('no. of key comparisons')\n",
        "ax1.set_xlabel('Array size, n')\n",
        "plt.show()\n",
        "\"\"\"\n",
        "fig = plt.figure(constrained_layout=True)\n",
        "ax1 = fig.subplots(1,1, squeeze=False)\n",
        "ax1.hist(kc[:])\n",
        "\n",
        "\n"
      ]
    },
    {
      "cell_type": "markdown",
      "metadata": {
        "id": "ios4toBrU2kT"
      },
      "source": [
        "(d) Compare with original Mergesort: Implement the original version of Mergesort (as learnt in lecture). Compare its performance against the above hybrid algorithm in terms of the number of key comparisons and CPU times on the dataset with 10 million integers. You can use the optimal value of $S$ obtained in (c) for this task."
      ]
    },
    {
      "cell_type": "markdown",
      "metadata": {
        "id": "vbnxyTQuEisQ"
      },
      "source": [
        "Now we have the optimal value of $S$ based on our work in (c). We want to redefine the function 'switchSort'."
      ]
    },
    {
      "cell_type": "code",
      "execution_count": null,
      "metadata": {
        "id": "1thCHdhOE6aA"
      },
      "outputs": [],
      "source": [
        "S = 0 # TO DO: find the threshold value S\n",
        "\n",
        "def switchSort(n, m): # TO DO: find the threshold S\n",
        "  if m-n > S: mergeSort(n, m)\n",
        "  else: insertionSort(n, m)"
      ]
    },
    {
      "cell_type": "code",
      "execution_count": null,
      "metadata": {
        "id": "jSfGVVcKc4m_"
      },
      "outputs": [],
      "source": [
        "import random\n",
        "import time\n",
        "\n",
        "L = random.sample(range(-10**10, 10**10), 10**7)\n",
        "\n",
        "st = time.process_time()\n",
        "mergeSort(0, 10**7-1)\n",
        "et = time.process_time()\n",
        "\n",
        "print(et-st)"
      ]
    },
    {
      "cell_type": "code",
      "execution_count": null,
      "metadata": {
        "id": "1uKu4N27RPYr"
      },
      "outputs": [],
      "source": [
        "L = [2, 3, 4, 1, 6, 7, 5, 8]\n",
        "\n",
        "print(mergeSort(0, 7), L)"
      ]
    },
    {
      "cell_type": "code",
      "execution_count": null,
      "metadata": {
        "id": "oMUPJD1jShl7"
      },
      "outputs": [],
      "source": []
    }
  ],
  "metadata": {
    "colab": {
      "collapsed_sections": [],
      "provenance": []
    },
    "kernelspec": {
      "display_name": "Python 3.10.6 64-bit",
      "language": "python",
      "name": "python3"
    },
    "language_info": {
      "codemirror_mode": {
        "name": "ipython",
        "version": 3
      },
      "file_extension": ".py",
      "mimetype": "text/x-python",
      "name": "python",
      "nbconvert_exporter": "python",
      "pygments_lexer": "ipython3",
      "version": "3.10.6"
    },
    "vscode": {
      "interpreter": {
        "hash": "aee8b7b246df8f9039afb4144a1f6fd8d2ca17a180786b69acc140d282b71a49"
      }
    }
  },
  "nbformat": 4,
  "nbformat_minor": 0
}
