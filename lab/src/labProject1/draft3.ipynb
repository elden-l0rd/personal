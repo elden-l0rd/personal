{
 "cells": [
  {
   "cell_type": "markdown",
   "metadata": {},
   "source": [
    "switchSort()"
   ]
  },
  {
   "cell_type": "code",
   "execution_count": 1,
   "metadata": {},
   "outputs": [],
   "source": [
    "import random\n",
    "\n",
    "def generate(N): #create arrays of varying sizes and random int values\n",
    "  L_arr = random.sample(range(1,10**10), N)\n",
    "  return L_arr\n",
    "\n",
    "def merge(n, m):\n",
    "  key_comparison = 0\n",
    "  if m-n <= 0: return 0\n",
    "  mid = n + (m-n)//2\n",
    "  a, b = n, mid+1\n",
    "  while a <= mid and b <= m:\n",
    "    key_comparison += 1\n",
    "    if L[a] < L[b]:\n",
    "      a += 1\n",
    "    elif L[a] > L[b]: # TO DO: write one-liner code\n",
    "      temp = L[b]\n",
    "      for i in range(b, a, -1):\n",
    "        L[i] = L[i-1]\n",
    "      L[a] = temp\n",
    "      a += 1\n",
    "      b += 1\n",
    "      mid += 1\n",
    "    else: # L[a] == L[b]\n",
    "      if a == mid and b == m: break\n",
    "      a += 1\n",
    "      temp = L[b]\n",
    "      for i in range(b, a, -1): \n",
    "        L[i] = L[i-1]\n",
    "      L[a] = temp\n",
    "      a += 1\n",
    "      b += 1\n",
    "      mid += 1\n",
    "  return key_comparison\n",
    "\n",
    "def mergeSort(n, m, S):\n",
    "  key_comparison_l=key_comparison_r=key_comparison_merge=0\n",
    "  mid = n + (m-n)//2\n",
    "  if m-n <= 0:\n",
    "    return 0\n",
    "  elif (m-n<S):\n",
    "    key_comparison_l = insertionSort(n,m)\n",
    "  elif (m-n>1):\n",
    "    key_comparison_l = mergeSort(n, mid, S)\n",
    "    key_comparison_r = mergeSort(mid+1, m, S)\n",
    "  key_comparison_merge = merge(n, m)\n",
    "  return key_comparison_l + key_comparison_r + key_comparison_merge\n",
    "\n",
    "def insertionSort(n, m):\n",
    "  key_comparison_is=0\n",
    "  for i in range(n+1, m):\n",
    "    for j in range(i, n, -1):\n",
    "      key_comparison_is+=1\n",
    "      if L[j] < L[j-1]:\n",
    "        L[j], L[j-1] = L[j-1], L[j]\n",
    "      else: break\n",
    "  return key_comparison_is\n",
    "\n",
    "def switchSort(n, m, S):\n",
    "  keycomp_total=0\n",
    "  if m-n > S: keycomp_total = mergeSort(n, m, S)\n",
    "  else: keycomp_total = insertionSort(n, m)\n",
    "  return keycomp_total"
   ]
  },
  {
   "cell_type": "code",
   "execution_count": null,
   "metadata": {},
   "outputs": [],
   "source": [
    "#switchSort()\n",
    "\n",
    "from matplotlib import colors\n",
    "import seaborn as sns\n",
    "import matplotlib.pyplot as plt\n",
    "import numpy as np\n",
    "import math\n",
    "import time\n",
    "from timeit import default_timer as timer\n",
    "%matplotlib inline\n",
    "\n",
    "M = np.zeros((45,10**4)) # 2D array stores KEYCOMP_TOTAL\n",
    "#cpu_switchSort=[]\n",
    "\n",
    "for i in range(1,45):     # Col: Array size, n;  Row: Threshold, S #\n",
    "    for j in range(1,10**4):\n",
    "        L=generate(j)\n",
    "        #st=timer()\n",
    "        if (j<=i):   #if n<=S, use n\n",
    "            M[i][j]=switchSort(0,j-1,j)\n",
    "        else:\n",
    "            M[i][j] = switchSort(0,j-1,i)  #keycomp_total\n",
    "        #cpu_switchSort.append(timer()-st)\n",
    "divnorm = colors.TwoSlopeNorm(vcenter=0.)\n",
    "ax = sns.heatmap(M, linewidths=0, cmap='seismic', norm=divnorm)\n",
    "plt.xlabel(\"Array size, n\")\n",
    "plt.ylabel(\"Threshold, S\")\n",
    "plt.show()"
   ]
  },
  {
   "cell_type": "markdown",
   "metadata": {},
   "source": [
    "switchSort() - fix S=20, vary n"
   ]
  },
  {
   "cell_type": "code",
   "execution_count": null,
   "metadata": {},
   "outputs": [],
   "source": [
    "vary_n=[]\n",
    "for i in range(0,10**4):\n",
    "    vary_n.append(M[19][i])\n",
    "\n",
    "\n",
    "plt.scatter(np.arange(0,10**4), vary_n, c='blue')\n",
    "plt.xlabel(\"Array size, n\")\n",
    "plt.ylabel(\"no, of key comparisons\")\n",
    "plt.title(\"fix S=20, vary n\")\n",
    "plt.show()"
   ]
  },
  {
   "cell_type": "markdown",
   "metadata": {},
   "source": [
    "switchSort() - vary S, fix n=10**4"
   ]
  },
  {
   "cell_type": "code",
   "execution_count": null,
   "metadata": {},
   "outputs": [],
   "source": [
    "vary_S=[]\n",
    "for i in range(1,45):\n",
    "    vary_S.append(M[i][10**4])\n",
    "\n",
    "\n",
    "plt.scatter(np.arange(1, 45), vary_S, c='blue')\n",
    "plt.xlabel(\"Threshold, S\")\n",
    "plt.ylabel(\"no, of key comparisons\")\n",
    "plt.title(\"vary S, fix n=10**4\")\n",
    "plt.show()"
   ]
  },
  {
   "cell_type": "markdown",
   "metadata": {},
   "source": [
    "original mergeSort()"
   ]
  },
  {
   "cell_type": "code",
   "execution_count": null,
   "metadata": {},
   "outputs": [],
   "source": [
    "# Original mergeSort()\n",
    "\n",
    "from matplotlib import colors\n",
    "import seaborn as sns\n",
    "import matplotlib.pyplot as plt\n",
    "import numpy as np\n",
    "import math\n",
    "import time\n",
    "\n",
    "def merge1(n, m):\n",
    "  key_comparison1=0\n",
    "  if m-n <= 0: return L\n",
    "  mid = n + (m-n)//2\n",
    "  a, b = n, mid+1\n",
    "  while a <= mid and b <= m:\n",
    "    key_comparison1+=1\n",
    "    if L[a] < L[b]:\n",
    "      a += 1\n",
    "    elif L[a] > L[b]:\n",
    "      temp = L[b]\n",
    "      for i in range(b, a, -1):\n",
    "        L[i] = L[i-1]\n",
    "      L[a] = temp\n",
    "      a += 1\n",
    "      b += 1\n",
    "      mid += 1\n",
    "    else: # L[a] == L[b]\n",
    "      if a == mid and b == m: break\n",
    "      a += 1\n",
    "      temp = L[b]\n",
    "      for i in range(b, a, -1): \n",
    "        L[i] = L[i-1]\n",
    "      L[a] = temp\n",
    "      a += 1\n",
    "      b += 1\n",
    "      mid += 1\n",
    "  return key_comparison1\n",
    "\n",
    "def mergeSort1(n, m):\n",
    "  key_comparison1_l=key_comparison1_r=key_comparison1_merge=0\n",
    "  mid = n + (m-n)//2\n",
    "  if m-n <= 0:\n",
    "    return 0\n",
    "  elif (m-n>1):\n",
    "    key_comparison1_l = mergeSort1(n, mid)\n",
    "    key_comparison1_r = mergeSort1(mid+1, m)\n",
    "  key_comparison1_merge = merge1(n, m)\n",
    "  return key_comparison1_l + key_comparison1_r + key_comparison1_merge\n",
    "\n",
    "\n",
    "M2 = np.zeros((45,10**4)) # 2D array stores KEYCOMP_TOTAL\n",
    "cpu_mergeSort=[]\n",
    "for i in range(1,45):     # Col: Array size, n;  Row: Threshold, S #\n",
    "  for j in range(1,10**4):\n",
    "      L=generate(j)\n",
    "      st=timer()\n",
    "      M2[i][j] = mergeSort1(0,j-1)  #keycomp_total\n",
    "      cpu_mergeSort.append(timer()-st)\n",
    "\n",
    "divnorm = colors.TwoSlopeNorm(vcenter=0.)\n",
    "ax = sns.heatmap(M2, linewidths=0, cmap='seismic', norm=divnorm)\n",
    "plt.xlabel(\"Array size, n\")\n",
    "plt.yticks(color='w')\n",
    "plt.tick_params(left=False)\n",
    "plt.show()"
   ]
  },
  {
   "cell_type": "markdown",
   "metadata": {},
   "source": [
    "switchSort() VERSUS mergeSort() - no. of key comparisons"
   ]
  },
  {
   "cell_type": "code",
   "execution_count": null,
   "metadata": {},
   "outputs": [],
   "source": [
    "from matplotlib import colors\n",
    "import seaborn as sns\n",
    "import matplotlib.pyplot as plt\n",
    "import numpy as np\n",
    "import math\n",
    "import time\n",
    "\n",
    "M_f = np.subtract(M,M2)\n",
    "\n",
    "divnorm = colors.TwoSlopeNorm(vcenter=0.)\n",
    "ax2 = sns.heatmap(M_f, linewidths=0, cmap='seismic', norm=divnorm)\n",
    "plt.xlabel(\"Array size, n\")\n",
    "plt.ylabel(\"Threshold, S\")\n",
    "plt.show()"
   ]
  },
  {
   "cell_type": "markdown",
   "metadata": {},
   "source": [
    "switchSort() VERSUS mergeSort() - CPU time"
   ]
  },
  {
   "cell_type": "code",
   "execution_count": null,
   "metadata": {},
   "outputs": [],
   "source": [
    "plt.scatter(np.arange(1, len(cpu_switchSort)), cpu_switchSort, c='blue')\n",
    "plt.xlabel(\"Threshold, S\")\n",
    "plt.ylabel(\"no, of key comparisons\")\n",
    "plt.title(\"vary S, fix n=10**4\")\n",
    "plt.show()"
   ]
  },
  {
   "cell_type": "code",
   "execution_count": null,
   "metadata": {},
   "outputs": [],
   "source": [
    "plt.scatter(np.arange(1, len(cpu_mergeSort)), cpu_mergeSort, c='blue')\n",
    "plt.xlabel(\"Threshold, S\")\n",
    "plt.ylabel(\"no, of key comparisons\")\n",
    "plt.title(\"vary S, fix n=10**4\")\n",
    "plt.show()"
   ]
  },
  {
   "cell_type": "markdown",
   "metadata": {},
   "source": [
    "From here, we can determine the optimal value of S.\n",
    "\n",
    "Aim: make switchSort() an improved version of mergeSort() after incoporating insertionSort() for smaller arrays\n",
    "\n",
    "Graph: numpy.subtract(switchSort(), mergeSort())\n",
    "\n",
    "Positive regions(red) would mean the former has more key comparisons than the original algorithm and is undesirable.\n",
    "\n",
    "Value of S in (white) regions would mean switchSort() has roughly the same number of comparisons as mergeSort() and (blue) regions switchSort() is more effective.\n",
    "\n",
    "=> Therefore, range of values of S should be between the (blue) and (white) regions."
   ]
  }
 ],
 "metadata": {
  "kernelspec": {
   "display_name": "Python 3.10.6 64-bit",
   "language": "python",
   "name": "python3"
  },
  "language_info": {
   "codemirror_mode": {
    "name": "ipython",
    "version": 3
   },
   "file_extension": ".py",
   "mimetype": "text/x-python",
   "name": "python",
   "nbconvert_exporter": "python",
   "pygments_lexer": "ipython3",
   "version": "3.10.6"
  },
  "orig_nbformat": 4,
  "vscode": {
   "interpreter": {
    "hash": "aee8b7b246df8f9039afb4144a1f6fd8d2ca17a180786b69acc140d282b71a49"
   }
  }
 },
 "nbformat": 4,
 "nbformat_minor": 2
}
