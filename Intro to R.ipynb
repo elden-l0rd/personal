{
 "cells": [
  {
   "cell_type": "markdown",
   "metadata": {},
   "source": [
    "Vectors - Numeric, Character, Logical"
   ]
  },
  {
   "cell_type": "code",
   "execution_count": 1,
   "metadata": {
    "vscode": {
     "languageId": "r"
    }
   },
   "outputs": [
    {
     "data": {
      "text/html": [
       "<style>\n",
       ".list-inline {list-style: none; margin:0; padding: 0}\n",
       ".list-inline>li {display: inline-block}\n",
       ".list-inline>li:not(:last-child)::after {content: \"\\00b7\"; padding: 0 .5ex}\n",
       "</style>\n",
       "<ol class=list-inline><li>1995</li><li>1999</li><li>2010</li><li>2002</li></ol>\n"
      ],
      "text/latex": [
       "\\begin{enumerate*}\n",
       "\\item 1995\n",
       "\\item 1999\n",
       "\\item 2010\n",
       "\\item 2002\n",
       "\\end{enumerate*}\n"
      ],
      "text/markdown": [
       "1. 1995\n",
       "2. 1999\n",
       "3. 2010\n",
       "4. 2002\n",
       "\n",
       "\n"
      ],
      "text/plain": [
       "[1] 1995 1999 2010 2002"
      ]
     },
     "metadata": {},
     "output_type": "display_data"
    },
    {
     "data": {
      "text/html": [
       "<style>\n",
       ".list-inline {list-style: none; margin:0; padding: 0}\n",
       ".list-inline>li {display: inline-block}\n",
       ".list-inline>li:not(:last-child)::after {content: \"\\00b7\"; padding: 0 .5ex}\n",
       "</style>\n",
       "<ol class=list-inline><li>'Toy Story'</li><li>'Akira'</li><li>'The Artist'</li></ol>\n"
      ],
      "text/latex": [
       "\\begin{enumerate*}\n",
       "\\item 'Toy Story'\n",
       "\\item 'Akira'\n",
       "\\item 'The Artist'\n",
       "\\end{enumerate*}\n"
      ],
      "text/markdown": [
       "1. 'Toy Story'\n",
       "2. 'Akira'\n",
       "3. 'The Artist'\n",
       "\n",
       "\n"
      ],
      "text/plain": [
       "[1] \"Toy Story\"  \"Akira\"      \"The Artist\""
      ]
     },
     "metadata": {},
     "output_type": "display_data"
    }
   ],
   "source": [
    "#Numeric\n",
    "c(1995,1999,2010,2002)\n",
    "\n",
    "#Character\n",
    "c(\"Toy Story\", \"Akira\", \"The Artist\")\n",
    "\n",
    "#Logical"
   ]
  }
 ],
 "metadata": {
  "kernelspec": {
   "display_name": "R",
   "language": "R",
   "name": "ir"
  },
  "language_info": {
   "codemirror_mode": "r",
   "file_extension": ".r",
   "mimetype": "text/x-r-source",
   "name": "R",
   "pygments_lexer": "r",
   "version": "4.2.2"
  },
  "orig_nbformat": 4,
  "vscode": {
   "interpreter": {
    "hash": "aee8b7b246df8f9039afb4144a1f6fd8d2ca17a180786b69acc140d282b71a49"
   }
  }
 },
 "nbformat": 4,
 "nbformat_minor": 2
}
