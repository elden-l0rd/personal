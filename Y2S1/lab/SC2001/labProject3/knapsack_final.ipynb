{
 "cells": [
  {
   "cell_type": "markdown",
   "metadata": {},
   "source": [
    "# SC2001 ALGORITHM DESIGN AND ANALYSIS\n",
    "\n",
    "## Project 3: Dynamic Programming\n",
    "\n",
    "We have a knapsack of capacity weight $C$ (a positive integer) and $n$ types of objects. Each object of the $i$-th type has weight $w_i$ and profit $p_i$ (all $w_i$ and all $p_i$ are positive integers, $i=0,1,\\dots,n-1$). There are unlimited supplies of each type of objects. Find the largest total profit of any set of the objects that fits in the knapsack. Let $P(C)$ be the maximum profit that can be made by packing objects into the knapsack of capacity $C$.\n",
    "\n",
    "(1) Give a recursive definition of the function $P(C)$."
   ]
  },
  {
   "cell_type": "markdown",
   "metadata": {},
   "source": [
    "Answer. Let  𝑃(𝐶,𝑛)  a knapsack of capacity weight  𝐶  and  𝑛  types of objects. There are 2 possibilities.\n",
    "If  𝑛 -th type of object is included, taking one of them takes  𝑤𝑛  amount of space and contibutes  𝑝𝑛  amount of profit. Now we have a knapsack problem of capacity weight  𝐶−𝑤𝑛  and  𝑛  types of objects, which the maximum profit of  𝑃(𝐶−𝑤𝑛,𝑛) . This case has solution of  𝑝𝑛+𝑃(𝐶−𝑤𝑛,𝑛) .\n",
    "If  𝑛 -th type of object is not included, the knapsack problem only considers  𝑛−1  types of objects. This case have solution of 𝑃(𝐶,𝑛−1) .\n",
    "We wasnt to take the maxiumum profit. Hence,\n",
    "𝑃(𝐶,𝑛)=max(𝑝𝑛+𝑃(𝐶−𝑤𝑛,𝑛),𝑃(𝐶,𝑛−1))."
   ]
  },
  {
   "cell_type": "markdown",
   "metadata": {},
   "source": [
    "(2) Draw the subproblem graph for  𝑃(14)  where  𝑛  is  3  with the weights and profits given below."
   ]
  },
  {
   "cell_type": "markdown",
   "metadata": {},
   "source": [
    "<< image as attached >>"
   ]
  },
  {
   "cell_type": "markdown",
   "metadata": {},
   "source": [
    "(3) Give a dynamic programming algorithm to compute the maximum profit, given a knapsack of capacity  𝐶 ,  𝑛  types of objects with weights 𝑤𝑖  and profits  𝑝𝑖  using the bottom up approach."
   ]
  },
  {
   "cell_type": "code",
   "execution_count": 5,
   "metadata": {},
   "outputs": [],
   "source": [
    "import numpy as np\n",
    "\n",
    "def knapsack(w, p, C, n):\n",
    "  profit = np.zeros((C+1, n+1))\n",
    "  for r in range(1, C+1):\n",
    "    for c in range(1, n+1):\n",
    "      profit[r][c] = profit[r][c-1]\n",
    "      if (w[c-1] <= r):\n",
    "        if profit[r][c] < profit[r-w[c-1]][c] + p[c-1]:\n",
    "          profit[r][c] = profit[r-w[c-1]][c] + p[c-1]\n",
    "  return profit[C][n]"
   ]
  },
  {
   "cell_type": "markdown",
   "metadata": {},
   "source": [
    "(4) Code your algorithm in a programming language\n",
    "a. show the running result of  𝑃(14)  with weights and profits given in (2).\n",
    "b. Show the running result of  𝑃(14)  with weights and profits given below."
   ]
  },
  {
   "cell_type": "code",
   "execution_count": 6,
   "metadata": {},
   "outputs": [
    {
     "name": "stdout",
     "output_type": "stream",
     "text": [
      "21.0\n",
      "16.0\n"
     ]
    }
   ],
   "source": [
    "w1 = [4, 6, 8]\n",
    "w2 = [5, 6, 8]\n",
    "p = [7, 6, 9]\n",
    "\n",
    "print(knapsack(w1, p, 14, 3))\n",
    "print(knapsack(w2, p, 14, 3))"
   ]
  }
 ],
 "metadata": {
  "kernelspec": {
   "display_name": "Python 3.10.6 64-bit",
   "language": "python",
   "name": "python3"
  },
  "language_info": {
   "codemirror_mode": {
    "name": "ipython",
    "version": 3
   },
   "file_extension": ".py",
   "mimetype": "text/x-python",
   "name": "python",
   "nbconvert_exporter": "python",
   "pygments_lexer": "ipython3",
   "version": "3.10.6"
  },
  "orig_nbformat": 4,
  "vscode": {
   "interpreter": {
    "hash": "aee8b7b246df8f9039afb4144a1f6fd8d2ca17a180786b69acc140d282b71a49"
   }
  }
 },
 "nbformat": 4,
 "nbformat_minor": 2
}
