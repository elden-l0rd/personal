{
 "cells": [
  {
   "cell_type": "markdown",
   "metadata": {},
   "source": [
    "Chap6. Synchronisation Tools"
   ]
  },
  {
   "cell_type": "markdown",
   "metadata": {},
   "source": [
    "6.3 Peterson's Solution"
   ]
  },
  {
   "cell_type": "code",
   "execution_count": null,
   "metadata": {
    "vscode": {
     "languageId": "c"
    }
   },
   "outputs": [],
   "source": [
    "int turn;\n",
    "boolean flag[2];\n",
    "\n",
    "while (true) {\n",
    "    flag[i]  = true;\n",
    "    turn = j;\n",
    "    while (flag[j] && turn == j); // Do Nothing\n",
    "\n",
    "    /* CRITICAL SECTION */\n",
    "\n",
    "    flag [i] = false;\n",
    "    /* REMAINDER SECTION */\n",
    "}"
   ]
  },
  {
   "cell_type": "markdown",
   "metadata": {},
   "source": [
    "1. Mutual exclusion is preserved\n",
    "2. Progress requirement is satisfied\n",
    "3. Bounded waiting requirement is satisfied"
   ]
  },
  {
   "cell_type": "markdown",
   "metadata": {},
   "source": [
    "6.4 Hardware Support for Synchronisation"
   ]
  },
  {
   "cell_type": "markdown",
   "metadata": {},
   "source": [
    "        6.4.1 memory barriers   \n",
    "        6.4.2 Hardware Instructions     \n",
    "        6.4.3 Atomic variables"
   ]
  },
  {
   "cell_type": "markdown",
   "metadata": {},
   "source": [
    "6.4.2 Hardware Instructions (TestAndSet())"
   ]
  },
  {
   "cell_type": "code",
   "execution_count": null,
   "metadata": {
    "vscode": {
     "languageId": "c"
    }
   },
   "outputs": [],
   "source": [
    "/* Mutual exclusion implementation with test_and_set() */\n",
    "\n",
    "boolean test_and_set(boolean *target) {\n",
    "    boolean rv = *target;\n",
    "    *target = true;\n",
    "\n",
    "    return rv;\n",
    "}\n",
    "\n",
    "int main() {\n",
    "    do {\n",
    "        while (test_and_set(&lock)); // Do Nothing\n",
    "\n",
    "        /* CRITICAL SECTION */\n",
    "\n",
    "        lock = false;\n",
    "\n",
    "        /* REMAINDER SECTION */\n",
    "    } while(true);\n",
    "}"
   ]
  },
  {
   "cell_type": "markdown",
   "metadata": {},
   "source": [
    "6.4.3 Atomic Variables"
   ]
  },
  {
   "cell_type": "markdown",
   "metadata": {},
   "source": [
    "1. provides atomic variables, integers and booleans     \n",
    "2. icnrementing/decrementing an int value may produce a race condition      \n",
    "3. used to ensure mutual exclusion, BUT do not solve race condiitions       \n",
    "        eg. bounded-buffer problem, can use atomic _int count_ BUT in producer-consumer processes also have _while_ loops which depends on value of _count_.\n",
    "        Consider a situation in which\n",
    "        the buffer is currently empty and two consumers are looping while waiting for\n",
    "        count > 0. If a producer entered one item in the buffer, both consumers could\n",
    "        exit their while loops (as count would no longer be equal to 0) and proceed to\n",
    "        consume, even though the value of count was only set to 1.\n",
    "4. use of atomic variables are limited to single updates of shared data such as counters and sequence generators"
   ]
  },
  {
   "cell_type": "markdown",
   "metadata": {},
   "source": [
    "6.5 Mutex Locks (Mutual exclusion)"
   ]
  },
  {
   "cell_type": "code",
   "execution_count": null,
   "metadata": {
    "vscode": {
     "languageId": "c"
    }
   },
   "outputs": [],
   "source": [
    "wihle (true) {\n",
    "    \n",
    "    /* ACQUIRE LOCK */\n",
    "    acquire() {\n",
    "        while (!available); /* busy wait ==> Inefficient waste of CPU resources */\n",
    "        available = false;\n",
    "    }\n",
    "\n",
    "    // CRITICAL SECTION//\n",
    "\n",
    "    /* RELEASE LOCK */\n",
    "    release() {\n",
    "        available = true;\n",
    "    }\n",
    "\n",
    "    // REMAINDER SECTION\n",
    "}"
   ]
  },
  {
   "cell_type": "markdown",
   "metadata": {},
   "source": [
    "        acquire() or release() MUST be performed ATOMICALLY"
   ]
  },
  {
   "cell_type": "markdown",
   "metadata": {},
   "source": [
    "6.6 Semaphores"
   ]
  },
  {
   "cell_type": "markdown",
   "metadata": {},
   "source": [
    "        1. an int variable\n",
    "        2. accessed ONLY through 2 atomic operations, wait() and signal()"
   ]
  },
  {
   "cell_type": "code",
   "execution_count": null,
   "metadata": {
    "vscode": {
     "languageId": "c"
    }
   },
   "outputs": [],
   "source": [
    "wait(S) {\n",
    "    while (S<=0); // Busy wait\n",
    "    \n",
    "    S--;\n",
    "}\n",
    "\n",
    "signal(S) {\n",
    "    S++;\n",
    "}"
   ]
  },
  {
   "cell_type": "code",
   "execution_count": null,
   "metadata": {
    "vscode": {
     "languageId": "c"
    }
   },
   "outputs": [],
   "source": [
    "/* DEFINE SEMAPHORES */\n",
    "\n",
    "typedef struct {\n",
    "    int value;\n",
    "    struct process *list;\n",
    "}semaphore;\n",
    "\n",
    "wait(semaphore *S) {\n",
    "    S->value--;\n",
    "    if (S->value < 0) {\n",
    "        add process to S->list;\n",
    "        sleep(); // Suspends process\n",
    "    }\n",
    "}\n",
    "\n",
    "signal(semaphore *S)  {\n",
    "    S->value++;\n",
    "    if (S->value <= )) {\n",
    "        remove process P from S->list;\n",
    "        wakeup(P);\n",
    "    }\n",
    "}\n",
    "\n",
    "/* Semaphore values can be negative == no. of process in waiting list, in this definition */\n",
    "/*                  else in classical definition of semaphore with busy waiting, S is never negative */"
   ]
  },
  {
   "cell_type": "markdown",
   "metadata": {},
   "source": [
    "        1. binary semaphores - similar to mutex locks\n",
    "        2. counting semaphore - contorl access to a given resource of a finite number of instances\n",
    "\n",
    "        list of waiting processes implemented by process control block(PCB)"
   ]
  },
  {
   "cell_type": "markdown",
   "metadata": {},
   "source": [
    "6.7 Monitors"
   ]
  }
 ],
 "metadata": {
  "language_info": {
   "name": "python"
  },
  "orig_nbformat": 4
 },
 "nbformat": 4,
 "nbformat_minor": 2
}
