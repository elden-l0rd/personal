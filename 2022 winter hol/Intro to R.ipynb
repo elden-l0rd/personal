{
 "cells": [
  {
   "cell_type": "markdown",
   "metadata": {},
   "source": [
    "<h3>Vectors - Numeric, Character, Logical</h3>"
   ]
  },
  {
   "cell_type": "code",
   "execution_count": 291,
   "metadata": {
    "vscode": {
     "languageId": "r"
    }
   },
   "outputs": [
    {
     "data": {
      "text/html": [
       "<style>\n",
       ".list-inline {list-style: none; margin:0; padding: 0}\n",
       ".list-inline>li {display: inline-block}\n",
       ".list-inline>li:not(:last-child)::after {content: \"\\00b7\"; padding: 0 .5ex}\n",
       "</style>\n",
       "<ol class=list-inline><li>1995</li><li>1999</li><li>2010</li><li>2002</li></ol>\n"
      ],
      "text/latex": [
       "\\begin{enumerate*}\n",
       "\\item 1995\n",
       "\\item 1999\n",
       "\\item 2010\n",
       "\\item 2002\n",
       "\\end{enumerate*}\n"
      ],
      "text/markdown": [
       "1. 1995\n",
       "2. 1999\n",
       "3. 2010\n",
       "4. 2002\n",
       "\n",
       "\n"
      ],
      "text/plain": [
       "[1] 1995 1999 2010 2002"
      ]
     },
     "metadata": {},
     "output_type": "display_data"
    },
    {
     "data": {
      "text/html": [
       "<style>\n",
       ".list-inline {list-style: none; margin:0; padding: 0}\n",
       ".list-inline>li {display: inline-block}\n",
       ".list-inline>li:not(:last-child)::after {content: \"\\00b7\"; padding: 0 .5ex}\n",
       "</style>\n",
       "<ol class=list-inline><li>'Toy Story'</li><li>'Akira'</li><li>'The Artist'</li></ol>\n"
      ],
      "text/latex": [
       "\\begin{enumerate*}\n",
       "\\item 'Toy Story'\n",
       "\\item 'Akira'\n",
       "\\item 'The Artist'\n",
       "\\end{enumerate*}\n"
      ],
      "text/markdown": [
       "1. 'Toy Story'\n",
       "2. 'Akira'\n",
       "3. 'The Artist'\n",
       "\n",
       "\n"
      ],
      "text/plain": [
       "[1] \"Toy Story\"  \"Akira\"      \"The Artist\""
      ]
     },
     "metadata": {},
     "output_type": "display_data"
    },
    {
     "data": {
      "text/html": [
       "FALSE"
      ],
      "text/latex": [
       "FALSE"
      ],
      "text/markdown": [
       "FALSE"
      ],
      "text/plain": [
       "[1] FALSE"
      ]
     },
     "metadata": {},
     "output_type": "display_data"
    }
   ],
   "source": [
    "#Numeric\n",
    "c(1995,1999,2010,2002)\n",
    "\n",
    "#Character\n",
    "c(\"Toy Story\", \"Akira\", \"The Artist\")\n",
    "\n",
    "#Logical\n",
    "1997 > 2002 #false"
   ]
  },
  {
   "cell_type": "code",
   "execution_count": 292,
   "metadata": {
    "vscode": {
     "languageId": "r"
    }
   },
   "outputs": [
    {
     "data": {
      "text/html": [
       "<style>\n",
       ".list-inline {list-style: none; margin:0; padding: 0}\n",
       ".list-inline>li {display: inline-block}\n",
       ".list-inline>li:not(:last-child)::after {content: \"\\00b7\"; padding: 0 .5ex}\n",
       "</style>\n",
       "<ol class=list-inline><li>FALSE</li><li>TRUE</li><li>FALSE</li><li>TRUE</li><li>TRUE</li><li>TRUE</li><li>FALSE</li></ol>\n"
      ],
      "text/latex": [
       "\\begin{enumerate*}\n",
       "\\item FALSE\n",
       "\\item TRUE\n",
       "\\item FALSE\n",
       "\\item TRUE\n",
       "\\item TRUE\n",
       "\\item TRUE\n",
       "\\item FALSE\n",
       "\\end{enumerate*}\n"
      ],
      "text/markdown": [
       "1. FALSE\n",
       "2. TRUE\n",
       "3. FALSE\n",
       "4. TRUE\n",
       "5. TRUE\n",
       "6. TRUE\n",
       "7. FALSE\n",
       "\n",
       "\n"
      ],
      "text/plain": [
       "[1] FALSE  TRUE FALSE  TRUE  TRUE  TRUE FALSE"
      ]
     },
     "metadata": {},
     "output_type": "display_data"
    }
   ],
   "source": [
    "movie_ratings <- c(7.3,8.5,6.9,8.2,8.0,9.3,7.5)\n",
    "movie_ratings > 7.5 #checks every element in vector"
   ]
  },
  {
   "cell_type": "markdown",
   "metadata": {},
   "source": [
    "<h3>Factors (variables that can take on limited number of values)\n",
    "        eg. categorical variables (vs continuous variables: infinite no. of values)</h3>"
   ]
  },
  {
   "cell_type": "code",
   "execution_count": 293,
   "metadata": {
    "vscode": {
     "languageId": "r"
    }
   },
   "outputs": [
    {
     "data": {
      "text/html": [
       "<style>\n",
       ".list-inline {list-style: none; margin:0; padding: 0}\n",
       ".list-inline>li {display: inline-block}\n",
       ".list-inline>li:not(:last-child)::after {content: \"\\00b7\"; padding: 0 .5ex}\n",
       "</style>\n",
       "<ol class=list-inline><li>Comedy</li><li>Comedy</li><li>Animation</li><li>Crime</li></ol>\n",
       "\n",
       "<details>\n",
       "\t<summary style=display:list-item;cursor:pointer>\n",
       "\t\t<strong>Levels</strong>:\n",
       "\t</summary>\n",
       "\t<style>\n",
       "\t.list-inline {list-style: none; margin:0; padding: 0}\n",
       "\t.list-inline>li {display: inline-block}\n",
       "\t.list-inline>li:not(:last-child)::after {content: \"\\00b7\"; padding: 0 .5ex}\n",
       "\t</style>\n",
       "\t<ol class=list-inline><li>'Animation'</li><li>'Comedy'</li><li>'Crime'</li></ol>\n",
       "</details>"
      ],
      "text/latex": [
       "\\begin{enumerate*}\n",
       "\\item Comedy\n",
       "\\item Comedy\n",
       "\\item Animation\n",
       "\\item Crime\n",
       "\\end{enumerate*}\n",
       "\n",
       "\\emph{Levels}: \\begin{enumerate*}\n",
       "\\item 'Animation'\n",
       "\\item 'Comedy'\n",
       "\\item 'Crime'\n",
       "\\end{enumerate*}\n"
      ],
      "text/markdown": [
       "1. Comedy\n",
       "2. Comedy\n",
       "3. Animation\n",
       "4. Crime\n",
       "\n",
       "\n",
       "\n",
       "**Levels**: 1. 'Animation'\n",
       "2. 'Comedy'\n",
       "3. 'Crime'\n",
       "\n",
       "\n"
      ],
      "text/plain": [
       "[1] Comedy    Comedy    Animation Crime    \n",
       "Levels: Animation Comedy Crime"
      ]
     },
     "metadata": {},
     "output_type": "display_data"
    },
    {
     "data": {
      "text/plain": [
       "   Length     Class      Mode \n",
       "        4 character character "
      ]
     },
     "metadata": {},
     "output_type": "display_data"
    },
    {
     "data": {
      "text/html": [
       "<style>\n",
       ".dl-inline {width: auto; margin:0; padding: 0}\n",
       ".dl-inline>dt, .dl-inline>dd {float: none; width: auto; display: inline-block}\n",
       ".dl-inline>dt::after {content: \":\\0020\"; padding-right: .5ex}\n",
       ".dl-inline>dt:not(:first-of-type) {padding-left: .5ex}\n",
       "</style><dl class=dl-inline><dt>Animation</dt><dd>1</dd><dt>Comedy</dt><dd>2</dd><dt>Crime</dt><dd>1</dd></dl>\n"
      ],
      "text/latex": [
       "\\begin{description*}\n",
       "\\item[Animation] 1\n",
       "\\item[Comedy] 2\n",
       "\\item[Crime] 1\n",
       "\\end{description*}\n"
      ],
      "text/markdown": [
       "Animation\n",
       ":   1Comedy\n",
       ":   2Crime\n",
       ":   1\n",
       "\n"
      ],
      "text/plain": [
       "Animation    Comedy     Crime \n",
       "        1         2         1 "
      ]
     },
     "metadata": {},
     "output_type": "display_data"
    }
   ],
   "source": [
    "genre_vector <- c(\"Comedy\", \"Comedy\", \"Animation\", \"Crime\")\n",
    "genre_factor <- factor(genre_vector)\n",
    "genre_factor\n",
    "\n",
    "#Summarizing factors\n",
    "summary(genre_vector) #basic info abt structure and content\n",
    "summary(genre_factor) #no. of occurrences of each component categories"
   ]
  },
  {
   "cell_type": "markdown",
   "metadata": {},
   "source": [
    "<h3>Types of factors</h3>\n",
    "\n",
    "1. Nominal categorical variables have no implied order\n",
    "2. Ordinal variables have ordering"
   ]
  },
  {
   "cell_type": "code",
   "execution_count": 294,
   "metadata": {
    "vscode": {
     "languageId": "r"
    }
   },
   "outputs": [
    {
     "data": {
      "text/html": [
       "<style>\n",
       ".list-inline {list-style: none; margin:0; padding: 0}\n",
       ".list-inline>li {display: inline-block}\n",
       ".list-inline>li:not(:last-child)::after {content: \"\\00b7\"; padding: 0 .5ex}\n",
       "</style>\n",
       "<ol class=list-inline><li>'Very short'</li><li>'Short'</li><li>'Medium'</li><li>'Short'</li><li>'Long'</li><li>'Very Short'</li><li>'Very Long'</li></ol>\n"
      ],
      "text/latex": [
       "\\begin{enumerate*}\n",
       "\\item 'Very short'\n",
       "\\item 'Short'\n",
       "\\item 'Medium'\n",
       "\\item 'Short'\n",
       "\\item 'Long'\n",
       "\\item 'Very Short'\n",
       "\\item 'Very Long'\n",
       "\\end{enumerate*}\n"
      ],
      "text/markdown": [
       "1. 'Very short'\n",
       "2. 'Short'\n",
       "3. 'Medium'\n",
       "4. 'Short'\n",
       "5. 'Long'\n",
       "6. 'Very Short'\n",
       "7. 'Very Long'\n",
       "\n",
       "\n"
      ],
      "text/plain": [
       "[1] \"Very short\" \"Short\"      \"Medium\"     \"Short\"      \"Long\"      \n",
       "[6] \"Very Short\" \"Very Long\" "
      ]
     },
     "metadata": {},
     "output_type": "display_data"
    }
   ],
   "source": [
    "#Ordered factors\n",
    "movielength_vector <- c(\"Very short\", \"Short\", \"Medium\", \"Short\",\n",
    "                        \"Long\", \"Very Short\", \"Very Long\")\n",
    "movielength_vector"
   ]
  },
  {
   "cell_type": "code",
   "execution_count": 295,
   "metadata": {
    "vscode": {
     "languageId": "r"
    }
   },
   "outputs": [
    {
     "data": {
      "text/html": [
       "<style>\n",
       ".list-inline {list-style: none; margin:0; padding: 0}\n",
       ".list-inline>li {display: inline-block}\n",
       ".list-inline>li:not(:last-child)::after {content: \"\\00b7\"; padding: 0 .5ex}\n",
       "</style>\n",
       "<ol class=list-inline><li>Very short</li><li>Short</li><li>Medium</li><li>Short</li><li>Long</li><li>Very Short</li><li>Very Long</li></ol>\n",
       "\n",
       "<details>\n",
       "\t<summary style=display:list-item;cursor:pointer>\n",
       "\t\t<strong>Levels</strong>:\n",
       "\t</summary>\n",
       "\t<style>\n",
       "\t.list-inline {list-style: none; margin:0; padding: 0}\n",
       "\t.list-inline>li {display: inline-block}\n",
       "\t.list-inline>li:not(:last-child)::after {content: \"\\00b7\"; padding: 0 .5ex}\n",
       "\t</style>\n",
       "\t<ol class=list-inline><li>'Long'</li><li>'Medium'</li><li>'Short'</li><li>'Very Long'</li><li>'Very Short'</li><li>'Very short'</li></ol>\n",
       "</details>"
      ],
      "text/latex": [
       "\\begin{enumerate*}\n",
       "\\item Very short\n",
       "\\item Short\n",
       "\\item Medium\n",
       "\\item Short\n",
       "\\item Long\n",
       "\\item Very Short\n",
       "\\item Very Long\n",
       "\\end{enumerate*}\n",
       "\n",
       "\\emph{Levels}: \\begin{enumerate*}\n",
       "\\item 'Long'\n",
       "\\item 'Medium'\n",
       "\\item 'Short'\n",
       "\\item 'Very Long'\n",
       "\\item 'Very Short'\n",
       "\\item 'Very short'\n",
       "\\end{enumerate*}\n"
      ],
      "text/markdown": [
       "1. Very short\n",
       "2. Short\n",
       "3. Medium\n",
       "4. Short\n",
       "5. Long\n",
       "6. Very Short\n",
       "7. Very Long\n",
       "\n",
       "\n",
       "\n",
       "**Levels**: 1. 'Long'\n",
       "2. 'Medium'\n",
       "3. 'Short'\n",
       "4. 'Very Long'\n",
       "5. 'Very Short'\n",
       "6. 'Very short'\n",
       "\n",
       "\n"
      ],
      "text/plain": [
       "[1] Very short Short      Medium     Short      Long       Very Short Very Long \n",
       "Levels: Long Medium Short Very Long Very Short Very short"
      ]
     },
     "metadata": {},
     "output_type": "display_data"
    },
    {
     "data": {
      "text/html": [
       "<style>\n",
       ".list-inline {list-style: none; margin:0; padding: 0}\n",
       ".list-inline>li {display: inline-block}\n",
       ".list-inline>li:not(:last-child)::after {content: \"\\00b7\"; padding: 0 .5ex}\n",
       "</style>\n",
       "<ol class=list-inline><li>&lt;NA&gt;</li><li>Short</li><li>Medium</li><li>Short</li><li>Long</li><li>Very Short</li><li>Very Long</li></ol>\n",
       "\n",
       "<details>\n",
       "\t<summary style=display:list-item;cursor:pointer>\n",
       "\t\t<strong>Levels</strong>:\n",
       "\t</summary>\n",
       "\t<style>\n",
       "\t.list-inline {list-style: none; margin:0; padding: 0}\n",
       "\t.list-inline>li {display: inline-block}\n",
       "\t.list-inline>li:not(:last-child)::after {content: \"\\00b7\"; padding: 0 .5ex}\n",
       "\t</style>\n",
       "\t<ol class=list-inline><li>'Very Short'</li><li>'Short'</li><li>'Medium'</li><li>'Long'</li><li>'Very Long'</li></ol>\n",
       "</details>"
      ],
      "text/latex": [
       "\\begin{enumerate*}\n",
       "\\item <NA>\n",
       "\\item Short\n",
       "\\item Medium\n",
       "\\item Short\n",
       "\\item Long\n",
       "\\item Very Short\n",
       "\\item Very Long\n",
       "\\end{enumerate*}\n",
       "\n",
       "\\emph{Levels}: \\begin{enumerate*}\n",
       "\\item 'Very Short'\n",
       "\\item 'Short'\n",
       "\\item 'Medium'\n",
       "\\item 'Long'\n",
       "\\item 'Very Long'\n",
       "\\end{enumerate*}\n"
      ],
      "text/markdown": [
       "1. &lt;NA&gt;\n",
       "2. Short\n",
       "3. Medium\n",
       "4. Short\n",
       "5. Long\n",
       "6. Very Short\n",
       "7. Very Long\n",
       "\n",
       "\n",
       "\n",
       "**Levels**: 1. 'Very Short'\n",
       "2. 'Short'\n",
       "3. 'Medium'\n",
       "4. 'Long'\n",
       "5. 'Very Long'\n",
       "\n",
       "\n"
      ],
      "text/plain": [
       "[1] <NA>       Short      Medium     Short      Long       Very Short Very Long \n",
       "Levels: Very Short < Short < Medium < Long < Very Long"
      ]
     },
     "metadata": {},
     "output_type": "display_data"
    }
   ],
   "source": [
    "movielength_factor <- factor(movielength_vector)\n",
    "movielength_factor\n",
    "movielength_orderedfactor <- factor(movielength_vector,\n",
    "                                    ordered = TRUE,\n",
    "                                    levels = c(\"Very Short\", \"Short\", \"Medium\",\n",
    "                                                \"Long\", \"Very Long\"))\n",
    "movielength_orderedfactor"
   ]
  },
  {
   "cell_type": "markdown",
   "metadata": {},
   "source": [
    "<h3>Vector Operations</h3>\n",
    "\n",
    "1. Name the elements of vector\n",
    "2. Return the length of vector\n",
    "3. Sort vector\n",
    "4. Find smallest or largest number in vector\n",
    "5. Return ave of numbers in vector\n",
    "6. Return vector summary\n",
    "7. Index values in vector\n",
    "8. Identitfy missigng values in vector\n",
    "9. Perform arithmetic on values in vector"
   ]
  },
  {
   "cell_type": "code",
   "execution_count": 296,
   "metadata": {
    "vscode": {
     "languageId": "r"
    }
   },
   "outputs": [
    {
     "data": {
      "text/html": [
       "<strong>Black Swan:</strong> 2010"
      ],
      "text/latex": [
       "\\textbf{Black Swan:} 2010"
      ],
      "text/markdown": [
       "**Black Swan:** 2010"
      ],
      "text/plain": [
       "Black Swan \n",
       "      2010 "
      ]
     },
     "metadata": {},
     "output_type": "display_data"
    }
   ],
   "source": [
    "#names() function\n",
    "year <- c(1985, 1999, 2010, 2002)\n",
    "names(year) <- c(\"The Breakfast Club\", \"American Beauty\",\n",
    "                \"Black Swan\", \"Chicago\") #maps year and title together\n",
    "year['Black Swan']"
   ]
  },
  {
   "cell_type": "code",
   "execution_count": 297,
   "metadata": {
    "vscode": {
     "languageId": "r"
    }
   },
   "outputs": [
    {
     "data": {
      "text/html": [
       "4"
      ],
      "text/latex": [
       "4"
      ],
      "text/markdown": [
       "4"
      ],
      "text/plain": [
       "[1] 4"
      ]
     },
     "metadata": {},
     "output_type": "display_data"
    }
   ],
   "source": [
    "#length() function\n",
    "length(year)"
   ]
  },
  {
   "cell_type": "code",
   "execution_count": 298,
   "metadata": {
    "vscode": {
     "languageId": "r"
    }
   },
   "outputs": [
    {
     "data": {
      "text/html": [
       "<style>\n",
       ".dl-inline {width: auto; margin:0; padding: 0}\n",
       ".dl-inline>dt, .dl-inline>dd {float: none; width: auto; display: inline-block}\n",
       ".dl-inline>dt::after {content: \":\\0020\"; padding-right: .5ex}\n",
       ".dl-inline>dt:not(:first-of-type) {padding-left: .5ex}\n",
       "</style><dl class=dl-inline><dt>The Breakfast Club</dt><dd>1985</dd><dt>American Beauty</dt><dd>1999</dd><dt>Chicago</dt><dd>2002</dd><dt>Black Swan</dt><dd>2010</dd></dl>\n"
      ],
      "text/latex": [
       "\\begin{description*}\n",
       "\\item[The Breakfast Club] 1985\n",
       "\\item[American Beauty] 1999\n",
       "\\item[Chicago] 2002\n",
       "\\item[Black Swan] 2010\n",
       "\\end{description*}\n"
      ],
      "text/markdown": [
       "The Breakfast Club\n",
       ":   1985American Beauty\n",
       ":   1999Chicago\n",
       ":   2002Black Swan\n",
       ":   2010\n",
       "\n"
      ],
      "text/plain": [
       "The Breakfast Club    American Beauty            Chicago         Black Swan \n",
       "              1985               1999               2002               2010 "
      ]
     },
     "metadata": {},
     "output_type": "display_data"
    }
   ],
   "source": [
    "#sort() function\n",
    "sort(year)"
   ]
  },
  {
   "cell_type": "code",
   "execution_count": 299,
   "metadata": {
    "vscode": {
     "languageId": "r"
    }
   },
   "outputs": [
    {
     "data": {
      "text/html": [
       "1985"
      ],
      "text/latex": [
       "1985"
      ],
      "text/markdown": [
       "1985"
      ],
      "text/plain": [
       "[1] 1985"
      ]
     },
     "metadata": {},
     "output_type": "display_data"
    },
    {
     "data": {
      "text/html": [
       "2010"
      ],
      "text/latex": [
       "2010"
      ],
      "text/markdown": [
       "2010"
      ],
      "text/plain": [
       "[1] 2010"
      ]
     },
     "metadata": {},
     "output_type": "display_data"
    }
   ],
   "source": [
    "#min() max() function\n",
    "min(year)\n",
    "max(year)"
   ]
  },
  {
   "cell_type": "code",
   "execution_count": 300,
   "metadata": {
    "vscode": {
     "languageId": "r"
    }
   },
   "outputs": [
    {
     "data": {
      "text/html": [
       "8.4"
      ],
      "text/latex": [
       "8.4"
      ],
      "text/markdown": [
       "8.4"
      ],
      "text/plain": [
       "[1] 8.4"
      ]
     },
     "metadata": {},
     "output_type": "display_data"
    },
    {
     "data": {
      "text/html": [
       "8.4"
      ],
      "text/latex": [
       "8.4"
      ],
      "text/markdown": [
       "8.4"
      ],
      "text/plain": [
       "[1] 8.4"
      ]
     },
     "metadata": {},
     "output_type": "display_data"
    }
   ],
   "source": [
    "#mean() function\n",
    "cost_2014 <- c(8.6, 8.5, 8.1)\n",
    "mean(cost_2014)\n",
    "#or\n",
    "sum(cost_2014)/length(cost_2014)"
   ]
  },
  {
   "cell_type": "code",
   "execution_count": 301,
   "metadata": {
    "vscode": {
     "languageId": "r"
    }
   },
   "outputs": [
    {
     "data": {
      "text/plain": [
       "   Min. 1st Qu.  Median    Mean 3rd Qu.    Max. \n",
       "   8.10    8.30    8.50    8.40    8.55    8.60 "
      ]
     },
     "metadata": {},
     "output_type": "display_data"
    }
   ],
   "source": [
    "#summary() function\n",
    "summary(cost_2014)"
   ]
  },
  {
   "cell_type": "code",
   "execution_count": 302,
   "metadata": {
    "vscode": {
     "languageId": "r"
    }
   },
   "outputs": [
    {
     "data": {
      "text/html": [
       "8.5"
      ],
      "text/latex": [
       "8.5"
      ],
      "text/markdown": [
       "8.5"
      ],
      "text/plain": [
       "[1] 8.5"
      ]
     },
     "metadata": {},
     "output_type": "display_data"
    },
    {
     "data": {
      "text/html": [
       "<style>\n",
       ".list-inline {list-style: none; margin:0; padding: 0}\n",
       ".list-inline>li {display: inline-block}\n",
       ".list-inline>li:not(:last-child)::after {content: \"\\00b7\"; padding: 0 .5ex}\n",
       "</style>\n",
       "<ol class=list-inline><li>8.6</li><li>8.1</li></ol>\n"
      ],
      "text/latex": [
       "\\begin{enumerate*}\n",
       "\\item 8.6\n",
       "\\item 8.1\n",
       "\\end{enumerate*}\n"
      ],
      "text/markdown": [
       "1. 8.6\n",
       "2. 8.1\n",
       "\n",
       "\n"
      ],
      "text/plain": [
       "[1] 8.6 8.1"
      ]
     },
     "metadata": {},
     "output_type": "display_data"
    },
    {
     "data": {
      "text/html": [
       "<style>\n",
       ".list-inline {list-style: none; margin:0; padding: 0}\n",
       ".list-inline>li {display: inline-block}\n",
       ".list-inline>li:not(:last-child)::after {content: \"\\00b7\"; padding: 0 .5ex}\n",
       "</style>\n",
       "<ol class=list-inline><li>8.6</li><li>8.5</li><li>8.1</li></ol>\n"
      ],
      "text/latex": [
       "\\begin{enumerate*}\n",
       "\\item 8.6\n",
       "\\item 8.5\n",
       "\\item 8.1\n",
       "\\end{enumerate*}\n"
      ],
      "text/markdown": [
       "1. 8.6\n",
       "2. 8.5\n",
       "3. 8.1\n",
       "\n",
       "\n"
      ],
      "text/plain": [
       "[1] 8.6 8.5 8.1"
      ]
     },
     "metadata": {},
     "output_type": "display_data"
    },
    {
     "data": {
      "text/html": [
       "<style>\n",
       ".list-inline {list-style: none; margin:0; padding: 0}\n",
       ".list-inline>li {display: inline-block}\n",
       ".list-inline>li:not(:last-child)::after {content: \"\\00b7\"; padding: 0 .5ex}\n",
       "</style>\n",
       "<ol class=list-inline><li>'Black Swan'</li><li>'Casino'</li><li>'Jumanji'</li><li>'Toy Story'</li></ol>\n"
      ],
      "text/latex": [
       "\\begin{enumerate*}\n",
       "\\item 'Black Swan'\n",
       "\\item 'Casino'\n",
       "\\item 'Jumanji'\n",
       "\\item 'Toy Story'\n",
       "\\end{enumerate*}\n"
      ],
      "text/markdown": [
       "1. 'Black Swan'\n",
       "2. 'Casino'\n",
       "3. 'Jumanji'\n",
       "4. 'Toy Story'\n",
       "\n",
       "\n"
      ],
      "text/plain": [
       "[1] \"Black Swan\" \"Casino\"     \"Jumanji\"    \"Toy Story\" "
      ]
     },
     "metadata": {},
     "output_type": "display_data"
    },
    {
     "data": {
      "text/html": [
       "&lt;NA&gt;"
      ],
      "text/latex": [
       "<NA>"
      ],
      "text/markdown": [
       "&lt;NA&gt;"
      ],
      "text/plain": [
       "[1] NA"
      ]
     },
     "metadata": {},
     "output_type": "display_data"
    },
    {
     "data": {
      "text/html": [
       "<style>\n",
       ".list-inline {list-style: none; margin:0; padding: 0}\n",
       ".list-inline>li {display: inline-block}\n",
       ".list-inline>li:not(:last-child)::after {content: \"\\00b7\"; padding: 0 .5ex}\n",
       "</style>\n",
       "<ol class=list-inline><li>TRUE</li><li>TRUE</li><li>FALSE</li></ol>\n"
      ],
      "text/latex": [
       "\\begin{enumerate*}\n",
       "\\item TRUE\n",
       "\\item TRUE\n",
       "\\item FALSE\n",
       "\\end{enumerate*}\n"
      ],
      "text/markdown": [
       "1. TRUE\n",
       "2. TRUE\n",
       "3. FALSE\n",
       "\n",
       "\n"
      ],
      "text/plain": [
       "[1]  TRUE  TRUE FALSE"
      ]
     },
     "metadata": {},
     "output_type": "display_data"
    }
   ],
   "source": [
    "#vector index function\n",
    "cost_2014[2] #2nd element\n",
    "#or vector in []\n",
    "cost_2014[c(1,3)] #individual elements\n",
    "cost_2014[1:3] #range of elements to display\n",
    "\n",
    "#return -ve index values\n",
    "titles <- c(\"Black Swan\", \"Casino\", \"City of God\", \"Jumanji\", \"Toy Story\")\n",
    "titles[-3] #removes element in index 3\n",
    "\n",
    "#out of range\n",
    "cost_2014[100] #shows NA\n",
    "\n",
    "#conditional index\n",
    "cost_2014 > 8.2"
   ]
  },
  {
   "cell_type": "code",
   "execution_count": 303,
   "metadata": {
    "vscode": {
     "languageId": "r"
    }
   },
   "outputs": [
    {
     "data": {
      "text/html": [
       "<style>\n",
       ".list-inline {list-style: none; margin:0; padding: 0}\n",
       ".list-inline>li {display: inline-block}\n",
       ".list-inline>li:not(:last-child)::after {content: \"\\00b7\"; padding: 0 .5ex}\n",
       "</style>\n",
       "<ol class=list-inline><li>28</li><li>48</li><li>0</li><li>20</li><li>108</li><li>54</li></ol>\n"
      ],
      "text/latex": [
       "\\begin{enumerate*}\n",
       "\\item 28\n",
       "\\item 48\n",
       "\\item 0\n",
       "\\item 20\n",
       "\\item 108\n",
       "\\item 54\n",
       "\\end{enumerate*}\n"
      ],
      "text/markdown": [
       "1. 28\n",
       "2. 48\n",
       "3. 0\n",
       "4. 20\n",
       "5. 108\n",
       "6. 54\n",
       "\n",
       "\n"
      ],
      "text/plain": [
       "[1]  28  48   0  20 108  54"
      ]
     },
     "metadata": {},
     "output_type": "display_data"
    },
    {
     "data": {
      "text/html": [
       "<style>\n",
       ".list-inline {list-style: none; margin:0; padding: 0}\n",
       ".list-inline>li {display: inline-block}\n",
       ".list-inline>li:not(:last-child)::after {content: \"\\00b7\"; padding: 0 .5ex}\n",
       "</style>\n",
       "<ol class=list-inline><li>86</li><li>85</li><li>81</li></ol>\n"
      ],
      "text/latex": [
       "\\begin{enumerate*}\n",
       "\\item 86\n",
       "\\item 85\n",
       "\\item 81\n",
       "\\end{enumerate*}\n"
      ],
      "text/markdown": [
       "1. 86\n",
       "2. 85\n",
       "3. 81\n",
       "\n",
       "\n"
      ],
      "text/plain": [
       "[1] 86 85 81"
      ]
     },
     "metadata": {},
     "output_type": "display_data"
    }
   ],
   "source": [
    "#arithmetic done element wise\n",
    "\n",
    "age <- c(14,16,12,10,18,18)\n",
    "number <- c(2,3,0,2,6,3)\n",
    "multiply <- age*number\n",
    "multiply\n",
    "\n",
    "cost_2014 <- c(8.6, 8.5, 8.1)\n",
    "cost_2014*10"
   ]
  },
  {
   "cell_type": "markdown",
   "metadata": {},
   "source": [
    "<h3>Lists</h3>"
   ]
  },
  {
   "cell_type": "code",
   "execution_count": 304,
   "metadata": {
    "vscode": {
     "languageId": "r"
    }
   },
   "outputs": [
    {
     "data": {
      "text/html": [
       "<ol>\n",
       "\t<li>'Toy Story'</li>\n",
       "\t<li>1995</li>\n",
       "\t<li><style>\n",
       ".list-inline {list-style: none; margin:0; padding: 0}\n",
       ".list-inline>li {display: inline-block}\n",
       ".list-inline>li:not(:last-child)::after {content: \"\\00b7\"; padding: 0 .5ex}\n",
       "</style>\n",
       "<ol class=list-inline><li>'Animation'</li><li>'Adventure'</li><li>'Comedy'</li></ol>\n",
       "</li>\n",
       "</ol>\n"
      ],
      "text/latex": [
       "\\begin{enumerate}\n",
       "\\item 'Toy Story'\n",
       "\\item 1995\n",
       "\\item \\begin{enumerate*}\n",
       "\\item 'Animation'\n",
       "\\item 'Adventure'\n",
       "\\item 'Comedy'\n",
       "\\end{enumerate*}\n",
       "\n",
       "\\end{enumerate}\n"
      ],
      "text/markdown": [
       "1. 'Toy Story'\n",
       "2. 1995\n",
       "3. 1. 'Animation'\n",
       "2. 'Adventure'\n",
       "3. 'Comedy'\n",
       "\n",
       "\n",
       "\n",
       "\n",
       "\n"
      ],
      "text/plain": [
       "[[1]]\n",
       "[1] \"Toy Story\"\n",
       "\n",
       "[[2]]\n",
       "[1] 1995\n",
       "\n",
       "[[3]]\n",
       "[1] \"Animation\" \"Adventure\" \"Comedy\"   \n"
      ]
     },
     "metadata": {},
     "output_type": "display_data"
    },
    {
     "data": {
      "text/html": [
       "<ol>\n",
       "\t<li><style>\n",
       ".list-inline {list-style: none; margin:0; padding: 0}\n",
       ".list-inline>li {display: inline-block}\n",
       ".list-inline>li:not(:last-child)::after {content: \"\\00b7\"; padding: 0 .5ex}\n",
       "</style>\n",
       "<ol class=list-inline><li>'Animation'</li><li>'Adventure'</li><li>'Comedy'</li></ol>\n",
       "</li>\n",
       "</ol>\n"
      ],
      "text/latex": [
       "\\begin{enumerate}\n",
       "\\item \\begin{enumerate*}\n",
       "\\item 'Animation'\n",
       "\\item 'Adventure'\n",
       "\\item 'Comedy'\n",
       "\\end{enumerate*}\n",
       "\n",
       "\\end{enumerate}\n"
      ],
      "text/markdown": [
       "1. 1. 'Animation'\n",
       "2. 'Adventure'\n",
       "3. 'Comedy'\n",
       "\n",
       "\n",
       "\n",
       "\n",
       "\n"
      ],
      "text/plain": [
       "[[1]]\n",
       "[1] \"Animation\" \"Adventure\" \"Comedy\"   \n"
      ]
     },
     "metadata": {},
     "output_type": "display_data"
    }
   ],
   "source": [
    "movie <- list(\"Toy Story\", 1995, c(\"Animation\", \"Adventure\", \"Comedy\"))\n",
    "movie\n",
    "movie[3]"
   ]
  },
  {
   "cell_type": "code",
   "execution_count": 305,
   "metadata": {
    "vscode": {
     "languageId": "r"
    }
   },
   "outputs": [
    {
     "data": {
      "text/html": [
       "<dl>\n",
       "\t<dt>$name</dt>\n",
       "\t\t<dd>'Toy Story'</dd>\n",
       "\t<dt>$year</dt>\n",
       "\t\t<dd>1995</dd>\n",
       "\t<dt>$genre</dt>\n",
       "\t\t<dd><style>\n",
       ".list-inline {list-style: none; margin:0; padding: 0}\n",
       ".list-inline>li {display: inline-block}\n",
       ".list-inline>li:not(:last-child)::after {content: \"\\00b7\"; padding: 0 .5ex}\n",
       "</style>\n",
       "<ol class=list-inline><li>'Animation'</li><li>'Adventure'</li><li>'Comedy'</li></ol>\n",
       "</dd>\n",
       "</dl>\n"
      ],
      "text/latex": [
       "\\begin{description}\n",
       "\\item[\\$name] 'Toy Story'\n",
       "\\item[\\$year] 1995\n",
       "\\item[\\$genre] \\begin{enumerate*}\n",
       "\\item 'Animation'\n",
       "\\item 'Adventure'\n",
       "\\item 'Comedy'\n",
       "\\end{enumerate*}\n",
       "\n",
       "\\end{description}\n"
      ],
      "text/markdown": [
       "$name\n",
       ":   'Toy Story'\n",
       "$year\n",
       ":   1995\n",
       "$genre\n",
       ":   1. 'Animation'\n",
       "2. 'Adventure'\n",
       "3. 'Comedy'\n",
       "\n",
       "\n",
       "\n",
       "\n",
       "\n"
      ],
      "text/plain": [
       "$name\n",
       "[1] \"Toy Story\"\n",
       "\n",
       "$year\n",
       "[1] 1995\n",
       "\n",
       "$genre\n",
       "[1] \"Animation\" \"Adventure\" \"Comedy\"   \n"
      ]
     },
     "metadata": {},
     "output_type": "display_data"
    }
   ],
   "source": [
    "#Named Lists\n",
    "movie <- list(name=\"Toy Story\",\n",
    "              year=1995,\n",
    "              genre=c(\"Animation\", \"Adventure\", \"Comedy\"))\n",
    "movie"
   ]
  },
  {
   "cell_type": "code",
   "execution_count": 306,
   "metadata": {
    "vscode": {
     "languageId": "r"
    }
   },
   "outputs": [
    {
     "data": {
      "text/html": [
       "<style>\n",
       ".list-inline {list-style: none; margin:0; padding: 0}\n",
       ".list-inline>li {display: inline-block}\n",
       ".list-inline>li:not(:last-child)::after {content: \"\\00b7\"; padding: 0 .5ex}\n",
       "</style>\n",
       "<ol class=list-inline><li>'Animation'</li><li>'Adventure'</li><li>'Comedy'</li></ol>\n"
      ],
      "text/latex": [
       "\\begin{enumerate*}\n",
       "\\item 'Animation'\n",
       "\\item 'Adventure'\n",
       "\\item 'Comedy'\n",
       "\\end{enumerate*}\n"
      ],
      "text/markdown": [
       "1. 'Animation'\n",
       "2. 'Adventure'\n",
       "3. 'Comedy'\n",
       "\n",
       "\n"
      ],
      "text/plain": [
       "[1] \"Animation\" \"Adventure\" \"Comedy\"   "
      ]
     },
     "metadata": {},
     "output_type": "display_data"
    },
    {
     "data": {
      "text/html": [
       "<strong>$genre</strong> = <style>\n",
       ".list-inline {list-style: none; margin:0; padding: 0}\n",
       ".list-inline>li {display: inline-block}\n",
       ".list-inline>li:not(:last-child)::after {content: \"\\00b7\"; padding: 0 .5ex}\n",
       "</style>\n",
       "<ol class=list-inline><li>'Animation'</li><li>'Adventure'</li><li>'Comedy'</li></ol>\n"
      ],
      "text/latex": [
       "\\textbf{\\$genre} = \\begin{enumerate*}\n",
       "\\item 'Animation'\n",
       "\\item 'Adventure'\n",
       "\\item 'Comedy'\n",
       "\\end{enumerate*}\n"
      ],
      "text/markdown": [
       "**$genre** = 1. 'Animation'\n",
       "2. 'Adventure'\n",
       "3. 'Comedy'\n",
       "\n",
       "\n"
      ],
      "text/plain": [
       "$genre\n",
       "[1] \"Animation\" \"Adventure\" \"Comedy\"   \n"
      ]
     },
     "metadata": {},
     "output_type": "display_data"
    },
    {
     "name": "stdout",
     "output_type": "stream",
     "text": [
      "[1] \"Append new element:\"\n"
     ]
    },
    {
     "data": {
      "text/html": [
       "<dl>\n",
       "\t<dt>$name</dt>\n",
       "\t\t<dd>'Toy Story'</dd>\n",
       "\t<dt>$year</dt>\n",
       "\t\t<dd>1995</dd>\n",
       "\t<dt>$genre</dt>\n",
       "\t\t<dd><style>\n",
       ".list-inline {list-style: none; margin:0; padding: 0}\n",
       ".list-inline>li {display: inline-block}\n",
       ".list-inline>li:not(:last-child)::after {content: \"\\00b7\"; padding: 0 .5ex}\n",
       "</style>\n",
       "<ol class=list-inline><li>'Animation'</li><li>'Adventure'</li><li>'Comedy'</li></ol>\n",
       "</dd>\n",
       "\t<dt>$age</dt>\n",
       "\t\t<dd>22</dd>\n",
       "</dl>\n"
      ],
      "text/latex": [
       "\\begin{description}\n",
       "\\item[\\$name] 'Toy Story'\n",
       "\\item[\\$year] 1995\n",
       "\\item[\\$genre] \\begin{enumerate*}\n",
       "\\item 'Animation'\n",
       "\\item 'Adventure'\n",
       "\\item 'Comedy'\n",
       "\\end{enumerate*}\n",
       "\n",
       "\\item[\\$age] 22\n",
       "\\end{description}\n"
      ],
      "text/markdown": [
       "$name\n",
       ":   'Toy Story'\n",
       "$year\n",
       ":   1995\n",
       "$genre\n",
       ":   1. 'Animation'\n",
       "2. 'Adventure'\n",
       "3. 'Comedy'\n",
       "\n",
       "\n",
       "\n",
       "$age\n",
       ":   22\n",
       "\n",
       "\n"
      ],
      "text/plain": [
       "$name\n",
       "[1] \"Toy Story\"\n",
       "\n",
       "$year\n",
       "[1] 1995\n",
       "\n",
       "$genre\n",
       "[1] \"Animation\" \"Adventure\" \"Comedy\"   \n",
       "\n",
       "$age\n",
       "[1] 22\n"
      ]
     },
     "metadata": {},
     "output_type": "display_data"
    }
   ],
   "source": [
    "movie$genre\n",
    "#or\n",
    "movie[\"genre\"]\n",
    "\n",
    "print(\"Append new element:\")\n",
    "movie2=movie\n",
    "\n",
    "#appending new element to end of list\n",
    "movie2[\"age\"] <- 22\n",
    "movie2"
   ]
  },
  {
   "cell_type": "markdown",
   "metadata": {},
   "source": [
    "<h3>Arrays and Matrices</h3>"
   ]
  },
  {
   "cell_type": "code",
   "execution_count": 307,
   "metadata": {
    "vscode": {
     "languageId": "r"
    }
   },
   "outputs": [
    {
     "data": {
      "text/html": [
       "<table class=\"dataframe\">\n",
       "<caption>A matrix: 4 × 3 of type chr</caption>\n",
       "<tbody>\n",
       "\t<tr><td>Akira    </td><td>Whiplash  </td><td>Jumanji  </td></tr>\n",
       "\t<tr><td>Toy Story</td><td>Star Wars </td><td>Akira    </td></tr>\n",
       "\t<tr><td>Room     </td><td>The Ring  </td><td>Toy Story</td></tr>\n",
       "\t<tr><td>The Wave </td><td>The Artist</td><td>Room     </td></tr>\n",
       "</tbody>\n",
       "</table>\n"
      ],
      "text/latex": [
       "A matrix: 4 × 3 of type chr\n",
       "\\begin{tabular}{lll}\n",
       "\t Akira     & Whiplash   & Jumanji  \\\\\n",
       "\t Toy Story & Star Wars  & Akira    \\\\\n",
       "\t Room      & The Ring   & Toy Story\\\\\n",
       "\t The Wave  & The Artist & Room     \\\\\n",
       "\\end{tabular}\n"
      ],
      "text/markdown": [
       "\n",
       "A matrix: 4 × 3 of type chr\n",
       "\n",
       "| Akira     | Whiplash   | Jumanji   |\n",
       "| Toy Story | Star Wars  | Akira     |\n",
       "| Room      | The Ring   | Toy Story |\n",
       "| The Wave  | The Artist | Room      |\n",
       "\n"
      ],
      "text/plain": [
       "     [,1]      [,2]       [,3]     \n",
       "[1,] Akira     Whiplash   Jumanji  \n",
       "[2,] Toy Story Star Wars  Akira    \n",
       "[3,] Room      The Ring   Toy Story\n",
       "[4,] The Wave  The Artist Room     "
      ]
     },
     "metadata": {},
     "output_type": "display_data"
    },
    {
     "data": {
      "text/html": [
       "'The Ring'"
      ],
      "text/latex": [
       "'The Ring'"
      ],
      "text/markdown": [
       "'The Ring'"
      ],
      "text/plain": [
       "[1] \"The Ring\""
      ]
     },
     "metadata": {},
     "output_type": "display_data"
    },
    {
     "data": {
      "text/html": [
       "<style>\n",
       ".list-inline {list-style: none; margin:0; padding: 0}\n",
       ".list-inline>li {display: inline-block}\n",
       ".list-inline>li:not(:last-child)::after {content: \"\\00b7\"; padding: 0 .5ex}\n",
       "</style>\n",
       "<ol class=list-inline><li>'Akira'</li><li>'Whiplash'</li><li>'Jumanji'</li></ol>\n"
      ],
      "text/latex": [
       "\\begin{enumerate*}\n",
       "\\item 'Akira'\n",
       "\\item 'Whiplash'\n",
       "\\item 'Jumanji'\n",
       "\\end{enumerate*}\n"
      ],
      "text/markdown": [
       "1. 'Akira'\n",
       "2. 'Whiplash'\n",
       "3. 'Jumanji'\n",
       "\n",
       "\n"
      ],
      "text/plain": [
       "[1] \"Akira\"    \"Whiplash\" \"Jumanji\" "
      ]
     },
     "metadata": {},
     "output_type": "display_data"
    }
   ],
   "source": [
    "#Arrays\n",
    "movie_vector <- c(\"Akira\", \"Toy Story\", \"Room\", \"The Wave\", \"Whiplash\",\n",
    "                  \"Star Wars\", \"The Ring\", \"The Artist\", \"Jumanji\")\n",
    "movie_array <- array(movie_vector, dim=c(4,3))\n",
    "movie_array\n",
    "\n",
    "movie_array[3,2]\n",
    "movie_array[1,]"
   ]
  },
  {
   "cell_type": "code",
   "execution_count": 308,
   "metadata": {
    "vscode": {
     "languageId": "r"
    }
   },
   "outputs": [
    {
     "data": {
      "text/html": [
       "<table class=\"dataframe\">\n",
       "<caption>A matrix: 3 × 3 of type chr</caption>\n",
       "<tbody>\n",
       "\t<tr><td>Akira    </td><td>The Wave </td><td>The Ring  </td></tr>\n",
       "\t<tr><td>Toy Story</td><td>Whiplash </td><td>The Artist</td></tr>\n",
       "\t<tr><td>Room     </td><td>Star Wars</td><td>Jumanji   </td></tr>\n",
       "</tbody>\n",
       "</table>\n"
      ],
      "text/latex": [
       "A matrix: 3 × 3 of type chr\n",
       "\\begin{tabular}{lll}\n",
       "\t Akira     & The Wave  & The Ring  \\\\\n",
       "\t Toy Story & Whiplash  & The Artist\\\\\n",
       "\t Room      & Star Wars & Jumanji   \\\\\n",
       "\\end{tabular}\n"
      ],
      "text/markdown": [
       "\n",
       "A matrix: 3 × 3 of type chr\n",
       "\n",
       "| Akira     | The Wave  | The Ring   |\n",
       "| Toy Story | Whiplash  | The Artist |\n",
       "| Room      | Star Wars | Jumanji    |\n",
       "\n"
      ],
      "text/plain": [
       "     [,1]      [,2]      [,3]      \n",
       "[1,] Akira     The Wave  The Ring  \n",
       "[2,] Toy Story Whiplash  The Artist\n",
       "[3,] Room      Star Wars Jumanji   "
      ]
     },
     "metadata": {},
     "output_type": "display_data"
    },
    {
     "data": {
      "text/html": [
       "<table class=\"dataframe\">\n",
       "<caption>A matrix: 3 × 3 of type chr</caption>\n",
       "<tbody>\n",
       "\t<tr><td>Akira   </td><td>Toy Story </td><td>Room     </td></tr>\n",
       "\t<tr><td>The Wave</td><td>Whiplash  </td><td>Star Wars</td></tr>\n",
       "\t<tr><td>The Ring</td><td>The Artist</td><td>Jumanji  </td></tr>\n",
       "</tbody>\n",
       "</table>\n"
      ],
      "text/latex": [
       "A matrix: 3 × 3 of type chr\n",
       "\\begin{tabular}{lll}\n",
       "\t Akira    & Toy Story  & Room     \\\\\n",
       "\t The Wave & Whiplash   & Star Wars\\\\\n",
       "\t The Ring & The Artist & Jumanji  \\\\\n",
       "\\end{tabular}\n"
      ],
      "text/markdown": [
       "\n",
       "A matrix: 3 × 3 of type chr\n",
       "\n",
       "| Akira    | Toy Story  | Room      |\n",
       "| The Wave | Whiplash   | Star Wars |\n",
       "| The Ring | The Artist | Jumanji   |\n",
       "\n"
      ],
      "text/plain": [
       "     [,1]     [,2]       [,3]     \n",
       "[1,] Akira    Toy Story  Room     \n",
       "[2,] The Wave Whiplash   Star Wars\n",
       "[3,] The Ring The Artist Jumanji  "
      ]
     },
     "metadata": {},
     "output_type": "display_data"
    },
    {
     "data": {
      "text/html": [
       "'Star Wars'"
      ],
      "text/latex": [
       "'Star Wars'"
      ],
      "text/markdown": [
       "'Star Wars'"
      ],
      "text/plain": [
       "[1] \"Star Wars\""
      ]
     },
     "metadata": {},
     "output_type": "display_data"
    },
    {
     "data": {
      "text/html": [
       "<style>\n",
       ".list-inline {list-style: none; margin:0; padding: 0}\n",
       ".list-inline>li {display: inline-block}\n",
       ".list-inline>li:not(:last-child)::after {content: \"\\00b7\"; padding: 0 .5ex}\n",
       "</style>\n",
       "<ol class=list-inline><li>'Toy Story'</li><li>'Whiplash'</li><li>'The Artist'</li></ol>\n"
      ],
      "text/latex": [
       "\\begin{enumerate*}\n",
       "\\item 'Toy Story'\n",
       "\\item 'Whiplash'\n",
       "\\item 'The Artist'\n",
       "\\end{enumerate*}\n"
      ],
      "text/markdown": [
       "1. 'Toy Story'\n",
       "2. 'Whiplash'\n",
       "3. 'The Artist'\n",
       "\n",
       "\n"
      ],
      "text/plain": [
       "[1] \"Toy Story\"  \"Whiplash\"   \"The Artist\""
      ]
     },
     "metadata": {},
     "output_type": "display_data"
    }
   ],
   "source": [
    "#Matrices\n",
    "movie_vector <- c(\"Akira\", \"Toy Story\", \"Room\", \"The Wave\", \"Whiplash\",\n",
    "                  \"Star Wars\", \"The Ring\", \"The Artist\", \"Jumanji\")\n",
    "\n",
    "###        By default, matrix is arranged by columns!         ###\n",
    "\n",
    "movie_matrix <- matrix(movie_vector, nrow=3, ncol=3)\n",
    "movie_matrix2 <- matrix(movie_vector, nrow=3, ncol=3, byrow=TRUE)\n",
    "movie_matrix\n",
    "movie_matrix2\n",
    "\n",
    "movie_matrix[3,2]\n",
    "movie_matrix[2,]"
   ]
  },
  {
   "cell_type": "markdown",
   "metadata": {},
   "source": [
    "<h3>Data Frames</h3>\n",
    "\n",
    "-   type of structure that contains correlated information\n",
    "-   use 'data.frame' function & each argument is a vector that represents one of the columns"
   ]
  },
  {
   "cell_type": "code",
   "execution_count": 309,
   "metadata": {
    "vscode": {
     "languageId": "r"
    }
   },
   "outputs": [
    {
     "data": {
      "text/html": [
       "<table class=\"dataframe\">\n",
       "<caption>A data.frame: 8 × 2</caption>\n",
       "<thead>\n",
       "\t<tr><th scope=col>name</th><th scope=col>year</th></tr>\n",
       "\t<tr><th scope=col>&lt;chr&gt;</th><th scope=col>&lt;dbl&gt;</th></tr>\n",
       "</thead>\n",
       "<tbody>\n",
       "\t<tr><td>Toy Story         </td><td>1995</td></tr>\n",
       "\t<tr><td>Akira             </td><td>1998</td></tr>\n",
       "\t<tr><td>The Breakfast Club</td><td>1985</td></tr>\n",
       "\t<tr><td>The Artist        </td><td>2011</td></tr>\n",
       "\t<tr><td>Modern Times      </td><td>1936</td></tr>\n",
       "\t<tr><td>Fight Club        </td><td>1999</td></tr>\n",
       "\t<tr><td>City of God       </td><td>2002</td></tr>\n",
       "\t<tr><td>The Untouchables  </td><td>1987</td></tr>\n",
       "</tbody>\n",
       "</table>\n"
      ],
      "text/latex": [
       "A data.frame: 8 × 2\n",
       "\\begin{tabular}{ll}\n",
       " name & year\\\\\n",
       " <chr> & <dbl>\\\\\n",
       "\\hline\n",
       "\t Toy Story          & 1995\\\\\n",
       "\t Akira              & 1998\\\\\n",
       "\t The Breakfast Club & 1985\\\\\n",
       "\t The Artist         & 2011\\\\\n",
       "\t Modern Times       & 1936\\\\\n",
       "\t Fight Club         & 1999\\\\\n",
       "\t City of God        & 2002\\\\\n",
       "\t The Untouchables   & 1987\\\\\n",
       "\\end{tabular}\n"
      ],
      "text/markdown": [
       "\n",
       "A data.frame: 8 × 2\n",
       "\n",
       "| name &lt;chr&gt; | year &lt;dbl&gt; |\n",
       "|---|---|\n",
       "| Toy Story          | 1995 |\n",
       "| Akira              | 1998 |\n",
       "| The Breakfast Club | 1985 |\n",
       "| The Artist         | 2011 |\n",
       "| Modern Times       | 1936 |\n",
       "| Fight Club         | 1999 |\n",
       "| City of God        | 2002 |\n",
       "| The Untouchables   | 1987 |\n",
       "\n"
      ],
      "text/plain": [
       "  name               year\n",
       "1 Toy Story          1995\n",
       "2 Akira              1998\n",
       "3 The Breakfast Club 1985\n",
       "4 The Artist         2011\n",
       "5 Modern Times       1936\n",
       "6 Fight Club         1999\n",
       "7 City of God        2002\n",
       "8 The Untouchables   1987"
      ]
     },
     "metadata": {},
     "output_type": "display_data"
    }
   ],
   "source": [
    "movies <- data.frame(name=c(\"Toy Story\",\"Akira\",\"The Breakfast Club\",\"The Artist\",\"Modern Times\",\n",
    "                            \"Fight Club\",\"City of God\",\"The Untouchables\"),\n",
    "                      year=c(1995,1998,1985,2011,1936,1999,2002,1987))\n",
    "movies"
   ]
  },
  {
   "cell_type": "code",
   "execution_count": 310,
   "metadata": {
    "vscode": {
     "languageId": "r"
    }
   },
   "outputs": [
    {
     "data": {
      "text/html": [
       "<table class=\"dataframe\">\n",
       "<caption>A data.frame: 8 × 1</caption>\n",
       "<thead>\n",
       "\t<tr><th scope=col>name</th></tr>\n",
       "\t<tr><th scope=col>&lt;chr&gt;</th></tr>\n",
       "</thead>\n",
       "<tbody>\n",
       "\t<tr><td>Toy Story         </td></tr>\n",
       "\t<tr><td>Akira             </td></tr>\n",
       "\t<tr><td>The Breakfast Club</td></tr>\n",
       "\t<tr><td>The Artist        </td></tr>\n",
       "\t<tr><td>Modern Times      </td></tr>\n",
       "\t<tr><td>Fight Club        </td></tr>\n",
       "\t<tr><td>City of God       </td></tr>\n",
       "\t<tr><td>The Untouchables  </td></tr>\n",
       "</tbody>\n",
       "</table>\n"
      ],
      "text/latex": [
       "A data.frame: 8 × 1\n",
       "\\begin{tabular}{l}\n",
       " name\\\\\n",
       " <chr>\\\\\n",
       "\\hline\n",
       "\t Toy Story         \\\\\n",
       "\t Akira             \\\\\n",
       "\t The Breakfast Club\\\\\n",
       "\t The Artist        \\\\\n",
       "\t Modern Times      \\\\\n",
       "\t Fight Club        \\\\\n",
       "\t City of God       \\\\\n",
       "\t The Untouchables  \\\\\n",
       "\\end{tabular}\n"
      ],
      "text/markdown": [
       "\n",
       "A data.frame: 8 × 1\n",
       "\n",
       "| name &lt;chr&gt; |\n",
       "|---|\n",
       "| Toy Story          |\n",
       "| Akira              |\n",
       "| The Breakfast Club |\n",
       "| The Artist         |\n",
       "| Modern Times       |\n",
       "| Fight Club         |\n",
       "| City of God        |\n",
       "| The Untouchables   |\n",
       "\n"
      ],
      "text/plain": [
       "  name              \n",
       "1 Toy Story         \n",
       "2 Akira             \n",
       "3 The Breakfast Club\n",
       "4 The Artist        \n",
       "5 Modern Times      \n",
       "6 Fight Club        \n",
       "7 City of God       \n",
       "8 The Untouchables  "
      ]
     },
     "metadata": {},
     "output_type": "display_data"
    },
    {
     "data": {
      "text/html": [
       "<table class=\"dataframe\">\n",
       "<caption>A data.frame: 1 × 2</caption>\n",
       "<thead>\n",
       "\t<tr><th></th><th scope=col>name</th><th scope=col>year</th></tr>\n",
       "\t<tr><th></th><th scope=col>&lt;chr&gt;</th><th scope=col>&lt;dbl&gt;</th></tr>\n",
       "</thead>\n",
       "<tbody>\n",
       "\t<tr><th scope=row>1</th><td>Toy Story</td><td>1995</td></tr>\n",
       "</tbody>\n",
       "</table>\n"
      ],
      "text/latex": [
       "A data.frame: 1 × 2\n",
       "\\begin{tabular}{r|ll}\n",
       "  & name & year\\\\\n",
       "  & <chr> & <dbl>\\\\\n",
       "\\hline\n",
       "\t1 & Toy Story & 1995\\\\\n",
       "\\end{tabular}\n"
      ],
      "text/markdown": [
       "\n",
       "A data.frame: 1 × 2\n",
       "\n",
       "| <!--/--> | name &lt;chr&gt; | year &lt;dbl&gt; |\n",
       "|---|---|---|\n",
       "| 1 | Toy Story | 1995 |\n",
       "\n"
      ],
      "text/plain": [
       "  name      year\n",
       "1 Toy Story 1995"
      ]
     },
     "metadata": {},
     "output_type": "display_data"
    },
    {
     "data": {
      "text/html": [
       "<style>\n",
       ".list-inline {list-style: none; margin:0; padding: 0}\n",
       ".list-inline>li {display: inline-block}\n",
       ".list-inline>li:not(:last-child)::after {content: \"\\00b7\"; padding: 0 .5ex}\n",
       "</style>\n",
       "<ol class=list-inline><li>1995</li><li>1998</li><li>1985</li><li>2011</li><li>1936</li><li>1999</li><li>2002</li><li>1987</li></ol>\n"
      ],
      "text/latex": [
       "\\begin{enumerate*}\n",
       "\\item 1995\n",
       "\\item 1998\n",
       "\\item 1985\n",
       "\\item 2011\n",
       "\\item 1936\n",
       "\\item 1999\n",
       "\\item 2002\n",
       "\\item 1987\n",
       "\\end{enumerate*}\n"
      ],
      "text/markdown": [
       "1. 1995\n",
       "2. 1998\n",
       "3. 1985\n",
       "4. 2011\n",
       "5. 1936\n",
       "6. 1999\n",
       "7. 2002\n",
       "8. 1987\n",
       "\n",
       "\n"
      ],
      "text/plain": [
       "[1] 1995 1998 1985 2011 1936 1999 2002 1987"
      ]
     },
     "metadata": {},
     "output_type": "display_data"
    },
    {
     "data": {
      "text/html": [
       "<table class=\"dataframe\">\n",
       "<caption>A data.frame: 6 × 2</caption>\n",
       "<thead>\n",
       "\t<tr><th></th><th scope=col>name</th><th scope=col>year</th></tr>\n",
       "\t<tr><th></th><th scope=col>&lt;chr&gt;</th><th scope=col>&lt;dbl&gt;</th></tr>\n",
       "</thead>\n",
       "<tbody>\n",
       "\t<tr><th scope=row>1</th><td>Toy Story         </td><td>1995</td></tr>\n",
       "\t<tr><th scope=row>2</th><td>Akira             </td><td>1998</td></tr>\n",
       "\t<tr><th scope=row>3</th><td>The Breakfast Club</td><td>1985</td></tr>\n",
       "\t<tr><th scope=row>4</th><td>The Artist        </td><td>2011</td></tr>\n",
       "\t<tr><th scope=row>5</th><td>Modern Times      </td><td>1936</td></tr>\n",
       "\t<tr><th scope=row>6</th><td>Fight Club        </td><td>1999</td></tr>\n",
       "</tbody>\n",
       "</table>\n"
      ],
      "text/latex": [
       "A data.frame: 6 × 2\n",
       "\\begin{tabular}{r|ll}\n",
       "  & name & year\\\\\n",
       "  & <chr> & <dbl>\\\\\n",
       "\\hline\n",
       "\t1 & Toy Story          & 1995\\\\\n",
       "\t2 & Akira              & 1998\\\\\n",
       "\t3 & The Breakfast Club & 1985\\\\\n",
       "\t4 & The Artist         & 2011\\\\\n",
       "\t5 & Modern Times       & 1936\\\\\n",
       "\t6 & Fight Club         & 1999\\\\\n",
       "\\end{tabular}\n"
      ],
      "text/markdown": [
       "\n",
       "A data.frame: 6 × 2\n",
       "\n",
       "| <!--/--> | name &lt;chr&gt; | year &lt;dbl&gt; |\n",
       "|---|---|---|\n",
       "| 1 | Toy Story          | 1995 |\n",
       "| 2 | Akira              | 1998 |\n",
       "| 3 | The Breakfast Club | 1985 |\n",
       "| 4 | The Artist         | 2011 |\n",
       "| 5 | Modern Times       | 1936 |\n",
       "| 6 | Fight Club         | 1999 |\n",
       "\n"
      ],
      "text/plain": [
       "  name               year\n",
       "1 Toy Story          1995\n",
       "2 Akira              1998\n",
       "3 The Breakfast Club 1985\n",
       "4 The Artist         2011\n",
       "5 Modern Times       1936\n",
       "6 Fight Club         1999"
      ]
     },
     "metadata": {},
     "output_type": "display_data"
    },
    {
     "data": {
      "text/html": [
       "<table class=\"dataframe\">\n",
       "<caption>A data.frame: 6 × 2</caption>\n",
       "<thead>\n",
       "\t<tr><th></th><th scope=col>name</th><th scope=col>year</th></tr>\n",
       "\t<tr><th></th><th scope=col>&lt;chr&gt;</th><th scope=col>&lt;dbl&gt;</th></tr>\n",
       "</thead>\n",
       "<tbody>\n",
       "\t<tr><th scope=row>3</th><td>The Breakfast Club</td><td>1985</td></tr>\n",
       "\t<tr><th scope=row>4</th><td>The Artist        </td><td>2011</td></tr>\n",
       "\t<tr><th scope=row>5</th><td>Modern Times      </td><td>1936</td></tr>\n",
       "\t<tr><th scope=row>6</th><td>Fight Club        </td><td>1999</td></tr>\n",
       "\t<tr><th scope=row>7</th><td>City of God       </td><td>2002</td></tr>\n",
       "\t<tr><th scope=row>8</th><td>The Untouchables  </td><td>1987</td></tr>\n",
       "</tbody>\n",
       "</table>\n"
      ],
      "text/latex": [
       "A data.frame: 6 × 2\n",
       "\\begin{tabular}{r|ll}\n",
       "  & name & year\\\\\n",
       "  & <chr> & <dbl>\\\\\n",
       "\\hline\n",
       "\t3 & The Breakfast Club & 1985\\\\\n",
       "\t4 & The Artist         & 2011\\\\\n",
       "\t5 & Modern Times       & 1936\\\\\n",
       "\t6 & Fight Club         & 1999\\\\\n",
       "\t7 & City of God        & 2002\\\\\n",
       "\t8 & The Untouchables   & 1987\\\\\n",
       "\\end{tabular}\n"
      ],
      "text/markdown": [
       "\n",
       "A data.frame: 6 × 2\n",
       "\n",
       "| <!--/--> | name &lt;chr&gt; | year &lt;dbl&gt; |\n",
       "|---|---|---|\n",
       "| 3 | The Breakfast Club | 1985 |\n",
       "| 4 | The Artist         | 2011 |\n",
       "| 5 | Modern Times       | 1936 |\n",
       "| 6 | Fight Club         | 1999 |\n",
       "| 7 | City of God        | 2002 |\n",
       "| 8 | The Untouchables   | 1987 |\n",
       "\n"
      ],
      "text/plain": [
       "  name               year\n",
       "3 The Breakfast Club 1985\n",
       "4 The Artist         2011\n",
       "5 Modern Times       1936\n",
       "6 Fight Club         1999\n",
       "7 City of God        2002\n",
       "8 The Untouchables   1987"
      ]
     },
     "metadata": {},
     "output_type": "display_data"
    }
   ],
   "source": [
    "#ways to call elements\n",
    "movies[1]\n",
    "movies[1,]\n",
    "movies$year\n",
    "\n",
    "#view head\n",
    "head(movies) #6 elements\n",
    "#view tail\n",
    "tail(movies)"
   ]
  },
  {
   "cell_type": "code",
   "execution_count": 311,
   "metadata": {
    "vscode": {
     "languageId": "r"
    }
   },
   "outputs": [
    {
     "name": "stdout",
     "output_type": "stream",
     "text": [
      "'data.frame':\t8 obs. of  2 variables:\n",
      " $ name: chr  \"Toy Story\" \"Akira\" \"The Breakfast Club\" \"The Artist\" ...\n",
      " $ year: num  1995 1998 1985 2011 1936 ...\n"
     ]
    }
   ],
   "source": [
    "#information about data frame\n",
    "\n",
    "#number of objects and it's variables\n",
    "str(movies)"
   ]
  },
  {
   "cell_type": "code",
   "execution_count": 312,
   "metadata": {
    "vscode": {
     "languageId": "r"
    }
   },
   "outputs": [
    {
     "data": {
      "text/html": [
       "<table class=\"dataframe\">\n",
       "<caption>A data.frame: 8 × 3</caption>\n",
       "<thead>\n",
       "\t<tr><th scope=col>name</th><th scope=col>year</th><th scope=col>length</th></tr>\n",
       "\t<tr><th scope=col>&lt;chr&gt;</th><th scope=col>&lt;dbl&gt;</th><th scope=col>&lt;dbl&gt;</th></tr>\n",
       "</thead>\n",
       "<tbody>\n",
       "\t<tr><td>Toy Story         </td><td>1995</td><td> 81</td></tr>\n",
       "\t<tr><td>Akira             </td><td>1998</td><td>125</td></tr>\n",
       "\t<tr><td>The Breakfast Club</td><td>1985</td><td> 97</td></tr>\n",
       "\t<tr><td>The Artist        </td><td>2011</td><td>100</td></tr>\n",
       "\t<tr><td>Modern Times      </td><td>1936</td><td> 87</td></tr>\n",
       "\t<tr><td>Fight Club        </td><td>1999</td><td>139</td></tr>\n",
       "\t<tr><td>City of God       </td><td>2002</td><td>130</td></tr>\n",
       "\t<tr><td>The Untouchables  </td><td>1987</td><td>119</td></tr>\n",
       "</tbody>\n",
       "</table>\n"
      ],
      "text/latex": [
       "A data.frame: 8 × 3\n",
       "\\begin{tabular}{lll}\n",
       " name & year & length\\\\\n",
       " <chr> & <dbl> & <dbl>\\\\\n",
       "\\hline\n",
       "\t Toy Story          & 1995 &  81\\\\\n",
       "\t Akira              & 1998 & 125\\\\\n",
       "\t The Breakfast Club & 1985 &  97\\\\\n",
       "\t The Artist         & 2011 & 100\\\\\n",
       "\t Modern Times       & 1936 &  87\\\\\n",
       "\t Fight Club         & 1999 & 139\\\\\n",
       "\t City of God        & 2002 & 130\\\\\n",
       "\t The Untouchables   & 1987 & 119\\\\\n",
       "\\end{tabular}\n"
      ],
      "text/markdown": [
       "\n",
       "A data.frame: 8 × 3\n",
       "\n",
       "| name &lt;chr&gt; | year &lt;dbl&gt; | length &lt;dbl&gt; |\n",
       "|---|---|---|\n",
       "| Toy Story          | 1995 |  81 |\n",
       "| Akira              | 1998 | 125 |\n",
       "| The Breakfast Club | 1985 |  97 |\n",
       "| The Artist         | 2011 | 100 |\n",
       "| Modern Times       | 1936 |  87 |\n",
       "| Fight Club         | 1999 | 139 |\n",
       "| City of God        | 2002 | 130 |\n",
       "| The Untouchables   | 1987 | 119 |\n",
       "\n"
      ],
      "text/plain": [
       "  name               year length\n",
       "1 Toy Story          1995  81   \n",
       "2 Akira              1998 125   \n",
       "3 The Breakfast Club 1985  97   \n",
       "4 The Artist         2011 100   \n",
       "5 Modern Times       1936  87   \n",
       "6 Fight Club         1999 139   \n",
       "7 City of God        2002 130   \n",
       "8 The Untouchables   1987 119   "
      ]
     },
     "metadata": {},
     "output_type": "display_data"
    },
    {
     "data": {
      "text/html": [
       "<table class=\"dataframe\">\n",
       "<caption>A data.frame: 9 × 3</caption>\n",
       "<thead>\n",
       "\t<tr><th scope=col>name</th><th scope=col>year</th><th scope=col>length</th></tr>\n",
       "\t<tr><th scope=col>&lt;chr&gt;</th><th scope=col>&lt;chr&gt;</th><th scope=col>&lt;chr&gt;</th></tr>\n",
       "</thead>\n",
       "<tbody>\n",
       "\t<tr><td>Toy Story         </td><td>1995</td><td>81 </td></tr>\n",
       "\t<tr><td>Akira             </td><td>1998</td><td>125</td></tr>\n",
       "\t<tr><td>The Breakfast Club</td><td>1985</td><td>97 </td></tr>\n",
       "\t<tr><td>The Artist        </td><td>2011</td><td>100</td></tr>\n",
       "\t<tr><td>Modern Times      </td><td>1936</td><td>87 </td></tr>\n",
       "\t<tr><td>Fight Club        </td><td>1999</td><td>139</td></tr>\n",
       "\t<tr><td>City of God       </td><td>2002</td><td>130</td></tr>\n",
       "\t<tr><td>The Untouchables  </td><td>1987</td><td>119</td></tr>\n",
       "\t<tr><td>Dr. Strangelove   </td><td>1964</td><td>94 </td></tr>\n",
       "</tbody>\n",
       "</table>\n"
      ],
      "text/latex": [
       "A data.frame: 9 × 3\n",
       "\\begin{tabular}{lll}\n",
       " name & year & length\\\\\n",
       " <chr> & <chr> & <chr>\\\\\n",
       "\\hline\n",
       "\t Toy Story          & 1995 & 81 \\\\\n",
       "\t Akira              & 1998 & 125\\\\\n",
       "\t The Breakfast Club & 1985 & 97 \\\\\n",
       "\t The Artist         & 2011 & 100\\\\\n",
       "\t Modern Times       & 1936 & 87 \\\\\n",
       "\t Fight Club         & 1999 & 139\\\\\n",
       "\t City of God        & 2002 & 130\\\\\n",
       "\t The Untouchables   & 1987 & 119\\\\\n",
       "\t Dr. Strangelove    & 1964 & 94 \\\\\n",
       "\\end{tabular}\n"
      ],
      "text/markdown": [
       "\n",
       "A data.frame: 9 × 3\n",
       "\n",
       "| name &lt;chr&gt; | year &lt;chr&gt; | length &lt;chr&gt; |\n",
       "|---|---|---|\n",
       "| Toy Story          | 1995 | 81  |\n",
       "| Akira              | 1998 | 125 |\n",
       "| The Breakfast Club | 1985 | 97  |\n",
       "| The Artist         | 2011 | 100 |\n",
       "| Modern Times       | 1936 | 87  |\n",
       "| Fight Club         | 1999 | 139 |\n",
       "| City of God        | 2002 | 130 |\n",
       "| The Untouchables   | 1987 | 119 |\n",
       "| Dr. Strangelove    | 1964 | 94  |\n",
       "\n"
      ],
      "text/plain": [
       "  name               year length\n",
       "1 Toy Story          1995 81    \n",
       "2 Akira              1998 125   \n",
       "3 The Breakfast Club 1985 97    \n",
       "4 The Artist         2011 100   \n",
       "5 Modern Times       1936 87    \n",
       "6 Fight Club         1999 139   \n",
       "7 City of God        2002 130   \n",
       "8 The Untouchables   1987 119   \n",
       "9 Dr. Strangelove    1964 94    "
      ]
     },
     "metadata": {},
     "output_type": "display_data"
    },
    {
     "data": {
      "text/html": [
       "<table class=\"dataframe\">\n",
       "<caption>A data.frame: 8 × 3</caption>\n",
       "<thead>\n",
       "\t<tr><th></th><th scope=col>name</th><th scope=col>year</th><th scope=col>length</th></tr>\n",
       "\t<tr><th></th><th scope=col>&lt;chr&gt;</th><th scope=col>&lt;chr&gt;</th><th scope=col>&lt;chr&gt;</th></tr>\n",
       "</thead>\n",
       "<tbody>\n",
       "\t<tr><th scope=row>1</th><td>Toy Story         </td><td>1995</td><td>81 </td></tr>\n",
       "\t<tr><th scope=row>2</th><td>Akira             </td><td>1998</td><td>125</td></tr>\n",
       "\t<tr><th scope=row>3</th><td>The Breakfast Club</td><td>1985</td><td>97 </td></tr>\n",
       "\t<tr><th scope=row>4</th><td>The Artist        </td><td>2011</td><td>100</td></tr>\n",
       "\t<tr><th scope=row>5</th><td>Modern Times      </td><td>1936</td><td>87 </td></tr>\n",
       "\t<tr><th scope=row>6</th><td>Fight Club        </td><td>1999</td><td>139</td></tr>\n",
       "\t<tr><th scope=row>7</th><td>City of God       </td><td>2002</td><td>130</td></tr>\n",
       "\t<tr><th scope=row>8</th><td>The Untouchables  </td><td>1987</td><td>119</td></tr>\n",
       "</tbody>\n",
       "</table>\n"
      ],
      "text/latex": [
       "A data.frame: 8 × 3\n",
       "\\begin{tabular}{r|lll}\n",
       "  & name & year & length\\\\\n",
       "  & <chr> & <chr> & <chr>\\\\\n",
       "\\hline\n",
       "\t1 & Toy Story          & 1995 & 81 \\\\\n",
       "\t2 & Akira              & 1998 & 125\\\\\n",
       "\t3 & The Breakfast Club & 1985 & 97 \\\\\n",
       "\t4 & The Artist         & 2011 & 100\\\\\n",
       "\t5 & Modern Times       & 1936 & 87 \\\\\n",
       "\t6 & Fight Club         & 1999 & 139\\\\\n",
       "\t7 & City of God        & 2002 & 130\\\\\n",
       "\t8 & The Untouchables   & 1987 & 119\\\\\n",
       "\\end{tabular}\n"
      ],
      "text/markdown": [
       "\n",
       "A data.frame: 8 × 3\n",
       "\n",
       "| <!--/--> | name &lt;chr&gt; | year &lt;chr&gt; | length &lt;chr&gt; |\n",
       "|---|---|---|---|\n",
       "| 1 | Toy Story          | 1995 | 81  |\n",
       "| 2 | Akira              | 1998 | 125 |\n",
       "| 3 | The Breakfast Club | 1985 | 97  |\n",
       "| 4 | The Artist         | 2011 | 100 |\n",
       "| 5 | Modern Times       | 1936 | 87  |\n",
       "| 6 | Fight Club         | 1999 | 139 |\n",
       "| 7 | City of God        | 2002 | 130 |\n",
       "| 8 | The Untouchables   | 1987 | 119 |\n",
       "\n"
      ],
      "text/plain": [
       "  name               year length\n",
       "1 Toy Story          1995 81    \n",
       "2 Akira              1998 125   \n",
       "3 The Breakfast Club 1985 97    \n",
       "4 The Artist         2011 100   \n",
       "5 Modern Times       1936 87    \n",
       "6 Fight Club         1999 139   \n",
       "7 City of God        2002 130   \n",
       "8 The Untouchables   1987 119   "
      ]
     },
     "metadata": {},
     "output_type": "display_data"
    },
    {
     "data": {
      "text/html": [
       "<table class=\"dataframe\">\n",
       "<caption>A data.frame: 8 × 2</caption>\n",
       "<thead>\n",
       "\t<tr><th></th><th scope=col>name</th><th scope=col>year</th></tr>\n",
       "\t<tr><th></th><th scope=col>&lt;chr&gt;</th><th scope=col>&lt;chr&gt;</th></tr>\n",
       "</thead>\n",
       "<tbody>\n",
       "\t<tr><th scope=row>1</th><td>Toy Story         </td><td>1995</td></tr>\n",
       "\t<tr><th scope=row>2</th><td>Akira             </td><td>1998</td></tr>\n",
       "\t<tr><th scope=row>3</th><td>The Breakfast Club</td><td>1985</td></tr>\n",
       "\t<tr><th scope=row>4</th><td>The Artist        </td><td>2011</td></tr>\n",
       "\t<tr><th scope=row>5</th><td>Modern Times      </td><td>1936</td></tr>\n",
       "\t<tr><th scope=row>6</th><td>Fight Club        </td><td>1999</td></tr>\n",
       "\t<tr><th scope=row>7</th><td>City of God       </td><td>2002</td></tr>\n",
       "\t<tr><th scope=row>8</th><td>The Untouchables  </td><td>1987</td></tr>\n",
       "</tbody>\n",
       "</table>\n"
      ],
      "text/latex": [
       "A data.frame: 8 × 2\n",
       "\\begin{tabular}{r|ll}\n",
       "  & name & year\\\\\n",
       "  & <chr> & <chr>\\\\\n",
       "\\hline\n",
       "\t1 & Toy Story          & 1995\\\\\n",
       "\t2 & Akira              & 1998\\\\\n",
       "\t3 & The Breakfast Club & 1985\\\\\n",
       "\t4 & The Artist         & 2011\\\\\n",
       "\t5 & Modern Times       & 1936\\\\\n",
       "\t6 & Fight Club         & 1999\\\\\n",
       "\t7 & City of God        & 2002\\\\\n",
       "\t8 & The Untouchables   & 1987\\\\\n",
       "\\end{tabular}\n"
      ],
      "text/markdown": [
       "\n",
       "A data.frame: 8 × 2\n",
       "\n",
       "| <!--/--> | name &lt;chr&gt; | year &lt;chr&gt; |\n",
       "|---|---|---|\n",
       "| 1 | Toy Story          | 1995 |\n",
       "| 2 | Akira              | 1998 |\n",
       "| 3 | The Breakfast Club | 1985 |\n",
       "| 4 | The Artist         | 2011 |\n",
       "| 5 | Modern Times       | 1936 |\n",
       "| 6 | Fight Club         | 1999 |\n",
       "| 7 | City of God        | 2002 |\n",
       "| 8 | The Untouchables   | 1987 |\n",
       "\n"
      ],
      "text/plain": [
       "  name               year\n",
       "1 Toy Story          1995\n",
       "2 Akira              1998\n",
       "3 The Breakfast Club 1985\n",
       "4 The Artist         2011\n",
       "5 Modern Times       1936\n",
       "6 Fight Club         1999\n",
       "7 City of God        2002\n",
       "8 The Untouchables   1987"
      ]
     },
     "metadata": {},
     "output_type": "display_data"
    }
   ],
   "source": [
    "#insert new column\n",
    "movies['length'] <- c(81,125,97,100,87,139,130,119)\n",
    "movies\n",
    "\n",
    "#insert new row\n",
    "movies <- rbind(movies, c(name= \"Dr. Strangelove\",\n",
    "                           year=1964, length=94))\n",
    "movies\n",
    "\n",
    "#delete a row\n",
    "movies <- movies[-9,]\n",
    "movies\n",
    "\n",
    "#delete a column\n",
    "movies['length'] <- NULL\n",
    "movies"
   ]
  },
  {
   "cell_type": "markdown",
   "metadata": {},
   "source": [
    "<h4>Summary</h4>\n",
    "\n",
    "-   A vector is a string of numbers, characters, or logical data.  \n",
    "\n",
    "-   Factors (also known as categorical variables) are variables that take on a limited number of different values that can be nominal or ordinal. \n",
    "\n",
    "-   You can use R to perform operations on a vector, such as sorting the items, finding the smallest or largest number, or performing arithmetic on its values. \n",
    "\n",
    "-   Lists can store different types of data, unlike vectors, which can only store data of a single type. \n",
    "\n",
    "-   An array is a single or multidimensional structure containing data of the same type (strings, characters, or integers)  \n",
    "\n",
    "-   A matrix is like an array but must be two-dimensional and can be arranged by columns or rows. \n",
    "\n",
    "-   The main difference between a data frame and other data structures, like a list, is that each variable has a VECTOR of elements of the same type."
   ]
  }
 ],
 "metadata": {
  "kernelspec": {
   "display_name": "R",
   "language": "R",
   "name": "ir"
  },
  "language_info": {
   "codemirror_mode": "r",
   "file_extension": ".r",
   "mimetype": "text/x-r-source",
   "name": "R",
   "pygments_lexer": "r",
   "version": "4.2.2"
  },
  "orig_nbformat": 4,
  "vscode": {
   "interpreter": {
    "hash": "aee8b7b246df8f9039afb4144a1f6fd8d2ca17a180786b69acc140d282b71a49"
   }
  }
 },
 "nbformat": 4,
 "nbformat_minor": 2
}
