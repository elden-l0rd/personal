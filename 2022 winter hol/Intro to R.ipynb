{
 "cells": [
  {
   "cell_type": "markdown",
   "metadata": {},
   "source": [
    "<h3>Vectors - Numeric, Character, Logical</h3>"
   ]
  },
  {
   "cell_type": "code",
   "execution_count": 58,
   "metadata": {
    "vscode": {
     "languageId": "r"
    }
   },
   "outputs": [
    {
     "data": {
      "text/html": [
       "<style>\n",
       ".list-inline {list-style: none; margin:0; padding: 0}\n",
       ".list-inline>li {display: inline-block}\n",
       ".list-inline>li:not(:last-child)::after {content: \"\\00b7\"; padding: 0 .5ex}\n",
       "</style>\n",
       "<ol class=list-inline><li>1995</li><li>1999</li><li>2010</li><li>2002</li></ol>\n"
      ],
      "text/latex": [
       "\\begin{enumerate*}\n",
       "\\item 1995\n",
       "\\item 1999\n",
       "\\item 2010\n",
       "\\item 2002\n",
       "\\end{enumerate*}\n"
      ],
      "text/markdown": [
       "1. 1995\n",
       "2. 1999\n",
       "3. 2010\n",
       "4. 2002\n",
       "\n",
       "\n"
      ],
      "text/plain": [
       "[1] 1995 1999 2010 2002"
      ]
     },
     "metadata": {},
     "output_type": "display_data"
    },
    {
     "data": {
      "text/html": [
       "<style>\n",
       ".list-inline {list-style: none; margin:0; padding: 0}\n",
       ".list-inline>li {display: inline-block}\n",
       ".list-inline>li:not(:last-child)::after {content: \"\\00b7\"; padding: 0 .5ex}\n",
       "</style>\n",
       "<ol class=list-inline><li>'Toy Story'</li><li>'Akira'</li><li>'The Artist'</li></ol>\n"
      ],
      "text/latex": [
       "\\begin{enumerate*}\n",
       "\\item 'Toy Story'\n",
       "\\item 'Akira'\n",
       "\\item 'The Artist'\n",
       "\\end{enumerate*}\n"
      ],
      "text/markdown": [
       "1. 'Toy Story'\n",
       "2. 'Akira'\n",
       "3. 'The Artist'\n",
       "\n",
       "\n"
      ],
      "text/plain": [
       "[1] \"Toy Story\"  \"Akira\"      \"The Artist\""
      ]
     },
     "metadata": {},
     "output_type": "display_data"
    },
    {
     "data": {
      "text/html": [
       "FALSE"
      ],
      "text/latex": [
       "FALSE"
      ],
      "text/markdown": [
       "FALSE"
      ],
      "text/plain": [
       "[1] FALSE"
      ]
     },
     "metadata": {},
     "output_type": "display_data"
    }
   ],
   "source": [
    "#Numeric\n",
    "c(1995,1999,2010,2002)\n",
    "\n",
    "#Character\n",
    "c(\"Toy Story\", \"Akira\", \"The Artist\")\n",
    "\n",
    "#Logical\n",
    "1997 > 2002 #false"
   ]
  },
  {
   "cell_type": "code",
   "execution_count": 59,
   "metadata": {
    "vscode": {
     "languageId": "r"
    }
   },
   "outputs": [
    {
     "data": {
      "text/html": [
       "<style>\n",
       ".list-inline {list-style: none; margin:0; padding: 0}\n",
       ".list-inline>li {display: inline-block}\n",
       ".list-inline>li:not(:last-child)::after {content: \"\\00b7\"; padding: 0 .5ex}\n",
       "</style>\n",
       "<ol class=list-inline><li>FALSE</li><li>TRUE</li><li>FALSE</li><li>TRUE</li><li>TRUE</li><li>TRUE</li><li>FALSE</li></ol>\n"
      ],
      "text/latex": [
       "\\begin{enumerate*}\n",
       "\\item FALSE\n",
       "\\item TRUE\n",
       "\\item FALSE\n",
       "\\item TRUE\n",
       "\\item TRUE\n",
       "\\item TRUE\n",
       "\\item FALSE\n",
       "\\end{enumerate*}\n"
      ],
      "text/markdown": [
       "1. FALSE\n",
       "2. TRUE\n",
       "3. FALSE\n",
       "4. TRUE\n",
       "5. TRUE\n",
       "6. TRUE\n",
       "7. FALSE\n",
       "\n",
       "\n"
      ],
      "text/plain": [
       "[1] FALSE  TRUE FALSE  TRUE  TRUE  TRUE FALSE"
      ]
     },
     "metadata": {},
     "output_type": "display_data"
    }
   ],
   "source": [
    "movie_ratings <- c(7.3,8.5,6.9,8.2,8.0,9.3,7.5)\n",
    "movie_ratings > 7.5 #checks every element in vector"
   ]
  },
  {
   "cell_type": "markdown",
   "metadata": {},
   "source": [
    "<h3>Factors (variables that can take on limited number of values)\n",
    "        eg. categorical variables (vs continuous variables: infinite no. of values)</h3>"
   ]
  },
  {
   "cell_type": "code",
   "execution_count": 60,
   "metadata": {
    "vscode": {
     "languageId": "r"
    }
   },
   "outputs": [
    {
     "data": {
      "text/html": [
       "<style>\n",
       ".list-inline {list-style: none; margin:0; padding: 0}\n",
       ".list-inline>li {display: inline-block}\n",
       ".list-inline>li:not(:last-child)::after {content: \"\\00b7\"; padding: 0 .5ex}\n",
       "</style>\n",
       "<ol class=list-inline><li>Comedy</li><li>Comedy</li><li>Animation</li><li>Crime</li></ol>\n",
       "\n",
       "<details>\n",
       "\t<summary style=display:list-item;cursor:pointer>\n",
       "\t\t<strong>Levels</strong>:\n",
       "\t</summary>\n",
       "\t<style>\n",
       "\t.list-inline {list-style: none; margin:0; padding: 0}\n",
       "\t.list-inline>li {display: inline-block}\n",
       "\t.list-inline>li:not(:last-child)::after {content: \"\\00b7\"; padding: 0 .5ex}\n",
       "\t</style>\n",
       "\t<ol class=list-inline><li>'Animation'</li><li>'Comedy'</li><li>'Crime'</li></ol>\n",
       "</details>"
      ],
      "text/latex": [
       "\\begin{enumerate*}\n",
       "\\item Comedy\n",
       "\\item Comedy\n",
       "\\item Animation\n",
       "\\item Crime\n",
       "\\end{enumerate*}\n",
       "\n",
       "\\emph{Levels}: \\begin{enumerate*}\n",
       "\\item 'Animation'\n",
       "\\item 'Comedy'\n",
       "\\item 'Crime'\n",
       "\\end{enumerate*}\n"
      ],
      "text/markdown": [
       "1. Comedy\n",
       "2. Comedy\n",
       "3. Animation\n",
       "4. Crime\n",
       "\n",
       "\n",
       "\n",
       "**Levels**: 1. 'Animation'\n",
       "2. 'Comedy'\n",
       "3. 'Crime'\n",
       "\n",
       "\n"
      ],
      "text/plain": [
       "[1] Comedy    Comedy    Animation Crime    \n",
       "Levels: Animation Comedy Crime"
      ]
     },
     "metadata": {},
     "output_type": "display_data"
    },
    {
     "data": {
      "text/plain": [
       "   Length     Class      Mode \n",
       "        4 character character "
      ]
     },
     "metadata": {},
     "output_type": "display_data"
    },
    {
     "data": {
      "text/html": [
       "<style>\n",
       ".dl-inline {width: auto; margin:0; padding: 0}\n",
       ".dl-inline>dt, .dl-inline>dd {float: none; width: auto; display: inline-block}\n",
       ".dl-inline>dt::after {content: \":\\0020\"; padding-right: .5ex}\n",
       ".dl-inline>dt:not(:first-of-type) {padding-left: .5ex}\n",
       "</style><dl class=dl-inline><dt>Animation</dt><dd>1</dd><dt>Comedy</dt><dd>2</dd><dt>Crime</dt><dd>1</dd></dl>\n"
      ],
      "text/latex": [
       "\\begin{description*}\n",
       "\\item[Animation] 1\n",
       "\\item[Comedy] 2\n",
       "\\item[Crime] 1\n",
       "\\end{description*}\n"
      ],
      "text/markdown": [
       "Animation\n",
       ":   1Comedy\n",
       ":   2Crime\n",
       ":   1\n",
       "\n"
      ],
      "text/plain": [
       "Animation    Comedy     Crime \n",
       "        1         2         1 "
      ]
     },
     "metadata": {},
     "output_type": "display_data"
    }
   ],
   "source": [
    "genre_vector <- c(\"Comedy\", \"Comedy\", \"Animation\", \"Crime\")\n",
    "genre_factor <- factor(genre_vector)\n",
    "genre_factor\n",
    "\n",
    "#Summarizing factors\n",
    "summary(genre_vector) #basic info abt structure and content\n",
    "summary(genre_factor) #no. of occurrences of each component categories"
   ]
  },
  {
   "cell_type": "markdown",
   "metadata": {},
   "source": [
    "<h3>Types of factors</h3>\n",
    "\n",
    "1. Nominal categorical variables have no implied order\n",
    "2. Ordinal variables have ordering"
   ]
  },
  {
   "cell_type": "code",
   "execution_count": 61,
   "metadata": {
    "vscode": {
     "languageId": "r"
    }
   },
   "outputs": [
    {
     "data": {
      "text/html": [
       "<style>\n",
       ".list-inline {list-style: none; margin:0; padding: 0}\n",
       ".list-inline>li {display: inline-block}\n",
       ".list-inline>li:not(:last-child)::after {content: \"\\00b7\"; padding: 0 .5ex}\n",
       "</style>\n",
       "<ol class=list-inline><li>'Very short'</li><li>'Short'</li><li>'Medium'</li><li>'Short'</li><li>'Long'</li><li>'Very Short'</li><li>'Very Long'</li></ol>\n"
      ],
      "text/latex": [
       "\\begin{enumerate*}\n",
       "\\item 'Very short'\n",
       "\\item 'Short'\n",
       "\\item 'Medium'\n",
       "\\item 'Short'\n",
       "\\item 'Long'\n",
       "\\item 'Very Short'\n",
       "\\item 'Very Long'\n",
       "\\end{enumerate*}\n"
      ],
      "text/markdown": [
       "1. 'Very short'\n",
       "2. 'Short'\n",
       "3. 'Medium'\n",
       "4. 'Short'\n",
       "5. 'Long'\n",
       "6. 'Very Short'\n",
       "7. 'Very Long'\n",
       "\n",
       "\n"
      ],
      "text/plain": [
       "[1] \"Very short\" \"Short\"      \"Medium\"     \"Short\"      \"Long\"      \n",
       "[6] \"Very Short\" \"Very Long\" "
      ]
     },
     "metadata": {},
     "output_type": "display_data"
    }
   ],
   "source": [
    "#Ordered factors\n",
    "movielength_vector <- c(\"Very short\", \"Short\", \"Medium\", \"Short\",\n",
    "                        \"Long\", \"Very Short\", \"Very Long\")\n",
    "movielength_vector"
   ]
  },
  {
   "cell_type": "code",
   "execution_count": 62,
   "metadata": {
    "vscode": {
     "languageId": "r"
    }
   },
   "outputs": [
    {
     "data": {
      "text/html": [
       "<style>\n",
       ".list-inline {list-style: none; margin:0; padding: 0}\n",
       ".list-inline>li {display: inline-block}\n",
       ".list-inline>li:not(:last-child)::after {content: \"\\00b7\"; padding: 0 .5ex}\n",
       "</style>\n",
       "<ol class=list-inline><li>Very short</li><li>Short</li><li>Medium</li><li>Short</li><li>Long</li><li>Very Short</li><li>Very Long</li></ol>\n",
       "\n",
       "<details>\n",
       "\t<summary style=display:list-item;cursor:pointer>\n",
       "\t\t<strong>Levels</strong>:\n",
       "\t</summary>\n",
       "\t<style>\n",
       "\t.list-inline {list-style: none; margin:0; padding: 0}\n",
       "\t.list-inline>li {display: inline-block}\n",
       "\t.list-inline>li:not(:last-child)::after {content: \"\\00b7\"; padding: 0 .5ex}\n",
       "\t</style>\n",
       "\t<ol class=list-inline><li>'Long'</li><li>'Medium'</li><li>'Short'</li><li>'Very Long'</li><li>'Very Short'</li><li>'Very short'</li></ol>\n",
       "</details>"
      ],
      "text/latex": [
       "\\begin{enumerate*}\n",
       "\\item Very short\n",
       "\\item Short\n",
       "\\item Medium\n",
       "\\item Short\n",
       "\\item Long\n",
       "\\item Very Short\n",
       "\\item Very Long\n",
       "\\end{enumerate*}\n",
       "\n",
       "\\emph{Levels}: \\begin{enumerate*}\n",
       "\\item 'Long'\n",
       "\\item 'Medium'\n",
       "\\item 'Short'\n",
       "\\item 'Very Long'\n",
       "\\item 'Very Short'\n",
       "\\item 'Very short'\n",
       "\\end{enumerate*}\n"
      ],
      "text/markdown": [
       "1. Very short\n",
       "2. Short\n",
       "3. Medium\n",
       "4. Short\n",
       "5. Long\n",
       "6. Very Short\n",
       "7. Very Long\n",
       "\n",
       "\n",
       "\n",
       "**Levels**: 1. 'Long'\n",
       "2. 'Medium'\n",
       "3. 'Short'\n",
       "4. 'Very Long'\n",
       "5. 'Very Short'\n",
       "6. 'Very short'\n",
       "\n",
       "\n"
      ],
      "text/plain": [
       "[1] Very short Short      Medium     Short      Long       Very Short Very Long \n",
       "Levels: Long Medium Short Very Long Very Short Very short"
      ]
     },
     "metadata": {},
     "output_type": "display_data"
    },
    {
     "data": {
      "text/html": [
       "<style>\n",
       ".list-inline {list-style: none; margin:0; padding: 0}\n",
       ".list-inline>li {display: inline-block}\n",
       ".list-inline>li:not(:last-child)::after {content: \"\\00b7\"; padding: 0 .5ex}\n",
       "</style>\n",
       "<ol class=list-inline><li>&lt;NA&gt;</li><li>Short</li><li>Medium</li><li>Short</li><li>Long</li><li>Very Short</li><li>Very Long</li></ol>\n",
       "\n",
       "<details>\n",
       "\t<summary style=display:list-item;cursor:pointer>\n",
       "\t\t<strong>Levels</strong>:\n",
       "\t</summary>\n",
       "\t<style>\n",
       "\t.list-inline {list-style: none; margin:0; padding: 0}\n",
       "\t.list-inline>li {display: inline-block}\n",
       "\t.list-inline>li:not(:last-child)::after {content: \"\\00b7\"; padding: 0 .5ex}\n",
       "\t</style>\n",
       "\t<ol class=list-inline><li>'Very Short'</li><li>'Short'</li><li>'Medium'</li><li>'Long'</li><li>'Very Long'</li></ol>\n",
       "</details>"
      ],
      "text/latex": [
       "\\begin{enumerate*}\n",
       "\\item <NA>\n",
       "\\item Short\n",
       "\\item Medium\n",
       "\\item Short\n",
       "\\item Long\n",
       "\\item Very Short\n",
       "\\item Very Long\n",
       "\\end{enumerate*}\n",
       "\n",
       "\\emph{Levels}: \\begin{enumerate*}\n",
       "\\item 'Very Short'\n",
       "\\item 'Short'\n",
       "\\item 'Medium'\n",
       "\\item 'Long'\n",
       "\\item 'Very Long'\n",
       "\\end{enumerate*}\n"
      ],
      "text/markdown": [
       "1. &lt;NA&gt;\n",
       "2. Short\n",
       "3. Medium\n",
       "4. Short\n",
       "5. Long\n",
       "6. Very Short\n",
       "7. Very Long\n",
       "\n",
       "\n",
       "\n",
       "**Levels**: 1. 'Very Short'\n",
       "2. 'Short'\n",
       "3. 'Medium'\n",
       "4. 'Long'\n",
       "5. 'Very Long'\n",
       "\n",
       "\n"
      ],
      "text/plain": [
       "[1] <NA>       Short      Medium     Short      Long       Very Short Very Long \n",
       "Levels: Very Short < Short < Medium < Long < Very Long"
      ]
     },
     "metadata": {},
     "output_type": "display_data"
    }
   ],
   "source": [
    "movielength_factor <- factor(movielength_vector)\n",
    "movielength_factor\n",
    "movielength_orderedfactor <- factor(movielength_vector,\n",
    "                                    ordered = TRUE,\n",
    "                                    levels = c(\"Very Short\", \"Short\", \"Medium\",\n",
    "                                                \"Long\", \"Very Long\"))\n",
    "movielength_orderedfactor"
   ]
  },
  {
   "cell_type": "markdown",
   "metadata": {},
   "source": [
    "<h3>Vector Operations</h3>\n",
    "\n",
    "1. Name the elements of vector\n",
    "2. Return the length of vector\n",
    "3. Sort vector\n",
    "4. Find smallest or largest number in vector\n",
    "5. Return ave of numbers in vector\n",
    "6. Return vector summary\n",
    "7. Index values in vector\n",
    "8. Identitfy missigng values in vector\n",
    "9. Perform arithmetic on values in vector"
   ]
  },
  {
   "cell_type": "code",
   "execution_count": 63,
   "metadata": {
    "vscode": {
     "languageId": "r"
    }
   },
   "outputs": [
    {
     "data": {
      "text/html": [
       "<strong>Black Swan:</strong> 2010"
      ],
      "text/latex": [
       "\\textbf{Black Swan:} 2010"
      ],
      "text/markdown": [
       "**Black Swan:** 2010"
      ],
      "text/plain": [
       "Black Swan \n",
       "      2010 "
      ]
     },
     "metadata": {},
     "output_type": "display_data"
    }
   ],
   "source": [
    "#names() function\n",
    "year <- c(1985, 1999, 2010, 2002)\n",
    "names(year) <- c(\"The Breakfast Club\", \"American Beauty\",\n",
    "                \"Black Swan\", \"Chicago\") #maps year and title together\n",
    "year['Black Swan']"
   ]
  },
  {
   "cell_type": "code",
   "execution_count": 64,
   "metadata": {
    "vscode": {
     "languageId": "r"
    }
   },
   "outputs": [
    {
     "data": {
      "text/html": [
       "4"
      ],
      "text/latex": [
       "4"
      ],
      "text/markdown": [
       "4"
      ],
      "text/plain": [
       "[1] 4"
      ]
     },
     "metadata": {},
     "output_type": "display_data"
    }
   ],
   "source": [
    "#length() function\n",
    "length(year)"
   ]
  },
  {
   "cell_type": "code",
   "execution_count": 65,
   "metadata": {
    "vscode": {
     "languageId": "r"
    }
   },
   "outputs": [
    {
     "data": {
      "text/html": [
       "<style>\n",
       ".dl-inline {width: auto; margin:0; padding: 0}\n",
       ".dl-inline>dt, .dl-inline>dd {float: none; width: auto; display: inline-block}\n",
       ".dl-inline>dt::after {content: \":\\0020\"; padding-right: .5ex}\n",
       ".dl-inline>dt:not(:first-of-type) {padding-left: .5ex}\n",
       "</style><dl class=dl-inline><dt>The Breakfast Club</dt><dd>1985</dd><dt>American Beauty</dt><dd>1999</dd><dt>Chicago</dt><dd>2002</dd><dt>Black Swan</dt><dd>2010</dd></dl>\n"
      ],
      "text/latex": [
       "\\begin{description*}\n",
       "\\item[The Breakfast Club] 1985\n",
       "\\item[American Beauty] 1999\n",
       "\\item[Chicago] 2002\n",
       "\\item[Black Swan] 2010\n",
       "\\end{description*}\n"
      ],
      "text/markdown": [
       "The Breakfast Club\n",
       ":   1985American Beauty\n",
       ":   1999Chicago\n",
       ":   2002Black Swan\n",
       ":   2010\n",
       "\n"
      ],
      "text/plain": [
       "The Breakfast Club    American Beauty            Chicago         Black Swan \n",
       "              1985               1999               2002               2010 "
      ]
     },
     "metadata": {},
     "output_type": "display_data"
    }
   ],
   "source": [
    "#sort() function\n",
    "sort(year)"
   ]
  },
  {
   "cell_type": "code",
   "execution_count": 66,
   "metadata": {
    "vscode": {
     "languageId": "r"
    }
   },
   "outputs": [
    {
     "data": {
      "text/html": [
       "1985"
      ],
      "text/latex": [
       "1985"
      ],
      "text/markdown": [
       "1985"
      ],
      "text/plain": [
       "[1] 1985"
      ]
     },
     "metadata": {},
     "output_type": "display_data"
    },
    {
     "data": {
      "text/html": [
       "2010"
      ],
      "text/latex": [
       "2010"
      ],
      "text/markdown": [
       "2010"
      ],
      "text/plain": [
       "[1] 2010"
      ]
     },
     "metadata": {},
     "output_type": "display_data"
    }
   ],
   "source": [
    "#min() max() function\n",
    "min(year)\n",
    "max(year)"
   ]
  },
  {
   "cell_type": "code",
   "execution_count": 67,
   "metadata": {
    "vscode": {
     "languageId": "r"
    }
   },
   "outputs": [
    {
     "data": {
      "text/html": [
       "8.4"
      ],
      "text/latex": [
       "8.4"
      ],
      "text/markdown": [
       "8.4"
      ],
      "text/plain": [
       "[1] 8.4"
      ]
     },
     "metadata": {},
     "output_type": "display_data"
    },
    {
     "data": {
      "text/html": [
       "8.4"
      ],
      "text/latex": [
       "8.4"
      ],
      "text/markdown": [
       "8.4"
      ],
      "text/plain": [
       "[1] 8.4"
      ]
     },
     "metadata": {},
     "output_type": "display_data"
    }
   ],
   "source": [
    "#mean() function\n",
    "cost_2014 <- c(8.6, 8.5, 8.1)\n",
    "mean(cost_2014)\n",
    "#or\n",
    "sum(cost_2014)/length(cost_2014)"
   ]
  },
  {
   "cell_type": "code",
   "execution_count": 68,
   "metadata": {
    "vscode": {
     "languageId": "r"
    }
   },
   "outputs": [
    {
     "data": {
      "text/plain": [
       "   Min. 1st Qu.  Median    Mean 3rd Qu.    Max. \n",
       "   8.10    8.30    8.50    8.40    8.55    8.60 "
      ]
     },
     "metadata": {},
     "output_type": "display_data"
    }
   ],
   "source": [
    "#summary() function\n",
    "summary(cost_2014)"
   ]
  },
  {
   "cell_type": "code",
   "execution_count": 69,
   "metadata": {
    "vscode": {
     "languageId": "r"
    }
   },
   "outputs": [
    {
     "data": {
      "text/html": [
       "8.5"
      ],
      "text/latex": [
       "8.5"
      ],
      "text/markdown": [
       "8.5"
      ],
      "text/plain": [
       "[1] 8.5"
      ]
     },
     "metadata": {},
     "output_type": "display_data"
    },
    {
     "data": {
      "text/html": [
       "<style>\n",
       ".list-inline {list-style: none; margin:0; padding: 0}\n",
       ".list-inline>li {display: inline-block}\n",
       ".list-inline>li:not(:last-child)::after {content: \"\\00b7\"; padding: 0 .5ex}\n",
       "</style>\n",
       "<ol class=list-inline><li>8.6</li><li>8.1</li></ol>\n"
      ],
      "text/latex": [
       "\\begin{enumerate*}\n",
       "\\item 8.6\n",
       "\\item 8.1\n",
       "\\end{enumerate*}\n"
      ],
      "text/markdown": [
       "1. 8.6\n",
       "2. 8.1\n",
       "\n",
       "\n"
      ],
      "text/plain": [
       "[1] 8.6 8.1"
      ]
     },
     "metadata": {},
     "output_type": "display_data"
    },
    {
     "data": {
      "text/html": [
       "<style>\n",
       ".list-inline {list-style: none; margin:0; padding: 0}\n",
       ".list-inline>li {display: inline-block}\n",
       ".list-inline>li:not(:last-child)::after {content: \"\\00b7\"; padding: 0 .5ex}\n",
       "</style>\n",
       "<ol class=list-inline><li>8.6</li><li>8.5</li><li>8.1</li></ol>\n"
      ],
      "text/latex": [
       "\\begin{enumerate*}\n",
       "\\item 8.6\n",
       "\\item 8.5\n",
       "\\item 8.1\n",
       "\\end{enumerate*}\n"
      ],
      "text/markdown": [
       "1. 8.6\n",
       "2. 8.5\n",
       "3. 8.1\n",
       "\n",
       "\n"
      ],
      "text/plain": [
       "[1] 8.6 8.5 8.1"
      ]
     },
     "metadata": {},
     "output_type": "display_data"
    },
    {
     "data": {
      "text/html": [
       "<style>\n",
       ".list-inline {list-style: none; margin:0; padding: 0}\n",
       ".list-inline>li {display: inline-block}\n",
       ".list-inline>li:not(:last-child)::after {content: \"\\00b7\"; padding: 0 .5ex}\n",
       "</style>\n",
       "<ol class=list-inline><li>'Black Swan'</li><li>'Casino'</li><li>'Jumanji'</li><li>'Toy Story'</li></ol>\n"
      ],
      "text/latex": [
       "\\begin{enumerate*}\n",
       "\\item 'Black Swan'\n",
       "\\item 'Casino'\n",
       "\\item 'Jumanji'\n",
       "\\item 'Toy Story'\n",
       "\\end{enumerate*}\n"
      ],
      "text/markdown": [
       "1. 'Black Swan'\n",
       "2. 'Casino'\n",
       "3. 'Jumanji'\n",
       "4. 'Toy Story'\n",
       "\n",
       "\n"
      ],
      "text/plain": [
       "[1] \"Black Swan\" \"Casino\"     \"Jumanji\"    \"Toy Story\" "
      ]
     },
     "metadata": {},
     "output_type": "display_data"
    },
    {
     "data": {
      "text/html": [
       "&lt;NA&gt;"
      ],
      "text/latex": [
       "<NA>"
      ],
      "text/markdown": [
       "&lt;NA&gt;"
      ],
      "text/plain": [
       "[1] NA"
      ]
     },
     "metadata": {},
     "output_type": "display_data"
    },
    {
     "data": {
      "text/html": [
       "<style>\n",
       ".list-inline {list-style: none; margin:0; padding: 0}\n",
       ".list-inline>li {display: inline-block}\n",
       ".list-inline>li:not(:last-child)::after {content: \"\\00b7\"; padding: 0 .5ex}\n",
       "</style>\n",
       "<ol class=list-inline><li>TRUE</li><li>TRUE</li><li>FALSE</li></ol>\n"
      ],
      "text/latex": [
       "\\begin{enumerate*}\n",
       "\\item TRUE\n",
       "\\item TRUE\n",
       "\\item FALSE\n",
       "\\end{enumerate*}\n"
      ],
      "text/markdown": [
       "1. TRUE\n",
       "2. TRUE\n",
       "3. FALSE\n",
       "\n",
       "\n"
      ],
      "text/plain": [
       "[1]  TRUE  TRUE FALSE"
      ]
     },
     "metadata": {},
     "output_type": "display_data"
    }
   ],
   "source": [
    "#vector index function\n",
    "cost_2014[2] #2nd element\n",
    "#or vector in []\n",
    "cost_2014[c(1,3)] #individual elements\n",
    "cost_2014[1:3] #range of elements to display\n",
    "\n",
    "#return -ve index values\n",
    "titles <- c(\"Black Swan\", \"Casino\", \"City of God\", \"Jumanji\", \"Toy Story\")\n",
    "titles[-3] #removes element in index 3\n",
    "\n",
    "#out of range\n",
    "cost_2014[100] #shows NA\n",
    "\n",
    "#conditional index\n",
    "cost_2014 > 8.2"
   ]
  },
  {
   "cell_type": "code",
   "execution_count": 70,
   "metadata": {
    "vscode": {
     "languageId": "r"
    }
   },
   "outputs": [
    {
     "data": {
      "text/html": [
       "<style>\n",
       ".list-inline {list-style: none; margin:0; padding: 0}\n",
       ".list-inline>li {display: inline-block}\n",
       ".list-inline>li:not(:last-child)::after {content: \"\\00b7\"; padding: 0 .5ex}\n",
       "</style>\n",
       "<ol class=list-inline><li>28</li><li>48</li><li>0</li><li>20</li><li>108</li><li>54</li></ol>\n"
      ],
      "text/latex": [
       "\\begin{enumerate*}\n",
       "\\item 28\n",
       "\\item 48\n",
       "\\item 0\n",
       "\\item 20\n",
       "\\item 108\n",
       "\\item 54\n",
       "\\end{enumerate*}\n"
      ],
      "text/markdown": [
       "1. 28\n",
       "2. 48\n",
       "3. 0\n",
       "4. 20\n",
       "5. 108\n",
       "6. 54\n",
       "\n",
       "\n"
      ],
      "text/plain": [
       "[1]  28  48   0  20 108  54"
      ]
     },
     "metadata": {},
     "output_type": "display_data"
    },
    {
     "data": {
      "text/html": [
       "<style>\n",
       ".list-inline {list-style: none; margin:0; padding: 0}\n",
       ".list-inline>li {display: inline-block}\n",
       ".list-inline>li:not(:last-child)::after {content: \"\\00b7\"; padding: 0 .5ex}\n",
       "</style>\n",
       "<ol class=list-inline><li>86</li><li>85</li><li>81</li></ol>\n"
      ],
      "text/latex": [
       "\\begin{enumerate*}\n",
       "\\item 86\n",
       "\\item 85\n",
       "\\item 81\n",
       "\\end{enumerate*}\n"
      ],
      "text/markdown": [
       "1. 86\n",
       "2. 85\n",
       "3. 81\n",
       "\n",
       "\n"
      ],
      "text/plain": [
       "[1] 86 85 81"
      ]
     },
     "metadata": {},
     "output_type": "display_data"
    }
   ],
   "source": [
    "#arithmetic done element wise\n",
    "\n",
    "age <- c(14,16,12,10,18,18)\n",
    "number <- c(2,3,0,2,6,3)\n",
    "multiply <- age*number\n",
    "multiply\n",
    "\n",
    "cost_2014 <- c(8.6, 8.5, 8.1)\n",
    "cost_2014*10"
   ]
  },
  {
   "cell_type": "markdown",
   "metadata": {},
   "source": [
    "<h3>Lists</h3>"
   ]
  },
  {
   "cell_type": "code",
   "execution_count": 71,
   "metadata": {
    "vscode": {
     "languageId": "r"
    }
   },
   "outputs": [
    {
     "data": {
      "text/html": [
       "<ol>\n",
       "\t<li>'Toy Story'</li>\n",
       "\t<li>1995</li>\n",
       "\t<li><style>\n",
       ".list-inline {list-style: none; margin:0; padding: 0}\n",
       ".list-inline>li {display: inline-block}\n",
       ".list-inline>li:not(:last-child)::after {content: \"\\00b7\"; padding: 0 .5ex}\n",
       "</style>\n",
       "<ol class=list-inline><li>'Animation'</li><li>'Adventure'</li><li>'Comedy'</li></ol>\n",
       "</li>\n",
       "</ol>\n"
      ],
      "text/latex": [
       "\\begin{enumerate}\n",
       "\\item 'Toy Story'\n",
       "\\item 1995\n",
       "\\item \\begin{enumerate*}\n",
       "\\item 'Animation'\n",
       "\\item 'Adventure'\n",
       "\\item 'Comedy'\n",
       "\\end{enumerate*}\n",
       "\n",
       "\\end{enumerate}\n"
      ],
      "text/markdown": [
       "1. 'Toy Story'\n",
       "2. 1995\n",
       "3. 1. 'Animation'\n",
       "2. 'Adventure'\n",
       "3. 'Comedy'\n",
       "\n",
       "\n",
       "\n",
       "\n",
       "\n"
      ],
      "text/plain": [
       "[[1]]\n",
       "[1] \"Toy Story\"\n",
       "\n",
       "[[2]]\n",
       "[1] 1995\n",
       "\n",
       "[[3]]\n",
       "[1] \"Animation\" \"Adventure\" \"Comedy\"   \n"
      ]
     },
     "metadata": {},
     "output_type": "display_data"
    },
    {
     "data": {
      "text/html": [
       "<ol>\n",
       "\t<li><style>\n",
       ".list-inline {list-style: none; margin:0; padding: 0}\n",
       ".list-inline>li {display: inline-block}\n",
       ".list-inline>li:not(:last-child)::after {content: \"\\00b7\"; padding: 0 .5ex}\n",
       "</style>\n",
       "<ol class=list-inline><li>'Animation'</li><li>'Adventure'</li><li>'Comedy'</li></ol>\n",
       "</li>\n",
       "</ol>\n"
      ],
      "text/latex": [
       "\\begin{enumerate}\n",
       "\\item \\begin{enumerate*}\n",
       "\\item 'Animation'\n",
       "\\item 'Adventure'\n",
       "\\item 'Comedy'\n",
       "\\end{enumerate*}\n",
       "\n",
       "\\end{enumerate}\n"
      ],
      "text/markdown": [
       "1. 1. 'Animation'\n",
       "2. 'Adventure'\n",
       "3. 'Comedy'\n",
       "\n",
       "\n",
       "\n",
       "\n",
       "\n"
      ],
      "text/plain": [
       "[[1]]\n",
       "[1] \"Animation\" \"Adventure\" \"Comedy\"   \n"
      ]
     },
     "metadata": {},
     "output_type": "display_data"
    }
   ],
   "source": [
    "movie <- list(\"Toy Story\", 1995, c(\"Animation\", \"Adventure\", \"Comedy\"))\n",
    "movie\n",
    "movie[3]"
   ]
  },
  {
   "cell_type": "code",
   "execution_count": 72,
   "metadata": {
    "vscode": {
     "languageId": "r"
    }
   },
   "outputs": [
    {
     "data": {
      "text/html": [
       "<dl>\n",
       "\t<dt>$name</dt>\n",
       "\t\t<dd>'Toy Story'</dd>\n",
       "\t<dt>$year</dt>\n",
       "\t\t<dd>1995</dd>\n",
       "\t<dt>$genre</dt>\n",
       "\t\t<dd><style>\n",
       ".list-inline {list-style: none; margin:0; padding: 0}\n",
       ".list-inline>li {display: inline-block}\n",
       ".list-inline>li:not(:last-child)::after {content: \"\\00b7\"; padding: 0 .5ex}\n",
       "</style>\n",
       "<ol class=list-inline><li>'Animation'</li><li>'Adventure'</li><li>'Comedy'</li></ol>\n",
       "</dd>\n",
       "</dl>\n"
      ],
      "text/latex": [
       "\\begin{description}\n",
       "\\item[\\$name] 'Toy Story'\n",
       "\\item[\\$year] 1995\n",
       "\\item[\\$genre] \\begin{enumerate*}\n",
       "\\item 'Animation'\n",
       "\\item 'Adventure'\n",
       "\\item 'Comedy'\n",
       "\\end{enumerate*}\n",
       "\n",
       "\\end{description}\n"
      ],
      "text/markdown": [
       "$name\n",
       ":   'Toy Story'\n",
       "$year\n",
       ":   1995\n",
       "$genre\n",
       ":   1. 'Animation'\n",
       "2. 'Adventure'\n",
       "3. 'Comedy'\n",
       "\n",
       "\n",
       "\n",
       "\n",
       "\n"
      ],
      "text/plain": [
       "$name\n",
       "[1] \"Toy Story\"\n",
       "\n",
       "$year\n",
       "[1] 1995\n",
       "\n",
       "$genre\n",
       "[1] \"Animation\" \"Adventure\" \"Comedy\"   \n"
      ]
     },
     "metadata": {},
     "output_type": "display_data"
    }
   ],
   "source": [
    "#Named Lists\n",
    "movie <- list(name=\"Toy Story\",\n",
    "              year=1995,\n",
    "              genre=c(\"Animation\", \"Adventure\", \"Comedy\"))\n",
    "movie"
   ]
  },
  {
   "cell_type": "code",
   "execution_count": 75,
   "metadata": {
    "vscode": {
     "languageId": "r"
    }
   },
   "outputs": [
    {
     "data": {
      "text/html": [
       "<style>\n",
       ".list-inline {list-style: none; margin:0; padding: 0}\n",
       ".list-inline>li {display: inline-block}\n",
       ".list-inline>li:not(:last-child)::after {content: \"\\00b7\"; padding: 0 .5ex}\n",
       "</style>\n",
       "<ol class=list-inline><li>'Animation'</li><li>'Adventure'</li><li>'Comedy'</li></ol>\n"
      ],
      "text/latex": [
       "\\begin{enumerate*}\n",
       "\\item 'Animation'\n",
       "\\item 'Adventure'\n",
       "\\item 'Comedy'\n",
       "\\end{enumerate*}\n"
      ],
      "text/markdown": [
       "1. 'Animation'\n",
       "2. 'Adventure'\n",
       "3. 'Comedy'\n",
       "\n",
       "\n"
      ],
      "text/plain": [
       "[1] \"Animation\" \"Adventure\" \"Comedy\"   "
      ]
     },
     "metadata": {},
     "output_type": "display_data"
    },
    {
     "data": {
      "text/html": [
       "<strong>$genre</strong> = <style>\n",
       ".list-inline {list-style: none; margin:0; padding: 0}\n",
       ".list-inline>li {display: inline-block}\n",
       ".list-inline>li:not(:last-child)::after {content: \"\\00b7\"; padding: 0 .5ex}\n",
       "</style>\n",
       "<ol class=list-inline><li>'Animation'</li><li>'Adventure'</li><li>'Comedy'</li></ol>\n"
      ],
      "text/latex": [
       "\\textbf{\\$genre} = \\begin{enumerate*}\n",
       "\\item 'Animation'\n",
       "\\item 'Adventure'\n",
       "\\item 'Comedy'\n",
       "\\end{enumerate*}\n"
      ],
      "text/markdown": [
       "**$genre** = 1. 'Animation'\n",
       "2. 'Adventure'\n",
       "3. 'Comedy'\n",
       "\n",
       "\n"
      ],
      "text/plain": [
       "$genre\n",
       "[1] \"Animation\" \"Adventure\" \"Comedy\"   \n"
      ]
     },
     "metadata": {},
     "output_type": "display_data"
    },
    {
     "name": "stdout",
     "output_type": "stream",
     "text": [
      "[1] \"Append new element:\"\n"
     ]
    },
    {
     "data": {
      "text/html": [
       "<dl>\n",
       "\t<dt>$name</dt>\n",
       "\t\t<dd>'Toy Story'</dd>\n",
       "\t<dt>$year</dt>\n",
       "\t\t<dd>1995</dd>\n",
       "\t<dt>$genre</dt>\n",
       "\t\t<dd><style>\n",
       ".list-inline {list-style: none; margin:0; padding: 0}\n",
       ".list-inline>li {display: inline-block}\n",
       ".list-inline>li:not(:last-child)::after {content: \"\\00b7\"; padding: 0 .5ex}\n",
       "</style>\n",
       "<ol class=list-inline><li>'Animation'</li><li>'Adventure'</li><li>'Comedy'</li></ol>\n",
       "</dd>\n",
       "\t<dt>$age</dt>\n",
       "\t\t<dd>22</dd>\n",
       "</dl>\n"
      ],
      "text/latex": [
       "\\begin{description}\n",
       "\\item[\\$name] 'Toy Story'\n",
       "\\item[\\$year] 1995\n",
       "\\item[\\$genre] \\begin{enumerate*}\n",
       "\\item 'Animation'\n",
       "\\item 'Adventure'\n",
       "\\item 'Comedy'\n",
       "\\end{enumerate*}\n",
       "\n",
       "\\item[\\$age] 22\n",
       "\\end{description}\n"
      ],
      "text/markdown": [
       "$name\n",
       ":   'Toy Story'\n",
       "$year\n",
       ":   1995\n",
       "$genre\n",
       ":   1. 'Animation'\n",
       "2. 'Adventure'\n",
       "3. 'Comedy'\n",
       "\n",
       "\n",
       "\n",
       "$age\n",
       ":   22\n",
       "\n",
       "\n"
      ],
      "text/plain": [
       "$name\n",
       "[1] \"Toy Story\"\n",
       "\n",
       "$year\n",
       "[1] 1995\n",
       "\n",
       "$genre\n",
       "[1] \"Animation\" \"Adventure\" \"Comedy\"   \n",
       "\n",
       "$age\n",
       "[1] 22\n"
      ]
     },
     "metadata": {},
     "output_type": "display_data"
    }
   ],
   "source": [
    "movie$genre\n",
    "#or\n",
    "movie[\"genre\"]\n",
    "\n",
    "print(\"Append new element:\")\n",
    "movie2=movie\n",
    "\n",
    "#appending new element to end of list\n",
    "movie2[\"age\"] <- 22\n",
    "movie2"
   ]
  },
  {
   "cell_type": "markdown",
   "metadata": {},
   "source": [
    "<h3>Arrays and Matrices</h3>"
   ]
  },
  {
   "cell_type": "code",
   "execution_count": 85,
   "metadata": {
    "vscode": {
     "languageId": "r"
    }
   },
   "outputs": [
    {
     "data": {
      "text/html": [
       "<table class=\"dataframe\">\n",
       "<caption>A matrix: 4 × 3 of type chr</caption>\n",
       "<tbody>\n",
       "\t<tr><td>Akira    </td><td>Whiplash  </td><td>Jumanji  </td></tr>\n",
       "\t<tr><td>Toy Story</td><td>Star Wars </td><td>Akira    </td></tr>\n",
       "\t<tr><td>Room     </td><td>The Ring  </td><td>Toy Story</td></tr>\n",
       "\t<tr><td>The Wave </td><td>The Artist</td><td>Room     </td></tr>\n",
       "</tbody>\n",
       "</table>\n"
      ],
      "text/latex": [
       "A matrix: 4 × 3 of type chr\n",
       "\\begin{tabular}{lll}\n",
       "\t Akira     & Whiplash   & Jumanji  \\\\\n",
       "\t Toy Story & Star Wars  & Akira    \\\\\n",
       "\t Room      & The Ring   & Toy Story\\\\\n",
       "\t The Wave  & The Artist & Room     \\\\\n",
       "\\end{tabular}\n"
      ],
      "text/markdown": [
       "\n",
       "A matrix: 4 × 3 of type chr\n",
       "\n",
       "| Akira     | Whiplash   | Jumanji   |\n",
       "| Toy Story | Star Wars  | Akira     |\n",
       "| Room      | The Ring   | Toy Story |\n",
       "| The Wave  | The Artist | Room      |\n",
       "\n"
      ],
      "text/plain": [
       "     [,1]      [,2]       [,3]     \n",
       "[1,] Akira     Whiplash   Jumanji  \n",
       "[2,] Toy Story Star Wars  Akira    \n",
       "[3,] Room      The Ring   Toy Story\n",
       "[4,] The Wave  The Artist Room     "
      ]
     },
     "metadata": {},
     "output_type": "display_data"
    },
    {
     "data": {
      "text/html": [
       "'The Ring'"
      ],
      "text/latex": [
       "'The Ring'"
      ],
      "text/markdown": [
       "'The Ring'"
      ],
      "text/plain": [
       "[1] \"The Ring\""
      ]
     },
     "metadata": {},
     "output_type": "display_data"
    },
    {
     "data": {
      "text/html": [
       "<style>\n",
       ".list-inline {list-style: none; margin:0; padding: 0}\n",
       ".list-inline>li {display: inline-block}\n",
       ".list-inline>li:not(:last-child)::after {content: \"\\00b7\"; padding: 0 .5ex}\n",
       "</style>\n",
       "<ol class=list-inline><li>'Akira'</li><li>'Whiplash'</li><li>'Jumanji'</li></ol>\n"
      ],
      "text/latex": [
       "\\begin{enumerate*}\n",
       "\\item 'Akira'\n",
       "\\item 'Whiplash'\n",
       "\\item 'Jumanji'\n",
       "\\end{enumerate*}\n"
      ],
      "text/markdown": [
       "1. 'Akira'\n",
       "2. 'Whiplash'\n",
       "3. 'Jumanji'\n",
       "\n",
       "\n"
      ],
      "text/plain": [
       "[1] \"Akira\"    \"Whiplash\" \"Jumanji\" "
      ]
     },
     "metadata": {},
     "output_type": "display_data"
    }
   ],
   "source": [
    "#Arrays\n",
    "movie_vector <- c(\"Akira\", \"Toy Story\", \"Room\", \"The Wave\", \"Whiplash\",\n",
    "                  \"Star Wars\", \"The Ring\", \"The Artist\", \"Jumanji\")\n",
    "movie_array <- array(movie_vector, dim=c(4,3))\n",
    "movie_array\n",
    "\n",
    "movie_array[3,2]\n",
    "movie_array[1,]"
   ]
  },
  {
   "cell_type": "code",
   "execution_count": 88,
   "metadata": {
    "vscode": {
     "languageId": "r"
    }
   },
   "outputs": [
    {
     "data": {
      "text/html": [
       "<table class=\"dataframe\">\n",
       "<caption>A matrix: 3 × 3 of type chr</caption>\n",
       "<tbody>\n",
       "\t<tr><td>Akira    </td><td>The Wave </td><td>The Ring  </td></tr>\n",
       "\t<tr><td>Toy Story</td><td>Whiplash </td><td>The Artist</td></tr>\n",
       "\t<tr><td>Room     </td><td>Star Wars</td><td>Jumanji   </td></tr>\n",
       "</tbody>\n",
       "</table>\n"
      ],
      "text/latex": [
       "A matrix: 3 × 3 of type chr\n",
       "\\begin{tabular}{lll}\n",
       "\t Akira     & The Wave  & The Ring  \\\\\n",
       "\t Toy Story & Whiplash  & The Artist\\\\\n",
       "\t Room      & Star Wars & Jumanji   \\\\\n",
       "\\end{tabular}\n"
      ],
      "text/markdown": [
       "\n",
       "A matrix: 3 × 3 of type chr\n",
       "\n",
       "| Akira     | The Wave  | The Ring   |\n",
       "| Toy Story | Whiplash  | The Artist |\n",
       "| Room      | Star Wars | Jumanji    |\n",
       "\n"
      ],
      "text/plain": [
       "     [,1]      [,2]      [,3]      \n",
       "[1,] Akira     The Wave  The Ring  \n",
       "[2,] Toy Story Whiplash  The Artist\n",
       "[3,] Room      Star Wars Jumanji   "
      ]
     },
     "metadata": {},
     "output_type": "display_data"
    },
    {
     "data": {
      "text/html": [
       "<table class=\"dataframe\">\n",
       "<caption>A matrix: 3 × 3 of type chr</caption>\n",
       "<tbody>\n",
       "\t<tr><td>Akira   </td><td>Toy Story </td><td>Room     </td></tr>\n",
       "\t<tr><td>The Wave</td><td>Whiplash  </td><td>Star Wars</td></tr>\n",
       "\t<tr><td>The Ring</td><td>The Artist</td><td>Jumanji  </td></tr>\n",
       "</tbody>\n",
       "</table>\n"
      ],
      "text/latex": [
       "A matrix: 3 × 3 of type chr\n",
       "\\begin{tabular}{lll}\n",
       "\t Akira    & Toy Story  & Room     \\\\\n",
       "\t The Wave & Whiplash   & Star Wars\\\\\n",
       "\t The Ring & The Artist & Jumanji  \\\\\n",
       "\\end{tabular}\n"
      ],
      "text/markdown": [
       "\n",
       "A matrix: 3 × 3 of type chr\n",
       "\n",
       "| Akira    | Toy Story  | Room      |\n",
       "| The Wave | Whiplash   | Star Wars |\n",
       "| The Ring | The Artist | Jumanji   |\n",
       "\n"
      ],
      "text/plain": [
       "     [,1]     [,2]       [,3]     \n",
       "[1,] Akira    Toy Story  Room     \n",
       "[2,] The Wave Whiplash   Star Wars\n",
       "[3,] The Ring The Artist Jumanji  "
      ]
     },
     "metadata": {},
     "output_type": "display_data"
    },
    {
     "data": {
      "text/html": [
       "'Star Wars'"
      ],
      "text/latex": [
       "'Star Wars'"
      ],
      "text/markdown": [
       "'Star Wars'"
      ],
      "text/plain": [
       "[1] \"Star Wars\""
      ]
     },
     "metadata": {},
     "output_type": "display_data"
    },
    {
     "data": {
      "text/html": [
       "<style>\n",
       ".list-inline {list-style: none; margin:0; padding: 0}\n",
       ".list-inline>li {display: inline-block}\n",
       ".list-inline>li:not(:last-child)::after {content: \"\\00b7\"; padding: 0 .5ex}\n",
       "</style>\n",
       "<ol class=list-inline><li>'Toy Story'</li><li>'Whiplash'</li><li>'The Artist'</li></ol>\n"
      ],
      "text/latex": [
       "\\begin{enumerate*}\n",
       "\\item 'Toy Story'\n",
       "\\item 'Whiplash'\n",
       "\\item 'The Artist'\n",
       "\\end{enumerate*}\n"
      ],
      "text/markdown": [
       "1. 'Toy Story'\n",
       "2. 'Whiplash'\n",
       "3. 'The Artist'\n",
       "\n",
       "\n"
      ],
      "text/plain": [
       "[1] \"Toy Story\"  \"Whiplash\"   \"The Artist\""
      ]
     },
     "metadata": {},
     "output_type": "display_data"
    }
   ],
   "source": [
    "#Matrices\n",
    "movie_vector <- c(\"Akira\", \"Toy Story\", \"Room\", \"The Wave\", \"Whiplash\",\n",
    "                  \"Star Wars\", \"The Ring\", \"The Artist\", \"Jumanji\")\n",
    "\n",
    "###        By default, matrix is arranged by columns!         ###\n",
    "\n",
    "movie_matrix <- matrix(movie_vector, nrow=3, ncol=3)\n",
    "movie_matrix2 <- matrix(movie_vector, nrow=3, ncol=3, byrow=TRUE)\n",
    "movie_matrix\n",
    "movie_matrix2\n",
    "\n",
    "movie_matrix[3,2]\n",
    "movie_matrix[2,]"
   ]
  }
 ],
 "metadata": {
  "kernelspec": {
   "display_name": "R",
   "language": "R",
   "name": "ir"
  },
  "language_info": {
   "codemirror_mode": "r",
   "file_extension": ".r",
   "mimetype": "text/x-r-source",
   "name": "R",
   "pygments_lexer": "r",
   "version": "4.2.2"
  },
  "orig_nbformat": 4,
  "vscode": {
   "interpreter": {
    "hash": "aee8b7b246df8f9039afb4144a1f6fd8d2ca17a180786b69acc140d282b71a49"
   }
  }
 },
 "nbformat": 4,
 "nbformat_minor": 2
}
